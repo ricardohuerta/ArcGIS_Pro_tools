{
 "cells": [
  {
   "cell_type": "code",
   "execution_count": null,
   "metadata": {},
   "outputs": [],
   "source": [
    "import arcpy\n",
    "import os\n",
    "import sys\n",
    "ws = r'C:\\Users\\Ricardo\\Desktop\\PCC\\Internship\\UpdatedCountyTaxLots\\TaxLots\\TaxLots.gdb'\n",
    "arcpy.env.workspace = ws"
   ]
  },
  {
   "cell_type": "code",
   "execution_count": null,
   "metadata": {},
   "outputs": [],
   "source": [
    "def unique_values(table, field):\n",
    "    with arcpy.da.SearchCursor(table, [field]) as cursor:\n",
    "    \n",
    "        return sorted({row[0] for row in cursor if row[0] != None})\n",
    "        del cursor"
   ]
  },
  {
   "cell_type": "code",
   "execution_count": null,
   "metadata": {},
   "outputs": [],
   "source": [
    "def sqlClause(termList, fc, fieldName):\n",
    "    owner_string = \"\"\n",
    "    for owner in termList:\n",
    "        if termList.index(owner) != len(termList) -1:\n",
    "            owner_string = owner_string + \"\"\"{field} = '{owner}' Or \"\"\".format(field = arcpy.AddFieldDelimiters(fc, fieldName), \n",
    "                                                                               owner = owner)\n",
    "        elif termList.index(owner) == len(termList) -1:\n",
    "            owner_string = owner_string + \"\"\"{field} = '{owner}'\"\"\".format(field = arcpy.AddFieldDelimiters(fc, fieldName), \n",
    "                                                                               owner = owner)\n",
    "    return owner_string"
   ]
  },
  {
   "cell_type": "code",
   "execution_count": null,
   "metadata": {},
   "outputs": [],
   "source": [
    "def removeTerms(OgList, removeList):\n",
    "    for item in removeList:\n",
    "        if item in OgList:\n",
    "            OgList.remove(item)\n",
    "    return OgList\n",
    "    "
   ]
  },
  {
   "cell_type": "code",
   "execution_count": null,
   "metadata": {},
   "outputs": [],
   "source": [
    "def narrowList(ogList):\n",
    "    ogList = [i for i in ogList if not ('ESTATE' in i or 'SUSAN' in i or 'LLC' in i or \n",
    "                                                'COMPANY' in i or 'ASSOC' in i or 'ASSN' in i or\n",
    "                                        'INC' in i or 'BANK' in i or 'CHURCH' in i or 'SOCIETY' in i or\n",
    "                                               'RAILWAY' in i or 'PRESBYTERIAN' in i or 'CORP' in i or\n",
    "                                       'FUND' in i)]\n",
    "    \n",
    "    removeList = [i for i in ogList if ('US' in i and not i.startswith('US'))]\n",
    "    \n",
    "    ogList = removeTerms(ogList, removeList)\n",
    "    \n",
    "    return ogList"
   ]
  },
  {
   "cell_type": "code",
   "execution_count": null,
   "metadata": {},
   "outputs": [],
   "source": [
    "def pubFind(myValues, searchTerms = ['USA', 'UNITED', 'STATE', 'OREGON', 'WASH', 'COUNTY', 'SKAMANIA', 'CITY', 'CDID', 'GOVERNMENT', 'SCHOOL', 'PUBLIC', 'PORT OF', 'METRO', 'DISTRICT']):\n",
    "    pubLand = []\n",
    "    myValues = [value.upper() for value in myValues]\n",
    "    \n",
    "    for owner in myValues:\n",
    "        for term in searchTerms:\n",
    "            if term in owner:\n",
    "                pubLand.append(owner)\n",
    "    \n",
    "    \n",
    "   \n",
    "    return pubLand"
   ]
  },
  {
   "cell_type": "code",
   "execution_count": null,
   "metadata": {},
   "outputs": [],
   "source": [
    "# Performed repair geometry onold parcels merge in ArcGis\n"
   ]
  },
  {
   "cell_type": "code",
   "execution_count": null,
   "metadata": {},
   "outputs": [],
   "source": [
    "# Creat point feature class from old_parcels_merge\n",
    "arcpy.FeatureToPoint_management('old_parcels_merge', 'oldParcelsPoints', 'INSIDE')"
   ]
  },
  {
   "cell_type": "code",
   "execution_count": null,
   "metadata": {},
   "outputs": [],
   "source": [
    "# Select only the points that are privately owned from that select points that intersect \n",
    "# with publicLands layer and spatial join with public lands to get owner information\n",
    "pointsIntersect = arcpy.SelectLayerByLocation_management('oldParcelsPoints', 'WITHIN', 'publicLandsFloodplain')\n",
    "privatePoints = arcpy.SelectLayerByAttribute_management(pointsIntersect, 'SUBSET_SELECTION', where_clause = \"\"\"PUB_PVT = 'PRIVATE'\"\"\")\n",
    "arcpy.CopyFeatures_management(privatePoints, 'privatePoints')"
   ]
  },
  {
   "cell_type": "code",
   "execution_count": null,
   "metadata": {},
   "outputs": [],
   "source": [
    "# Display unique owners in newly created layer\n",
    "owners = unique_values('privatePoints', 'Land_Owner')"
   ]
  },
  {
   "cell_type": "code",
   "execution_count": null,
   "metadata": {},
   "outputs": [],
   "source": []
  },
  {
   "cell_type": "code",
   "execution_count": null,
   "metadata": {},
   "outputs": [],
   "source": [
    "pubOwners = pubFind(owners)\n",
    "pubOwners = narrowList(pubOwners)"
   ]
  },
  {
   "cell_type": "code",
   "execution_count": null,
   "metadata": {},
   "outputs": [],
   "source": [
    "pubOwners = [i for i in pubOwners if not ('LEASED' in i)]"
   ]
  },
  {
   "cell_type": "code",
   "execution_count": null,
   "metadata": {},
   "outputs": [],
   "source": [
    "pubOwners"
   ]
  },
  {
   "cell_type": "code",
   "execution_count": null,
   "metadata": {},
   "outputs": [],
   "source": [
    "privOwners = removeTerms(owners, pubOwners)"
   ]
  },
  {
   "cell_type": "code",
   "execution_count": null,
   "metadata": {},
   "outputs": [],
   "source": [
    "badString = pubFind(privOwners, searchTerms = \"'\")"
   ]
  },
  {
   "cell_type": "code",
   "execution_count": null,
   "metadata": {},
   "outputs": [],
   "source": [
    "# Remove ' form any owners\n",
    "with arcpy.da.UpdateCursor('privatePoints', 'Land_Owner') as cursor:\n",
    "    for row in cursor:\n",
    "        if row[0] in badString:\n",
    "           \n",
    "            row[0] = row[0].replace(\"'\", \"\")\n",
    "        cursor.updateRow(row)\n",
    "    del cursor\n",
    "            "
   ]
  },
  {
   "cell_type": "code",
   "execution_count": null,
   "metadata": {},
   "outputs": [],
   "source": [
    "owners = unique_values('privatePoints', 'Land_Owner')\n",
    "pubOwners = pubFind(owners)\n",
    "pubOwners = narrowList(pubOwners)\n",
    "pubOwners = [i for i in pubOwners if not ('LEASED' in i)]\n",
    "privOwners = removeTerms(owners, pubOwners)\n",
    "badString = pubFind(privOwners, searchTerms = \"'\")\n",
    "print(badString)"
   ]
  },
  {
   "cell_type": "code",
   "execution_count": null,
   "metadata": {},
   "outputs": [],
   "source": [
    "# Refine private owners list further\n",
    "removePublicLands = ['COLUMBIA 9-1-1 COMMUNICATIONS DISTRICT', 'COLUMBIA HEALTH DISTRICT', 'COWLITZ VALLEY POST #1045',\n",
    "                    'HAZEL DELL SEWER DISTRICT', 'HOUSING AUTHORITY VANCOUVER', 'METRO(LEASED', 'METRO> & PORTLAND CITY OF>',\n",
    "                    'MULTNOMAH COUNTY TAX TITLE', 'MULTNOMAH COUNTY(LEASED', 'MULTNOMAH COUNTY(PERMIT', 'OREGON STATE OF (LEASED', \n",
    "                     'OREGON STATE OF(DIV OF STATE L', 'OREGON STATE OF(DVA', 'OREGON STATE OF(EASEMENT', 'OREGON STATE OF(ESMNT PGE & PO', \n",
    "                     'OREGON STATE OF(LEASED', 'OREGON STATE OF(LEASED AK MEDI', 'OREGON STATE OF(LEASED BELMONT', \n",
    "                     'OREGON STATE OF(LEASED GRAND &', 'OREGON STATE OF(LEASED PENSKE', 'OREGON STATE OF(LEASED PORTLAN', \n",
    "                     'OREGON STATE OF(LEASED RED LIO', 'OREGON STATE OF(LEASED SEQUOIA', 'OREGON STATE OF(LEASED SOLHEIM', \n",
    "                     'OREGON STATE OF(LEASED WINMAR', 'OREGON STATE(LEASED', 'PORT OF VANCOUVER CONT', 'PUBLIC', \n",
    "                     'PUBLIC HEALTH CARE SERVICES #3 OF PACI', 'PUD #1', 'PUBLIC', 'PUBLIC HEALTH CARE SERVICES #3 OF PACI', 'PUD #1',\n",
    "                      'U S A', 'UNITED STATES POSTAL SERVICE', 'UNITED STATES POSTAL SERVICE>', 'UNIVERSITY OF PORTLAND',\n",
    "                    'US NATURAL RESOURCES', 'WASH STATE DEPT OF WILDLIFE', 'WASHINGTON DEPT OF WILDLIFE']"
   ]
  },
  {
   "cell_type": "code",
   "execution_count": null,
   "metadata": {},
   "outputs": [],
   "source": [
    "privOwners = removeTerms(privOwners, removePublicLands)"
   ]
  },
  {
   "cell_type": "code",
   "execution_count": null,
   "metadata": {},
   "outputs": [],
   "source": [
    "print(privOwners)"
   ]
  },
  {
   "cell_type": "code",
   "execution_count": null,
   "metadata": {},
   "outputs": [],
   "source": [
    "sql = sqlClause(privOwners, 'privatePoints', 'Land_Owner')"
   ]
  },
  {
   "cell_type": "code",
   "execution_count": null,
   "metadata": {},
   "outputs": [],
   "source": [
    "# CReate Selection of public lands that contain private points\n",
    "# and spatial join together to get polygons that have been made public since last update\n",
    "publicSinceLastUpdate = arcpy.SelectLayerByAttribute_management('privatePoints', where_clause = sql)\n",
    "subSet = arcpy.SelectLayerByLocation_management('publicLandsFloodplain', 'COMPLETELY_CONTAINS', publicSinceLastUpdate)\n",
    "arcpy.SpatialJoin_analysis(subSet, 'privatePoints', 'publicizedLands', match_option = 'COMPLETELY_CONTAINS')"
   ]
  }
 ],
 "metadata": {
  "kernelspec": {
   "display_name": "Python 3",
   "language": "python",
   "name": "python3"
  },
  "language_info": {
   "codemirror_mode": {
    "name": "ipython",
    "version": 3
   },
   "file_extension": ".py",
   "mimetype": "text/x-python",
   "name": "python",
   "nbconvert_exporter": "python",
   "pygments_lexer": "ipython3",
   "version": "3.7.9"
  }
 },
 "nbformat": 4,
 "nbformat_minor": 4
}
