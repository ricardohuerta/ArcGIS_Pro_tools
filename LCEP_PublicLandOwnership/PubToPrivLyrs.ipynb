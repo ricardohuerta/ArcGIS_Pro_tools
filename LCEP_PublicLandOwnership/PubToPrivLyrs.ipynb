{
 "cells": [
  {
   "cell_type": "code",
   "execution_count": 1,
   "metadata": {},
   "outputs": [],
   "source": [
    "import arcpy\n",
    "import os\n",
    "import sys\n",
    "ws = r'C:\\Users\\Ricardo\\Desktop\\PCC\\Internship\\UpdatedCountyTaxLots\\TaxLots\\TaxLots.gdb'\n",
    "arcpy.env.workspace = ws"
   ]
  },
  {
   "cell_type": "code",
   "execution_count": 2,
   "metadata": {},
   "outputs": [],
   "source": [
    "def unique_values(table, field):\n",
    "    with arcpy.da.SearchCursor(table, [field]) as cursor:\n",
    "    \n",
    "        return sorted({row[0] for row in cursor if row[0] != None})"
   ]
  },
  {
   "cell_type": "code",
   "execution_count": 3,
   "metadata": {},
   "outputs": [],
   "source": [
    "def sqlClause(termList, fc, fieldName):\n",
    "    owner_string = \"\"\n",
    "    for owner in termList:\n",
    "        if termList.index(owner) != len(termList) -1:\n",
    "            owner_string = owner_string + \"\"\"{field} = '{owner}' Or \"\"\".format(field = arcpy.AddFieldDelimiters(fc, fieldName), \n",
    "                                                                               owner = owner)\n",
    "        elif termList.index(owner) == len(termList) -1:\n",
    "            owner_string = owner_string + \"\"\"{field} = '{owner}'\"\"\".format(field = arcpy.AddFieldDelimiters(fc, fieldName), \n",
    "                                                                               owner = owner)\n",
    "    return owner_string"
   ]
  },
  {
   "cell_type": "code",
   "execution_count": 4,
   "metadata": {},
   "outputs": [],
   "source": [
    "def sqlClause2(termList, fc, fieldName):\n",
    "    owner_string = '('\n",
    "    for owner in termList:\n",
    "        if termList.index(owner) != len(termList)-1:\n",
    "            owner_string = owner_string + \"{owner}, \".format(owner = owner)\n",
    "        elif termList.index(owner) == len(termList) -1 :\n",
    "            owner_string = owner_string + \"{owner}\".format(owner = owner)\n",
    "            \n",
    "    owner_string = owner_string + ')'\n",
    "    where_clause = \"\"\"{field} IN {string}\"\"\".format(field = arcpy.AddFieldDelimiters(fc, fieldName), string = owner_string)\n",
    "    return where_clause"
   ]
  },
  {
   "cell_type": "code",
   "execution_count": 5,
   "metadata": {},
   "outputs": [],
   "source": [
    "def removeTerms(OgList, removeList):\n",
    "    for item in removeList:\n",
    "        if item in OgList:\n",
    "            OgList.remove(item)\n",
    "    return OgList\n",
    "    "
   ]
  },
  {
   "cell_type": "code",
   "execution_count": 6,
   "metadata": {},
   "outputs": [],
   "source": [
    "def narrowList(ogList):\n",
    "    ogList = [i for i in ogList if not ('ESTATE' in i or 'SUSAN' in i or 'LLC' in i or \n",
    "                                                'COMPANY' in i or 'ASSOC' in i or 'ASSN' in i or\n",
    "                                        'INC' in i or 'BANK' in i or 'CHURCH' in i or 'SOCIETY' in i or\n",
    "                                               'RAILWAY' in i or 'PRESBYTERIAN' in i or 'CORP' in i or\n",
    "                                       'FUND' in i)]\n",
    "    \n",
    "    removeList = [i for i in ogList if ('US' in i and not i.startswith('US'))]\n",
    "    \n",
    "    ogList = removeTerms(ogList, removeList)\n",
    "    \n",
    "    return ogList"
   ]
  },
  {
   "cell_type": "code",
   "execution_count": 7,
   "metadata": {},
   "outputs": [],
   "source": [
    "def pubFind(myValues, searchTerms = ['USA', 'UNITED', 'STATE', 'OREGON', 'WASH', 'COUNTY', 'SKAMANIA', 'CITY', 'CDID', 'GOVERNMENT', 'SCHOOL', 'PUBLIC', 'PORT OF', 'METRO', 'DISTRICT']):\n",
    "    pubLand = []\n",
    "    myValues = [value.upper() for value in myValues]\n",
    "    \n",
    "    for owner in myValues:\n",
    "        for term in searchTerms:\n",
    "            if term in owner:\n",
    "                pubLand.append(owner)\n",
    "    \n",
    "    \n",
    "   \n",
    "    return pubLand"
   ]
  },
  {
   "cell_type": "code",
   "execution_count": 8,
   "metadata": {},
   "outputs": [],
   "source": [
    "#Completed Repair Geometry in ArcGis"
   ]
  },
  {
   "cell_type": "code",
   "execution_count": 9,
   "metadata": {},
   "outputs": [
    {
     "data": {
      "text/html": [
       "<h2>Output</h2>C:\\Users\\Ricardo\\Desktop\\PCC\\Internship\\UpdatedCountyTaxLots\\TaxLots\\TaxLots.gdb\\parcelPoints<h2>Messages</h2>Start Time: Wednesday, December 2, 2020 11:44:39 AM<br/>Succeeded at Wednesday, December 2, 2020 11:45:27 AM (Elapsed Time: 48.55 seconds)<br/><style>.rendered_html td, .rendered_html th {text-align: left;}.rendered_html tbody {border: 1px solid black;}</style>"
      ],
      "text/plain": [
       "<Result 'C:\\\\Users\\\\Ricardo\\\\Desktop\\\\PCC\\\\Internship\\\\UpdatedCountyTaxLots\\\\TaxLots\\\\TaxLots.gdb\\\\parcelPoints'>"
      ]
     },
     "execution_count": 9,
     "metadata": {},
     "output_type": "execute_result"
    }
   ],
   "source": [
    "# Create point feature class from county_merge\n",
    "arcpy.FeatureToPoint_management('county_merge', 'parcelPoints', 'INSIDE')"
   ]
  },
  {
   "cell_type": "code",
   "execution_count": 10,
   "metadata": {},
   "outputs": [
    {
     "data": {
      "text/html": [
       "<h2>Output</h2>C:\\Users\\Ricardo\\Desktop\\PCC\\Internship\\UpdatedCountyTaxLots\\TaxLots\\TaxLots.gdb\\ownerOverTime<h2>Messages</h2>Start Time: Wednesday, December 2, 2020 11:45:32 AM<br/>Succeeded at Wednesday, December 2, 2020 11:45:35 AM (Elapsed Time: 2.15 seconds)<br/><style>.rendered_html td, .rendered_html th {text-align: left;}.rendered_html tbody {border: 1px solid black;}</style>"
      ],
      "text/plain": [
       "<Result 'C:\\\\Users\\\\Ricardo\\\\Desktop\\\\PCC\\\\Internship\\\\UpdatedCountyTaxLots\\\\TaxLots\\\\TaxLots.gdb\\\\ownerOverTime'>"
      ]
     },
     "execution_count": 10,
     "metadata": {},
     "output_type": "execute_result"
    }
   ],
   "source": [
    "# Create selection of public lands that intersects with Keith's original layer\n",
    "# and spatial join together so we can get past ownership information\n",
    "ownerOvrTime = arcpy.SelectLayerByLocation_management('parcelPoints', 'WITHIN', 'pub_pvt_exportpub_wm_Project')\n",
    "arcpy.SpatialJoin_analysis(ownerOvrTime, 'pub_pvt_exportpub_wm_Project', 'ownerOverTime')"
   ]
  },
  {
   "cell_type": "code",
   "execution_count": null,
   "metadata": {},
   "outputs": [],
   "source": []
  },
  {
   "cell_type": "code",
   "execution_count": 11,
   "metadata": {},
   "outputs": [
    {
     "data": {
      "text/html": [
       "<h2>Output</h2>C:\\Users\\Ricardo\\Desktop\\PCC\\Internship\\UpdatedCountyTaxLots\\TaxLots\\TaxLots.gdb\\interimPrivate<h2>Messages</h2>Start Time: Wednesday, December 2, 2020 11:45:36 AM<br/>Succeeded at Wednesday, December 2, 2020 11:45:37 AM (Elapsed Time: 1.08 seconds)<br/><style>.rendered_html td, .rendered_html th {text-align: left;}.rendered_html tbody {border: 1px solid black;}</style>"
      ],
      "text/plain": [
       "<Result 'C:\\\\Users\\\\Ricardo\\\\Desktop\\\\PCC\\\\Internship\\\\UpdatedCountyTaxLots\\\\TaxLots\\\\TaxLots.gdb\\\\interimPrivate'>"
      ]
     },
     "execution_count": 11,
     "metadata": {},
     "output_type": "execute_result"
    }
   ],
   "source": [
    "# Select all the lands that do not meet the criteria for public ownership from the newly created layer\n",
    "privLands = arcpy.SelectLayerByAttribute_management('ownerOverTime', where_clause = \"PublicLand = 'F'\")\n",
    "arcpy.CopyFeatures_management(privLands, 'interimPrivate')\n"
   ]
  },
  {
   "cell_type": "code",
   "execution_count": 12,
   "metadata": {},
   "outputs": [],
   "source": [
    "# Display unique owners in newly created layer\n",
    "owners = unique_values('interimPrivate', 'Land_Owner')"
   ]
  },
  {
   "cell_type": "code",
   "execution_count": 13,
   "metadata": {},
   "outputs": [],
   "source": [
    "# Search for publicly owned lands that did not meet the criteria\n",
    "pubOwners = pubFind(owners)\n",
    "pubOwners = narrowList(pubOwners)"
   ]
  },
  {
   "cell_type": "code",
   "execution_count": 14,
   "metadata": {},
   "outputs": [
    {
     "name": "stdout",
     "output_type": "stream",
     "text": [
      "['ASTORIA CITY OF', 'BEACON HILL WATER/SEWER DISTRICT', 'CENTRAL CITY CONCERN', 'CITY OF CAMAS', 'CITY OF VANCOUVER', 'CITY OF WASHOUGAL', 'CITY OF WASHOUGAL', 'CLARK COUNTY PUBLIC WORKS', 'CLARK COUNTY PUBLIC WORKS', 'CLARK COUNTY PUBLIC WORKS OPERATIONS CENTER', 'CLARK COUNTY PUBLIC WORKS OPERATIONS CENTER', 'COL CO AD SCHOOL DIST 502-ST HELENS', 'COLUMBIA COUNTY HABITAT FOR HUMANITY', 'COLUMBIA COUNTY SHRINE CLUB', 'COWLITZ COUNTY CASA', 'COWLITZ COUNTY PUD', 'KALAMA PORT OF', 'LEXINGTON FLOOD CONTROL ZONE DISTRICT', 'LONGVIEW CITY OF', 'METRO & PORT OF PORTLAND-CI', 'METRO & PORT OF PORTLAND-CI', 'METRO (COLUMBIA PIONEER CEMETERY', 'METRO (GLEASON BOAT RAMP', 'METRO (POWELL GROVE CEMETERY', 'MULTNOMAH COUNTY DRAINAGE DISTRICT #1', 'MULTNOMAH COUNTY DRAINAGE DISTRICT #1', 'MULTNOMAH COUNTY LIBRARY DISTRICT', 'MULTNOMAH COUNTY LIBRARY DISTRICT', 'MULTNOMAH COUNTY SCHOOL DIST #3', 'MULTNOMAH COUNTY SCHOOL DIST #3', 'MULTNOMAH COUNTY SCHOOL DIST NO 3', 'MULTNOMAH COUNTY SCHOOL DIST NO 3', 'MULTNOMAH COUNTY SCHOOL DISTRICT NO 3', 'MULTNOMAH COUNTY SCHOOL DISTRICT NO 3', 'MULTNOMAH COUNTY SCHOOL DISTRICT NO 3', 'MULTNOMAH EDUCATION SERVICE DISTRICT', 'OREGON DIST COUNCIL ASSEMBLY', 'OREGON STATE OF STATE HIGHWAY', 'OREGON STATE OF STATE HIGHWAY', 'PORT DISTRICT #2', 'PORT OF CAMAS WASHOUGAL', 'PORT OF CAMAS WASHOUGAL', 'PORT OF PORTLAND', 'PORT OF PORTLAND-1/2', 'PORT OF VANCOUVER', 'PORT OF WOODLAND', 'PORTLAND CITY OF', 'PORTLAND CITY OF PDC', 'REYNOLDS SCHOOL DISTRICT #7', 'REYNOLDS SCHOOL DISTRICT #7', 'SAFE OF COLUMBIA COUNTY', 'SKAMANIA COUNTY PUD #1', 'SKAMANIA COUNTY PUD #1', 'STATE OF WA HWY #12', 'THE PORT OF PORTLAND', 'TROUTDALE CITY OF', 'UNITED STATES OF AMERICA BPA', 'UNITED STATES OF AMERICA BPA', 'WARRENTON CITY OF', 'WASHINGTON SCHOOL FOR THE DEAF', 'WASHINGTON SCHOOL FOR THE DEAF', 'WOODLAND PORT OF']\n"
     ]
    }
   ],
   "source": [
    "print(pubOwners)"
   ]
  },
  {
   "cell_type": "code",
   "execution_count": 15,
   "metadata": {},
   "outputs": [],
   "source": [
    "removeList = ['CENTRAL CITY CONCERN','COLUMBIA COUNTY HABITAT FOR HUMANITY', 'COLUMBIA COUNTY SHRINE CLUB', 'COWLITZ COUNTY CASA',\n",
    "             'FIRST ASSEMBLY OF GOD COWLITZ COUNTY', 'OCF JOSEPH E WESTON PUBLIC FOUNDATION', 'SAFE OF COLUMBIA COUNTY', 'UNITED STATES GYPSUM', \n",
    "              'UNITED STATES GYPSUM', 'UNITED STATES OF AMERICA BPA', 'UNITED STATES OF AMERICA BPA', 'UNITED TELEPHONE CO NW', 'WASHBURN CLINTON C & MARCIA J', \n",
    "              'WASHINGTON SCHOOL FOR THE DEAF', 'WASHINGTON SCHOOL FOR THE DEAF', 'WASHINGTON TAMMY L']"
   ]
  },
  {
   "cell_type": "code",
   "execution_count": 16,
   "metadata": {},
   "outputs": [],
   "source": [
    "pubOwners = removeTerms(pubOwners, removeList)"
   ]
  },
  {
   "cell_type": "code",
   "execution_count": 17,
   "metadata": {},
   "outputs": [],
   "source": [
    "privOwners = removeTerms(owners, pubOwners)"
   ]
  },
  {
   "cell_type": "code",
   "execution_count": 18,
   "metadata": {},
   "outputs": [],
   "source": [
    "pubOwners = pubOwners + [' ',  'BONNEVILLE POWER ADMINISTRATION', 'CDID #1', 'CDID #15', 'CDID #2', 'CDID #3', 'COWLITZ CO FIRE DIST #1', 'COWLITZ CO FIRE DIST #2 ETAL', 'COWLITZ CO FIRE DIST #5', \n",
    "                         'COWLITZ CO RURAL FIRE DIST#2', 'COWLITZ CO FIRE DIST #5', 'PUD #1']"
   ]
  },
  {
   "cell_type": "code",
   "execution_count": 19,
   "metadata": {},
   "outputs": [],
   "source": [
    "privOwners = removeTerms(owners, pubOwners)"
   ]
  },
  {
   "cell_type": "code",
   "execution_count": 20,
   "metadata": {},
   "outputs": [
    {
     "data": {
      "text/plain": [
       "['1115 SW 11TH AVENUE LP',\n",
       " '5959 VAN ALSTINE ASSOCIATES',\n",
       " 'ACHESON JOHN & MIWA',\n",
       " 'AGUILAR MICHAEL A',\n",
       " 'AMPE JAMES J',\n",
       " 'ANDREY V GOLDINOV',\n",
       " 'ASPMO EDSEL G TRUST',\n",
       " 'ASTORIA NORTHWEST HOMES INC',\n",
       " 'AUSTIN JONATHON E/VICTORIA M',\n",
       " 'AUTOZONE DEVELOPMENT CORP',\n",
       " 'AVI ENTERPRISES LLC',\n",
       " 'BAUB JESSICA L/DUFF DENNIS D JR',\n",
       " 'BECK GERALD R ETUX',\n",
       " 'BHRE-OREGON LLC',\n",
       " 'BIG BEAMS LLC',\n",
       " 'BOBEK FAMILY LLC',\n",
       " 'BOEHM TIM & PAM',\n",
       " 'BOOTH TROY L',\n",
       " 'BROLIN-WARRENTON LLC',\n",
       " 'BURBACH RANDALL S',\n",
       " 'BURKLEO THOMAS O',\n",
       " 'BURLINGTON NORTHERN INC (NP)',\n",
       " 'CENTRAL CITY CONCERN',\n",
       " 'CFT NV DEVELOPMENTS LLC',\n",
       " 'CLATSOP COMMUNITY COLLEGE',\n",
       " 'COAST JAC LLC',\n",
       " 'COLUMBIA COUNTY HABITAT FOR HUMANITY',\n",
       " 'COLUMBIA COUNTY HABITAT FOR HUMANITY INC',\n",
       " 'COLUMBIA COUNTY LEGAL AIDE INC',\n",
       " 'COLUMBIA COUNTY SELF HELP INC',\n",
       " 'COLUMBIA COUNTY SELF-HELP INC',\n",
       " 'COLUMBIA COUNTY SHRINE CLUB',\n",
       " 'COLUMBIA LUTHERAN CHARITIES',\n",
       " 'COLUMBIA WELLNESS',\n",
       " 'CONTRERAS CALIXTO ETUX',\n",
       " 'COSTCO WHOLESALE CORPORATION',\n",
       " 'COUCH STREET LLC',\n",
       " 'COWLITZ COUNTY CASA',\n",
       " 'COWLITZ INDIAN TRIBE',\n",
       " 'DAWLEY JOANN LESSEE',\n",
       " 'DBG HOLDING LLC',\n",
       " 'DYKEMAN JAY/EVANGELINE GO',\n",
       " 'EDWARDS THEODORA',\n",
       " 'ENGBLOM GENE',\n",
       " 'EPSTEIN TERESA',\n",
       " 'ESCO CORPORATION',\n",
       " 'FARMER RUSS L',\n",
       " 'FIBRE FEDERAL CREDIT UNION',\n",
       " 'FORT CLATSOP HISTORICAL ASSOC',\n",
       " 'GEORGE & KAREN MIKKOLA',\n",
       " 'GOODWILL INDUSTRIES',\n",
       " 'GROTH BRENT',\n",
       " 'GUNDERSON WILLIAM F',\n",
       " 'HACKETT LEROY H',\n",
       " 'HAGUE GEORGE B',\n",
       " 'HAWAII ERS TIMBERLAND LLC',\n",
       " 'HEINER DAN W',\n",
       " 'HIGH-LEVEL LLC',\n",
       " 'HOPPER KARIN L',\n",
       " 'HURFORD DEAN & HURFORD MARCIA',\n",
       " 'HYKE DARLISS L',\n",
       " 'JOHN A & BECKY S OLSEN',\n",
       " 'JOHNSON BILLY G',\n",
       " 'JOHNSON T H/ I J 1/4 ET AL',\n",
       " 'KENNEDY MARTIN M & DAWNA M',\n",
       " 'KIDD I CAMPBELL IV',\n",
       " 'KNOTT STREET LLC',\n",
       " 'KRAUSE JEFF',\n",
       " 'KUJALA JUDITH M',\n",
       " 'KURATLI RUBEN M/DONNA L LESSEE',\n",
       " 'LA HAMILTON LLC',\n",
       " 'LAZARUS HOUSE LLC',\n",
       " 'LIDDIARD TIMOTHY J',\n",
       " 'LOMEN KIMBERLY M',\n",
       " 'LOREN JAMES M JR',\n",
       " 'LOTT JESSICA A',\n",
       " 'MAHNKE CRAIG A/KIMBERLY A',\n",
       " 'MICHAEL J TEWES',\n",
       " 'MONTICELLO PARK INC',\n",
       " 'MORRISON BRIDGEHEAD LLC',\n",
       " 'N BYBEE LAKE COURT LLC',\n",
       " 'NEIKES JAMES J',\n",
       " 'NEWPORT PACIFIC CORPORATION',\n",
       " 'NEWROCK HOMES INC',\n",
       " 'NICHOLS JON',\n",
       " 'NIKAEIN MASSOOD',\n",
       " 'NORTH COAST RETAIL LLC',\n",
       " 'NURDING STEPHEN',\n",
       " 'OMALLEY PATRICK R SR',\n",
       " 'OREGON FOOD BANK INC',\n",
       " 'P & C LAND CO LLC',\n",
       " 'PALMBERG DAVID E',\n",
       " 'PALMBERG JASON',\n",
       " 'PALMER RONALD E/KATHLEEN L',\n",
       " 'PDC DBA PROSPER PORTLAND',\n",
       " 'PEAKS VIEW LLC',\n",
       " 'PEDERSON LESLIE',\n",
       " 'PEITSCH TIM',\n",
       " 'PETERSON SHAWNA',\n",
       " 'PHP OCC HOLDINGS LLC',\n",
       " 'PIER 39 MARINA LLC',\n",
       " 'PIG FARM LLC',\n",
       " 'PIPER LORI J',\n",
       " 'PORTLAND COMMUNITY COLLEGE',\n",
       " 'PREGNANCY RESOURCE CENTER',\n",
       " 'RAWHL PROPERTIES LLC',\n",
       " 'RED SHED PROPERTIES LLC',\n",
       " 'RESIDENTIAL RESOURCES',\n",
       " 'REYNOLDS NICHOLAS F',\n",
       " 'ROBIES CESAR MONTES/ANGELA FAWN',\n",
       " 'ROEWE CHRIS ETAL',\n",
       " 'RUBENS JOSEPH F',\n",
       " 'RUDOLFI JAMES JOSEPH/TERRA I',\n",
       " 'S CULLEN LLC',\n",
       " 'SAFE OF COLUMBIA COUNTY',\n",
       " 'SANCERE ELI/GRETCHEN',\n",
       " 'SHRI MADHUSUDAN LLC',\n",
       " 'SHUMAKER BEVERLY J',\n",
       " 'SMITH RICHARD & MARGARET',\n",
       " 'SMITH RICHARD D',\n",
       " 'SMITH ROBERT L',\n",
       " \"SOTKA'S EDEN VALLEY RANCH LLC\",\n",
       " 'STAMPS BETHANIE S',\n",
       " 'STANTON STRUCTURES INC',\n",
       " 'STUART CHARLES',\n",
       " 'SWANK JASMINE',\n",
       " 'T & M MYERS TRUST',\n",
       " 'TAGG PIONEER RANCH LLC',\n",
       " 'TC & I CHINOOK LLC',\n",
       " 'THOMPSON LIVING TRUST',\n",
       " 'THROOP DEBBIE',\n",
       " 'TRG-BURNSIDE DEVELOPMENT LLC',\n",
       " 'TRIANN LLC',\n",
       " 'TRUCHET MILLER & DOUGLAS MADDEN',\n",
       " 'UNITED STATES OF AMERICA BPA',\n",
       " 'VOLUNTEERS OF AMERICA',\n",
       " 'WAL-MART REAL ESTATE BUSINESS TRUST',\n",
       " 'WARRENTON FIBER COMPANY',\n",
       " 'WASHINGTON SCHOOL FOR THE DEAF',\n",
       " 'WAUNA FEDERAL CREDIT UNION',\n",
       " 'WEAVER RYAN L',\n",
       " 'WEBER PROPERTIES LIMITED PRTSHP',\n",
       " 'WESTPORT ASSEMBLY/GOD CHURCH',\n",
       " 'WHITE ANTHONY S',\n",
       " 'WILLENER REVOCABLE FAMILY TRUST']"
      ]
     },
     "execution_count": 20,
     "metadata": {},
     "output_type": "execute_result"
    }
   ],
   "source": [
    "privOwners"
   ]
  },
  {
   "cell_type": "code",
   "execution_count": 21,
   "metadata": {},
   "outputs": [],
   "source": [
    "# find any priv owners with ' in them\n",
    "badString = pubFind(privOwners, searchTerms = \"'\")"
   ]
  },
  {
   "cell_type": "code",
   "execution_count": 22,
   "metadata": {},
   "outputs": [
    {
     "data": {
      "text/plain": [
       "[\"SOTKA'S EDEN VALLEY RANCH LLC\"]"
      ]
     },
     "execution_count": 22,
     "metadata": {},
     "output_type": "execute_result"
    }
   ],
   "source": [
    "badString"
   ]
  },
  {
   "cell_type": "code",
   "execution_count": 23,
   "metadata": {},
   "outputs": [],
   "source": [
    "# Remove ' form any owners\n",
    "with arcpy.da.UpdateCursor('interimPrivate', 'Land_Owner') as cursor:\n",
    "    for row in cursor:\n",
    "        if row[0] in badString:\n",
    "           \n",
    "            row[0] = row[0].replace(\"'\", \"\")\n",
    "        cursor.updateRow(row)\n",
    "            "
   ]
  },
  {
   "cell_type": "code",
   "execution_count": 24,
   "metadata": {},
   "outputs": [
    {
     "name": "stdout",
     "output_type": "stream",
     "text": [
      "[]\n"
     ]
    }
   ],
   "source": [
    "# Make sure all ' gone\n",
    "owners = unique_values('interimPrivate', 'Land_Owner')\n",
    "pubOwners = pubFind(owners)\n",
    "pubOwners = narrowList(pubOwners)\n",
    "removeList = ['CENTRAL CITY CONCERN','COLUMBIA COUNTY HABITAT FOR HUMANITY', 'COLUMBIA COUNTY SHRINE CLUB', 'COWLITZ COUNTY CASA',\n",
    "             'FIRST ASSEMBLY OF GOD COWLITZ COUNTY', 'OCF JOSEPH E WESTON PUBLIC FOUNDATION', 'SAFE OF COLUMBIA COUNTY', 'UNITED STATES GYPSUM', \n",
    "              'UNITED STATES GYPSUM', 'UNITED STATES OF AMERICA BPA', 'UNITED STATES OF AMERICA BPA', 'UNITED TELEPHONE CO NW', 'WASHBURN CLINTON C & MARCIA J', \n",
    "              'WASHINGTON SCHOOL FOR THE DEAF', 'WASHINGTON SCHOOL FOR THE DEAF', 'WASHINGTON TAMMY L']\n",
    "pubOwners = removeTerms(pubOwners, removeList)\n",
    "pubOwners = pubOwners + [' ', 'CDID #1', 'CDID #15', 'CDID #2', 'CDID #3', 'COWLITZ CO FIRE DIST #1', 'COWLITZ CO FIRE DIST #2 ETAL', 'COWLITZ CO FIRE DIST #5', \n",
    "                         'COWLITZ CO RURAL FIRE DIST#2', 'COWLITZ CO FIRE DIST #5']\n",
    "privOwners = removeTerms(owners, pubOwners)\n",
    "badString = pubFind(privOwners, searchTerms = \"'\")\n",
    "print(badString)"
   ]
  },
  {
   "cell_type": "code",
   "execution_count": 25,
   "metadata": {},
   "outputs": [
    {
     "data": {
      "text/html": [
       "<h2>Output</h2>C:\\Users\\Ricardo\\Desktop\\PCC\\Internship\\UpdatedCountyTaxLots\\TaxLots\\TaxLots.gdb\\privatizedLandsPoints<h2>Messages</h2>Start Time: Wednesday, December 2, 2020 11:45:38 AM<br/>Succeeded at Wednesday, December 2, 2020 11:45:40 AM (Elapsed Time: 1.46 seconds)<br/><style>.rendered_html td, .rendered_html th {text-align: left;}.rendered_html tbody {border: 1px solid black;}</style>"
      ],
      "text/plain": [
       "<Result 'C:\\\\Users\\\\Ricardo\\\\Desktop\\\\PCC\\\\Internship\\\\UpdatedCountyTaxLots\\\\TaxLots\\\\TaxLots.gdb\\\\privatizedLandsPoints'>"
      ]
     },
     "execution_count": 25,
     "metadata": {},
     "output_type": "execute_result"
    }
   ],
   "source": [
    "# Create layer from list of private owners\n",
    "sql = sqlClause(privOwners, 'privatized', 'Land_Owner')\n",
    "privatizedLands = arcpy.SelectLayerByAttribute_management('interimPrivate', where_clause = sql)\n",
    "arcpy.CopyFeatures_management(privatizedLands, 'privatizedLandsPoints')\n",
    "\n"
   ]
  },
  {
   "cell_type": "code",
   "execution_count": 26,
   "metadata": {},
   "outputs": [
    {
     "data": {
      "text/html": [
       "<h2>Output</h2>C:\\Users\\Ricardo\\Desktop\\PCC\\Internship\\UpdatedCountyTaxLots\\TaxLots\\TaxLots.gdb\\privatizedLands<h2>Messages</h2>Start Time: Wednesday, December 2, 2020 11:45:44 AM<br/>Succeeded at Wednesday, December 2, 2020 11:45:46 AM (Elapsed Time: 1.63 seconds)<br/><style>.rendered_html td, .rendered_html th {text-align: left;}.rendered_html tbody {border: 1px solid black;}</style>"
      ],
      "text/plain": [
       "<Result 'C:\\\\Users\\\\Ricardo\\\\Desktop\\\\PCC\\\\Internship\\\\UpdatedCountyTaxLots\\\\TaxLots\\\\TaxLots.gdb\\\\privatizedLands'>"
      ]
     },
     "execution_count": 26,
     "metadata": {},
     "output_type": "execute_result"
    }
   ],
   "source": [
    "# Create selection of lands that contain privatized layers points\n",
    "# and spatial join together to get polygons that have been privatized since last time\n",
    "privatePolygons = arcpy.SelectLayerByLocation_management('county_merge', 'CONTAINS', 'privatizedLandsPoints')\n",
    "arcpy.SpatialJoin_analysis(privatePolygons, 'privatizedLandsPoints', 'privatizedLands', match_option = 'COMPLETELY_CONTAINS')\n",
    "\n"
   ]
  },
  {
   "cell_type": "code",
   "execution_count": 27,
   "metadata": {},
   "outputs": [
    {
     "name": "stdout",
     "output_type": "stream",
     "text": [
      "OBJECTID\n",
      "Shape\n",
      "Join_Count\n",
      "TARGET_FID\n",
      "PublicLand\n",
      "Land_Owner\n",
      "ORIG_FID\n",
      "owner\n",
      "pub_pvt\n"
     ]
    }
   ],
   "source": [
    "fieldList = arcpy.ListFields(privatizedLands)\n",
    "\n",
    "for field in fieldList:\n",
    "    print(field.name)\n",
    "\n",
    "removeFields = [i for i in fieldList if (i.name == 'Join_Count' or i.name == 'TARGET_FID' or i.name == 'Land_Owner' or i.name == 'PublicLand')]\n"
   ]
  },
  {
   "cell_type": "code",
   "execution_count": 28,
   "metadata": {},
   "outputs": [],
   "source": [
    "for field in removeFields:\n",
    " \n",
    "    arcpy.DeleteField_management('privatizedLands', field.name)\n",
    "    "
   ]
  }
 ],
 "metadata": {
  "kernelspec": {
   "display_name": "Python 3",
   "language": "python",
   "name": "python3"
  },
  "language_info": {
   "codemirror_mode": {
    "name": "ipython",
    "version": 3
   },
   "file_extension": ".py",
   "mimetype": "text/x-python",
   "name": "python",
   "nbconvert_exporter": "python",
   "pygments_lexer": "ipython3",
   "version": "3.7.9"
  }
 },
 "nbformat": 4,
 "nbformat_minor": 4
}
