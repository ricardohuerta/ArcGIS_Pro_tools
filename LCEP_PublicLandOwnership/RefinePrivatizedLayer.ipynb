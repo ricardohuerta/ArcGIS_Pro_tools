{
 "cells": [
  {
   "cell_type": "code",
   "execution_count": 13,
   "metadata": {},
   "outputs": [],
   "source": [
    "import arcpy\n",
    "import os\n",
    "import sys\n",
    "ws = r'C:\\Users\\Ricardo\\Desktop\\PCC\\Internship\\UpdatedCountyTaxLots\\TaxLots\\TaxLots.gdb'\n",
    "arcpy.env.workspace = ws"
   ]
  },
  {
   "cell_type": "code",
   "execution_count": 14,
   "metadata": {},
   "outputs": [],
   "source": [
    "def unique_values(table, field):\n",
    "    with arcpy.da.SearchCursor(table, [field]) as cursor:\n",
    "    \n",
    "        return sorted({row[0] for row in cursor if row[0] != None})"
   ]
  },
  {
   "cell_type": "code",
   "execution_count": 15,
   "metadata": {},
   "outputs": [],
   "source": [
    "def removeTerms(OgList, removeList):\n",
    "    for item in removeList:\n",
    "        if item in OgList:\n",
    "            OgList.remove(item)\n",
    "    return OgList\n",
    "    "
   ]
  },
  {
   "cell_type": "code",
   "execution_count": 19,
   "metadata": {},
   "outputs": [],
   "source": [
    "def pubFind(searchTerms, myValues):\n",
    "    pubLand = []\n",
    "    myValues = [value.upper() for value in myValues]\n",
    "    \n",
    "    for owner in myValues:\n",
    "        for term in searchTerms:\n",
    "            if term in owner:\n",
    "                pubLand.append(owner)\n",
    "    return pubLand"
   ]
  },
  {
   "cell_type": "code",
   "execution_count": 16,
   "metadata": {},
   "outputs": [],
   "source": [
    "privLyr = 'privatized_SpatialJoin'\n",
    "field = 'Land_Owner'"
   ]
  },
  {
   "cell_type": "code",
   "execution_count": 17,
   "metadata": {},
   "outputs": [],
   "source": [
    "owners = unique_values(privLyr, field)"
   ]
  },
  {
   "cell_type": "code",
   "execution_count": 21,
   "metadata": {},
   "outputs": [],
   "source": [
    "searchTerms = ['USA', 'UNITED', 'STATE', 'OREGON', 'WASH', 'COUNTY', 'SKAMANIA', 'CITY', 'GOVERNMENT', 'SCHOOL', 'PUBLIC']"
   ]
  },
  {
   "cell_type": "code",
   "execution_count": 24,
   "metadata": {},
   "outputs": [],
   "source": [
    "pubOwners = pubFind(searchTerms, owners)"
   ]
  },
  {
   "cell_type": "code",
   "execution_count": 26,
   "metadata": {},
   "outputs": [],
   "source": [
    "removeFrmPub = ['CENTRAL CITY CONCERN', 'COLUMBIA COUNTY HABITAT FOR HUMANITY', 'COLUMBIA COUNTY HABITAT FOR HUMANITY INC', 'COLUMBIA COUNTY LEGAL AIDE INC', 'COLUMBIA COUNTY SELF HELP INC', 'COLUMBIA COUNTY SHRINE CLUB', \n",
    "                'COWLITZ COUNTY CASA', 'OREGON FOOD BANK INC', 'SAFE OF COLUMBIA COUNTY', 'WASHINGTON SCHOOL FOR THE DEAF', 'WASHINGTON SCHOOL FOR THE DEAF']"
   ]
  },
  {
   "cell_type": "code",
   "execution_count": 25,
   "metadata": {},
   "outputs": [
    {
     "name": "stdout",
     "output_type": "stream",
     "text": [
      "['CENTRAL CITY CONCERN', 'CLARK COUNTY CLEAN WATER PROGRAM', 'CLARK COUNTY PUBLIC WORKS', 'CLARK COUNTY PUBLIC WORKS', 'CLARK COUNTY PUBLIC WORKS OPERATIONS CENTER', 'CLARK COUNTY PUBLIC WORKS OPERATIONS CENTER', 'COLUMBIA COUNTY HABITAT FOR HUMANITY', 'COLUMBIA COUNTY HABITAT FOR HUMANITY INC', 'COLUMBIA COUNTY LEGAL AIDE INC', 'COLUMBIA COUNTY SELF HELP INC', 'COLUMBIA COUNTY SHRINE CLUB', 'COWLITZ COUNTY CASA', 'MULTNOMAH COUNTY DRAINAGE DISTRICT #1', 'MULTNOMAH COUNTY LIBRARY DISTRICT', 'MULTNOMAH COUNTY SCHOOL DIST #3', 'MULTNOMAH COUNTY SCHOOL DIST #3', 'MULTNOMAH COUNTY SCHOOL DIST NO 3', 'MULTNOMAH COUNTY SCHOOL DIST NO 3', 'OREGON FOOD BANK INC', 'REYNOLDS SCHOOL DISTRICT #7', 'SAFE OF COLUMBIA COUNTY', 'SCHOOL DISTRICT NO 3', 'WASHINGTON SCHOOL FOR THE DEAF', 'WASHINGTON SCHOOL FOR THE DEAF', 'WOOD VILLAGE CITY OF']\n"
     ]
    }
   ],
   "source": [
    "print(pubOwners)"
   ]
  }
 ],
 "metadata": {
  "kernelspec": {
   "display_name": "Python 3",
   "language": "python",
   "name": "python3"
  },
  "language_info": {
   "codemirror_mode": {
    "name": "ipython",
    "version": 3
   },
   "file_extension": ".py",
   "mimetype": "text/x-python",
   "name": "python",
   "nbconvert_exporter": "python",
   "pygments_lexer": "ipython3",
   "version": "3.6.10"
  }
 },
 "nbformat": 4,
 "nbformat_minor": 4
}
