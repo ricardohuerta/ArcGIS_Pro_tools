{
 "cells": [
  {
   "cell_type": "markdown",
   "metadata": {},
   "source": [
    "### Get Trusts"
   ]
  },
  {
   "cell_type": "code",
   "execution_count": 1,
   "metadata": {},
   "outputs": [],
   "source": [
    "import arcpy\n",
    "import os\n",
    "import sys\n",
    "ws = r'C:\\Users\\Ricardo\\Desktop\\PCC\\Internship\\UpdatedCountyTaxLots\\TaxLots\\TaxLots.gdb'\n",
    "arcpy.env.workspace = ws"
   ]
  },
  {
   "cell_type": "code",
   "execution_count": 2,
   "metadata": {},
   "outputs": [],
   "source": [
    "def unique_values(table, field):\n",
    "    with arcpy.da.SearchCursor(table, [field]) as cursor:\n",
    "    \n",
    "        return sorted({row[0] for row in cursor if row[0] != None})\n",
    "        del cursor"
   ]
  },
  {
   "cell_type": "code",
   "execution_count": 3,
   "metadata": {},
   "outputs": [],
   "source": [
    "def sqlClause(termList, fc, fieldName):\n",
    "    owner_string = \"\"\n",
    "    for owner in termList:\n",
    "        if termList.index(owner) != len(termList) -1:\n",
    "            owner_string = owner_string + \"\"\"{field} = '{owner}' Or \"\"\".format(field = arcpy.AddFieldDelimiters(fc, fieldName), \n",
    "                                                                               owner = owner)\n",
    "        elif termList.index(owner) == len(termList) -1:\n",
    "            owner_string = owner_string + \"\"\"{field} = '{owner}'\"\"\".format(field = arcpy.AddFieldDelimiters(fc, fieldName), \n",
    "                                                                               owner = owner)\n",
    "    return owner_string"
   ]
  },
  {
   "cell_type": "code",
   "execution_count": 4,
   "metadata": {},
   "outputs": [],
   "source": [
    "def removeTerms(OgList, removeList):\n",
    "    for item in removeList:\n",
    "        if item in OgList:\n",
    "            OgList.remove(item)\n",
    "    return OgList\n",
    "    "
   ]
  },
  {
   "cell_type": "code",
   "execution_count": 48,
   "metadata": {},
   "outputs": [],
   "source": [
    "def sqlClause(termList, fieldName):\n",
    "    owner_string = \"\"\n",
    "    for owner in termList:\n",
    "        if termList.index(owner) != len(termList) -1:\n",
    "            owner_string = owner_string + f\"{fieldName} = '{owner}' Or \"\n",
    "        elif termList.index(owner) == len(termList) -1:\n",
    "            owner_string = owner_string + f\"{fieldName} = '{owner}'\"\n",
    "    return owner_string"
   ]
  },
  {
   "cell_type": "code",
   "execution_count": 73,
   "metadata": {},
   "outputs": [],
   "source": [
    "owners = unique_values('county_merge', 'Land_Owner')"
   ]
  },
  {
   "cell_type": "code",
   "execution_count": 74,
   "metadata": {},
   "outputs": [],
   "source": [
    "trustOwners = [i for i in owners if ('LAND TRUST' in i)]"
   ]
  },
  {
   "cell_type": "code",
   "execution_count": 75,
   "metadata": {},
   "outputs": [],
   "source": [
    "removeFromTrustList = ['HOMELAND TRUST LLC', 'JOHANNES/JEANNETTE L HOOGLAND TRUST', 'JOHN L/SHIRLEY J WENTLAND TRUST', \n",
    "                       'LAURIE A ENGLAND TRUST', 'MIDLAND TRUST COMPANY,', 'JONES FAMILY TIMBERLAND TRUST']"
   ]
  },
  {
   "cell_type": "code",
   "execution_count": 76,
   "metadata": {},
   "outputs": [],
   "source": [
    "trustOwners = removeTerms(trustOwners, removeFromTrustList)"
   ]
  },
  {
   "cell_type": "code",
   "execution_count": 77,
   "metadata": {},
   "outputs": [
    {
     "name": "stdout",
     "output_type": "stream",
     "text": [
      "['BROWNSMEAD LAND TRUST', 'COLUMBIA LAND TRUST', 'COLUMBIA LAND TRUST,', 'DAWNED ON ME LAND TRUST', 'FRIENDS OF THE COLUMBIA GORGE LAND TRUST', 'FRIENDS OF THE COLUMBIA RIVER GORGE LAND TRUST', 'GE KALAMA LAND TRUST', 'KINCAID JUANITA M LAND TRUST', 'LAND TRUST #5439 & #5443 SE 120TH', 'OREGON SUSTAINABLE AGRICULTURE LAND TRUST', 'OREGON SUSTAINABLE AGRICULTURE LAND TRUST INC', 'PORTLAND COMMUNITY LAND TRUST', 'PORTLAND COMUNITY LAND TRUST', 'RIVERVIEW LAND TRUST', 'SPORTSMENS NATIONAL LAND TRUST INC,', 'STYNER LAND TRUST,', 'THE 3009 SE 115TH LAND TRUST', 'THE 6306 SE 49TH LAND TRUST', 'THE SAUVIE ISLAND TRUST']\n"
     ]
    }
   ],
   "source": [
    "print(trustOwners)"
   ]
  },
  {
   "cell_type": "code",
   "execution_count": 71,
   "metadata": {},
   "outputs": [],
   "source": [
    "badString = [\"SPORTSMEN'S NATIONAL LAND TRUST INC,\"]"
   ]
  },
  {
   "cell_type": "code",
   "execution_count": 72,
   "metadata": {},
   "outputs": [],
   "source": [
    "# Remove ' form any owners\n",
    "with arcpy.da.UpdateCursor('county_merge', 'Land_Owner') as cursor:\n",
    "    for row in cursor:\n",
    "        if row[0] in badString:\n",
    "           \n",
    "            row[0] = row[0].replace(\"'\", \"\")\n",
    "        cursor.updateRow(row)\n",
    "    del cursor"
   ]
  },
  {
   "cell_type": "code",
   "execution_count": 85,
   "metadata": {},
   "outputs": [],
   "source": [
    "sql = sqlClause(trustOwners, 'Land_Owner')"
   ]
  },
  {
   "cell_type": "code",
   "execution_count": 86,
   "metadata": {},
   "outputs": [
    {
     "data": {
      "text/plain": [
       "\"Land_Owner = 'BROWNSMEAD LAND TRUST' Or Land_Owner = 'COLUMBIA LAND TRUST' Or Land_Owner = 'COLUMBIA LAND TRUST,' Or Land_Owner = 'DAWNED ON ME LAND TRUST' Or Land_Owner = 'FRIENDS OF THE COLUMBIA GORGE LAND TRUST' Or Land_Owner = 'FRIENDS OF THE COLUMBIA RIVER GORGE LAND TRUST' Or Land_Owner = 'GE KALAMA LAND TRUST' Or Land_Owner = 'KINCAID JUANITA M LAND TRUST' Or Land_Owner = 'LAND TRUST #5439 & #5443 SE 120TH' Or Land_Owner = 'OREGON SUSTAINABLE AGRICULTURE LAND TRUST' Or Land_Owner = 'OREGON SUSTAINABLE AGRICULTURE LAND TRUST INC' Or Land_Owner = 'PORTLAND COMMUNITY LAND TRUST' Or Land_Owner = 'PORTLAND COMUNITY LAND TRUST' Or Land_Owner = 'RIVERVIEW LAND TRUST' Or Land_Owner = 'SPORTSMENS NATIONAL LAND TRUST INC,' Or Land_Owner = 'STYNER LAND TRUST,' Or Land_Owner = 'THE 3009 SE 115TH LAND TRUST' Or Land_Owner = 'THE 6306 SE 49TH LAND TRUST' Or Land_Owner = 'THE SAUVIE ISLAND TRUST'\""
      ]
     },
     "execution_count": 86,
     "metadata": {},
     "output_type": "execute_result"
    }
   ],
   "source": [
    "sql"
   ]
  },
  {
   "cell_type": "code",
   "execution_count": 87,
   "metadata": {},
   "outputs": [],
   "source": [
    "floodPlain = r'C:\\Users\\Ricardo\\Desktop\\PCC\\Internship\\UpdatedCountyTaxLots\\FloodPlain\\Hydrogeo_III_merged.shp'"
   ]
  },
  {
   "cell_type": "code",
   "execution_count": 93,
   "metadata": {},
   "outputs": [
    {
     "data": {
      "text/html": [
       "<h2>Output</h2>C:\\Users\\Ricardo\\Desktop\\PCC\\Internship\\UpdatedCountyTaxLots\\TaxLots\\TaxLots.gdb\\landTrusts<h2>Messages</h2>Start Time: Monday, December 14, 2020 2:34:22 PM<br/>Succeeded at Monday, December 14, 2020 2:34:23 PM (Elapsed Time: 1.57 seconds)<br/><style>.rendered_html td, .rendered_html th {text-align: left;}.rendered_html tbody {border: 1px solid black;}</style>"
      ],
      "text/plain": [
       "<Result 'C:\\\\Users\\\\Ricardo\\\\Desktop\\\\PCC\\\\Internship\\\\UpdatedCountyTaxLots\\\\TaxLots\\\\TaxLots.gdb\\\\landTrusts'>"
      ]
     },
     "execution_count": 93,
     "metadata": {},
     "output_type": "execute_result"
    }
   ],
   "source": [
    "floodSelection = arcpy.SelectLayerByLocation_management('county_merge', 'INTERSECT', floodPlain)\n",
    "selection = arcpy.SelectLayerByAttribute_management(floodSelection, selection_type = 'SUBSET_SELECTION', where_clause = sql)\n",
    "arcpy.CopyFeatures_management(selection, 'landTrusts')"
   ]
  }
 ],
 "metadata": {
  "kernelspec": {
   "display_name": "Python 3",
   "language": "python",
   "name": "python3"
  },
  "language_info": {
   "codemirror_mode": {
    "name": "ipython",
    "version": 3
   },
   "file_extension": ".py",
   "mimetype": "text/x-python",
   "name": "python",
   "nbconvert_exporter": "python",
   "pygments_lexer": "ipython3",
   "version": "3.6.10"
  }
 },
 "nbformat": 4,
 "nbformat_minor": 4
}
