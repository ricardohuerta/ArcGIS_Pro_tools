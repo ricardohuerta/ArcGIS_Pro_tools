{
 "cells": [
  {
   "cell_type": "code",
   "execution_count": 29,
   "metadata": {},
   "outputs": [],
   "source": [
    "import arcpy\n",
    "import os\n",
    "import sys\n",
    "ws = r'C:\\Users\\Ricardo\\Desktop\\PCC\\Internship\\UpdatedCountyTaxLots\\TaxLots\\TaxLots.gdb'\n",
    "arcpy.env.workspace = ws\n",
    "arcpy.env.overwriteOutput = True"
   ]
  },
  {
   "cell_type": "code",
   "execution_count": 3,
   "metadata": {},
   "outputs": [],
   "source": [
    "def unique_values(table, field):\n",
    "    with arcpy.da.SearchCursor(table, [field]) as cursor:\n",
    "    \n",
    "        return sorted({row[0] for row in cursor if row[0] != None})"
   ]
  },
  {
   "cell_type": "code",
   "execution_count": 4,
   "metadata": {},
   "outputs": [],
   "source": [
    "def pubFind(searchTerms, myValues):\n",
    "    pubLand = []\n",
    "    myValues = [value.upper() for value in myValues]\n",
    "    \n",
    "    for owner in myValues:\n",
    "        for term in searchTerms:\n",
    "            if term in owner:\n",
    "                pubLand.append(owner)\n",
    "    return pubLand"
   ]
  },
  {
   "cell_type": "code",
   "execution_count": 5,
   "metadata": {},
   "outputs": [],
   "source": [
    "def removeTerms(OgList, removeList):\n",
    "    for item in removeList:\n",
    "        if item in OgList:\n",
    "            OgList.remove(item)\n",
    "    return OgList"
   ]
  },
  {
   "cell_type": "code",
   "execution_count": 6,
   "metadata": {},
   "outputs": [],
   "source": [
    "def removePart(OgList, strPrtList):\n",
    "    newRemoveList = []\n",
    "   \n",
    "    for i in OgList:\n",
    "        for string in strPrtList:\n",
    "            if string in i:\n",
    "                \n",
    "                newRemoveList.append(i)\n",
    "    \n",
    "    \n",
    "    for item in newRemoveList:\n",
    "       \n",
    "        if item in OgList:\n",
    "            OgList.remove(item)\n",
    "    \n",
    "    return OgList, newRemoveList\n",
    "    "
   ]
  },
  {
   "cell_type": "code",
   "execution_count": 7,
   "metadata": {},
   "outputs": [],
   "source": [
    "def genRemoveList(OgList, strPrtList):\n",
    "    newRemoveList = []\n",
    "    \n",
    "    for i in OgList:\n",
    "        for string in strPrtList:\n",
    "            if string in i:\n",
    "                print(i)\n",
    "                newRemoveList.append(i)\n",
    "    return newRemoveList"
   ]
  },
  {
   "cell_type": "code",
   "execution_count": 8,
   "metadata": {},
   "outputs": [],
   "source": [
    "def sqlClause(termList, fieldName):\n",
    "    owner_string = \"\"\n",
    "    for owner in termList:\n",
    "        if termList.index(owner) != len(termList) -1:\n",
    "            owner_string = owner_string + f\"{fieldName} = '{owner}' Or \"\n",
    "        elif termList.index(owner) == len(termList) -1:\n",
    "            owner_string = owner_string + f\"{fieldName} = '{owner}'\"\n",
    "    return owner_string"
   ]
  },
  {
   "cell_type": "code",
   "execution_count": 9,
   "metadata": {},
   "outputs": [],
   "source": [
    "def narrowList(ogList):\n",
    "    ogList = [i for i in ogList if not ('ESTATE' in i or 'SUSAN' in i or 'LLC' in i or \n",
    "                                                'COMPANY' in i or 'ASSOC' in i or 'ASSN' in i or\n",
    "                                        'INC' in i or 'BANK' in i or 'CHURCH' in i or 'SOCIETY' in i or\n",
    "                                               'RAILWAY' in i or 'PRESBYTERIAN' in i or 'CORP' in i or\n",
    "                                       'FUND' in i)]\n",
    "    \n",
    "    removeList = [i for i in ogList if ('US' in i and not i.startswith('US'))]\n",
    "    \n",
    "    ogList = removeTerms(ogList, removeList)\n",
    "    \n",
    "    return ogList"
   ]
  },
  {
   "cell_type": "code",
   "execution_count": 10,
   "metadata": {},
   "outputs": [],
   "source": [
    "def addAndFillField(fc, termList, newFcName, ownerFieldName):\n",
    "    \n",
    "    \n",
    "    out_featureClass = os.path.join(ws, newFcName)\n",
    "    arcpy.CopyFeatures_management(fc, out_featureClass)\n",
    "    arcpy.AddField_management(out_featureClass, 'PublicLand', 'TEXT', \n",
    "                              field_length = 1)\n",
    "\n",
    "    with arcpy.da.UpdateCursor(out_featureClass, 'PublicLand', sqlClause(termList, ownerFieldName)) as cursor:\n",
    "        for row in cursor:\n",
    "            row[0] = 'T'\n",
    "            cursor.updateRow(row)\n",
    "    "
   ]
  },
  {
   "cell_type": "code",
   "execution_count": 11,
   "metadata": {},
   "outputs": [],
   "source": [
    "def addAndFillFieldKeithStyle(fc, termList, newFcName, ownerFieldName):\n",
    "    \n",
    "    \n",
    "    out_featureClass = os.path.join(ws, newFcName)\n",
    "    arcpy.CopyFeatures_management(fc, out_featureClass)\n",
    "    arcpy.AddField_management(out_featureClass, 'PUB_PVT', 'TEXT', \n",
    "                              field_length = 7)\n",
    "\n",
    "    with arcpy.da.UpdateCursor(out_featureClass, 'PUB_PVT', sqlClause(termList, ownerFieldName)) as cursor:\n",
    "        for row in cursor:\n",
    "            row[0] = 'PUBLIC'\n",
    "            cursor.updateRow(row)"
   ]
  },
  {
   "cell_type": "code",
   "execution_count": 12,
   "metadata": {},
   "outputs": [],
   "source": [
    "def addPrivateValues(fc):\n",
    "    with arcpy.da.UpdateCursor(fc, 'PUB_PVT') as cursor:\n",
    "        for row in cursor:\n",
    "            if row[0] != 'PUBLIC':\n",
    "                row[0] = 'PRIVATE'\n",
    "            cursor.updateRow(row)"
   ]
  },
  {
   "cell_type": "code",
   "execution_count": 13,
   "metadata": {},
   "outputs": [],
   "source": [
    "def addFalseValues(fc):\n",
    "    with arcpy.da.UpdateCursor(fc, 'PublicLand') as cursor:\n",
    "        for row in cursor:\n",
    "            if row[0] != 'T':\n",
    "                row[0] = 'F'\n",
    "            cursor.updateRow(row)"
   ]
  },
  {
   "cell_type": "code",
   "execution_count": 14,
   "metadata": {},
   "outputs": [],
   "source": [
    "%store -r pubAddList\n",
    "%store -r refRemoveList"
   ]
  },
  {
   "cell_type": "markdown",
   "metadata": {},
   "source": [
    "# Generate Owner Class Field for Pacific County"
   ]
  },
  {
   "cell_type": "code",
   "execution_count": 15,
   "metadata": {},
   "outputs": [],
   "source": [
    "### Store all layers\n",
    "clarkLyr = r'C:\\Users\\Ricardo\\Desktop\\PCC\\Internship\\UpdatedCountyTaxLots\\Shapefiles\\ClarkCo\\2011\\Clark_County_Parcels_clip_hgm.shp'\n",
    "clatsLyr = r'C:\\Users\\Ricardo\\Desktop\\PCC\\Internship\\UpdatedCountyTaxLots\\Shapefiles\\ClatsopCo\\2010\\Clatsop_taxlot_clip_hgm.shp'\n",
    "colLyr = r'C:\\Users\\Ricardo\\Desktop\\PCC\\Internship\\UpdatedCountyTaxLots\\Shapefiles\\ColumbiaCo\\2009\\taxlot_09_study_area_with_ownership.shp'\n",
    "cowLyr = r'C:\\Users\\Ricardo\\Desktop\\PCC\\Internship\\UpdatedCountyTaxLots\\Shapefiles\\CowlitzCo\\2005\\aeparc_clip_hgm.shp'\n",
    "multLyr = r'C:\\Users\\Ricardo\\Desktop\\PCC\\Internship\\UpdatedCountyTaxLots\\Shapefiles\\MultCo\\2011\\multnomah_taxlots_clip_hgm_reach.shp'\n",
    "pacLyr = r'C:\\Users\\Ricardo\\Desktop\\PCC\\Internship\\UpdatedCountyTaxLots\\Shapefiles\\PacificCo\\oldLayer\\Tax_Lots.shp'\n",
    "skaLyr = r'C:\\Users\\Ricardo\\Desktop\\PCC\\Internship\\UpdatedCountyTaxLots\\Shapefiles\\SkamaniaCo\\OldLayer\\Skamania_Tax.shp'\n",
    "wahLyr = r'C:\\Users\\Ricardo\\Desktop\\PCC\\Internship\\UpdatedCountyTaxLots\\Shapefiles\\WahkiakumCo\\OldLayer\\Wahkiakum_Parcels_clip_hgm.shp'\n"
   ]
  },
  {
   "cell_type": "code",
   "execution_count": null,
   "metadata": {},
   "outputs": [],
   "source": []
  },
  {
   "cell_type": "code",
   "execution_count": 16,
   "metadata": {},
   "outputs": [],
   "source": [
    "### Pacific county has no owner_class so need to find public/private owners for pacific county\n",
    "myValues = unique_values(pacLyr, 'CURRENT_O')\n",
    "searchTerms = ['UNITED', 'STATE', 'US ', 'USA ', 'OREGON', 'WASH', \n",
    "            'COUNTY', 'PACIFIC', 'CITY', 'GOVERNMENT', 'SCHOOL', 'PUBLIC']\n",
    "pacPubOwners = pubFind(searchTerms, myValues)\n",
    "pacPubOwners = narrowList(pacPubOwners)\n",
    "removeUs = [i for i in pacPubOwners if ('US' in i and not i.startswith('US'))]\n",
    "pacPubOwners = removeTerms(pacPubOwners, removeUs)\n",
    "removeList = ['ANNIE WRIGHT SCHOOL,', 'DURYEE & SAUNDERS PACIFIC COUNTY REAL*', 'DURYEE & SAUNDERS PACIFIC COUNTY REAL*', \n",
    "              'EAST OREGONIAN PUBLISHING CO,', 'FIA TIMBER GROWTH & VALUE WASHINGTON *', 'FRIENDS OF CHINOOK SCHOOL,', \n",
    "              'LEWIS COUNTY COMMUNITY HEALTH SERVICE*', 'PACIFIC COAST CRANBERRY RESEARCH,', 'PACIFIC COUNTY ANGLERS,', \n",
    "              'PACIFIC COUNTY ANGLERS,', 'PACIFIC EYE CLINIC,', 'PACIFIC NW ANNUAL CONF/UNITED METHODI*', \n",
    "              'PACIFIC NW ANNUAL CONF/UNITED METHODI*', 'PACIFIC PLACE APT LMT,',\"RAYMOND WASH CONG OF JEHOVAH'S WITNES*\", \n",
    "             'SCHOOLING, JACK E & DONELLE J', 'STATEN, JACQUALINE M', 'SUNRISE WASHINGTON SUBSIDIARY CO,',\n",
    "             'WASHAM, DANIEL & HEIDI & GLENN', 'WASHAM, GLENN', 'WASHINGTON CONFERENCE OF SEVENTH DAY *', \n",
    "              'WESTERN WASH CONS BAPTIST CAMPING ASS*', 'WESTERN WASH CONSERV BAPTIST,', 'WESTERN WASH CORP 7TH DAY ADVEN,'] + refRemoveList\n",
    "pacPubOwners = removeTerms(pacPubOwners, removeList)\n",
    "pacPubOwners = pacPubOwners + pubAddList"
   ]
  },
  {
   "cell_type": "code",
   "execution_count": 17,
   "metadata": {},
   "outputs": [],
   "source": [
    "discRemove = ['PORT OF', 'SCHOOL', 'EDUC', 'UNIVER', 'COLLEGE', 'LEAS', 'PUD',\n",
    "             'UTILITY', 'UTILITIES', 'UTITLITIES', 'UTIL DIST','PUBLIC WORKS', 'WATER WORKS', 'WATER BUREAU', \n",
    "              'CEMETERY', 'HOSPITAL', 'FIRE AND RESCUE', 'FIRE & RESCUE', 'LIBRAR',\n",
    "             'DRAIN', 'HIGHER ED', 'HIGHWAY', 'HWY', 'FIRE/RESCUE',\n",
    "             'FIRE DIST', 'PORT DISTRICT', 'BOYS & GIRLS', 'EVA MARIA DEMETRO',\n",
    "             'ACADEMY', 'HEALTHCARE', 'FIRE PROTECTION']\n",
    "pacPubOwners, pacRemove = removePart(pacPubOwners, discRemove)"
   ]
  },
  {
   "cell_type": "code",
   "execution_count": 18,
   "metadata": {},
   "outputs": [],
   "source": [
    "pacPubOwners = removeTerms(pacPubOwners, pacRemove)"
   ]
  },
  {
   "cell_type": "code",
   "execution_count": 19,
   "metadata": {},
   "outputs": [],
   "source": [
    "cityRemove = [i for i in pacPubOwners if ('CITY' in i)]\n",
    "cityRemove = [i for i in cityRemove if not ('PARK' in i or 'METRO' in i or 'ENVIRONMENTAL' in i or 'WATER RES' in i or \n",
    "                                            'HOUSING AUTHORITY' in i or 'WILDLIFE' in i)]"
   ]
  },
  {
   "cell_type": "code",
   "execution_count": 20,
   "metadata": {},
   "outputs": [],
   "source": [
    "pacPubOwners = removeTerms(pacPubOwners, cityRemove)"
   ]
  },
  {
   "cell_type": "code",
   "execution_count": 21,
   "metadata": {},
   "outputs": [],
   "source": [
    "newRemoveList = ['EAST OREGONIAN PUBLISHING CO', 'P U D #1 GRAYS HARBOR COUNTY', \n",
    "                 'PACIFIC COAST CRANBERRY RESEARCH', 'PACIFIC EYE CLINIC', 'PACIFIC FOREST MANAGEMENT & HARVEST LL', 'PACIFIC NW ANNUAL CONF/UNITED METHODIS', 'PACIFIC NW ANNUAL CONF/UNITED METHODIS', 'PACIFIC NW DIST', 'PACIFIC PLACE APT LMT', 'PACIFIC POST #968 VFW', 'PACIFIC SOLID WASTE DISPOSAL', \n",
    "                 'PACIFIC TRANSIT SYSTEM', 'PUBLIC HEALTH CARE SERVICES #3 OF PACI',\n",
    "                'STATEN, JAY P & VALERIE A', 'SUNRISE WASHINGTON SUBSIDIARY CO', 'THE ARC OF CLARK COUNTY',\n",
    "                'WASHAM, JAMES & ROBIN', 'WESTERN WASH CONSERV BAPTIST']\n",
    "pacPubOwners = removeTerms(pacPubOwners, newRemoveList)"
   ]
  },
  {
   "cell_type": "code",
   "execution_count": 22,
   "metadata": {},
   "outputs": [
    {
     "ename": "ExecuteError",
     "evalue": "Failed to execute. Parameters are not valid.\nERROR 000725: Output Feature Class: Dataset C:\\Users\\Ricardo\\Desktop\\PCC\\Internship\\UpdatedCountyTaxLots\\TaxLots\\TaxLots.gdb\\oldPacOwners already exists.\nFailed to execute (CopyFeatures).\n",
     "output_type": "error",
     "traceback": [
      "\u001b[1;31m---------------------------------------------------------------------------\u001b[0m",
      "\u001b[1;31mExecuteError\u001b[0m                              Traceback (most recent call last)",
      "\u001b[1;32m<ipython-input-22-4914052463e4>\u001b[0m in \u001b[0;36m<module>\u001b[1;34m\u001b[0m\n\u001b[1;32m----> 1\u001b[1;33m \u001b[0maddAndFillFieldKeithStyle\u001b[0m\u001b[1;33m(\u001b[0m\u001b[0mpacLyr\u001b[0m\u001b[1;33m,\u001b[0m \u001b[0mpacPubOwners\u001b[0m\u001b[1;33m,\u001b[0m \u001b[1;34m'oldPacOwners'\u001b[0m\u001b[1;33m,\u001b[0m \u001b[1;34m'CURRENT_O'\u001b[0m\u001b[1;33m)\u001b[0m\u001b[1;33m\u001b[0m\u001b[1;33m\u001b[0m\u001b[0m\n\u001b[0m",
      "\u001b[1;32m<ipython-input-11-3de774f00a1c>\u001b[0m in \u001b[0;36maddAndFillFieldKeithStyle\u001b[1;34m(fc, termList, newFcName, ownerFieldName)\u001b[0m\n\u001b[0;32m      3\u001b[0m \u001b[1;33m\u001b[0m\u001b[0m\n\u001b[0;32m      4\u001b[0m     \u001b[0mout_featureClass\u001b[0m \u001b[1;33m=\u001b[0m \u001b[0mos\u001b[0m\u001b[1;33m.\u001b[0m\u001b[0mpath\u001b[0m\u001b[1;33m.\u001b[0m\u001b[0mjoin\u001b[0m\u001b[1;33m(\u001b[0m\u001b[0mws\u001b[0m\u001b[1;33m,\u001b[0m \u001b[0mnewFcName\u001b[0m\u001b[1;33m)\u001b[0m\u001b[1;33m\u001b[0m\u001b[1;33m\u001b[0m\u001b[0m\n\u001b[1;32m----> 5\u001b[1;33m     \u001b[0marcpy\u001b[0m\u001b[1;33m.\u001b[0m\u001b[0mCopyFeatures_management\u001b[0m\u001b[1;33m(\u001b[0m\u001b[0mfc\u001b[0m\u001b[1;33m,\u001b[0m \u001b[0mout_featureClass\u001b[0m\u001b[1;33m)\u001b[0m\u001b[1;33m\u001b[0m\u001b[1;33m\u001b[0m\u001b[0m\n\u001b[0m\u001b[0;32m      6\u001b[0m     arcpy.AddField_management(out_featureClass, 'PUB_PVT', 'TEXT', \n\u001b[0;32m      7\u001b[0m                               field_length = 7)\n",
      "\u001b[1;32mC:\\Program Files\\ArcGIS\\Pro\\Resources\\ArcPy\\arcpy\\management.py\u001b[0m in \u001b[0;36mCopyFeatures\u001b[1;34m(in_features, out_feature_class, config_keyword, spatial_grid_1, spatial_grid_2, spatial_grid_3)\u001b[0m\n\u001b[0;32m   3887\u001b[0m         \u001b[1;32mreturn\u001b[0m \u001b[0mretval\u001b[0m\u001b[1;33m\u001b[0m\u001b[1;33m\u001b[0m\u001b[0m\n\u001b[0;32m   3888\u001b[0m     \u001b[1;32mexcept\u001b[0m \u001b[0mException\u001b[0m \u001b[1;32mas\u001b[0m \u001b[0me\u001b[0m\u001b[1;33m:\u001b[0m\u001b[1;33m\u001b[0m\u001b[1;33m\u001b[0m\u001b[0m\n\u001b[1;32m-> 3889\u001b[1;33m         \u001b[1;32mraise\u001b[0m \u001b[0me\u001b[0m\u001b[1;33m\u001b[0m\u001b[1;33m\u001b[0m\u001b[0m\n\u001b[0m\u001b[0;32m   3890\u001b[0m \u001b[1;33m\u001b[0m\u001b[0m\n\u001b[0;32m   3891\u001b[0m \u001b[1;33m@\u001b[0m\u001b[0mgptooldoc\u001b[0m\u001b[1;33m(\u001b[0m\u001b[1;34m'DeleteFeatures_management'\u001b[0m\u001b[1;33m,\u001b[0m \u001b[1;32mNone\u001b[0m\u001b[1;33m)\u001b[0m\u001b[1;33m\u001b[0m\u001b[1;33m\u001b[0m\u001b[0m\n",
      "\u001b[1;32mC:\\Program Files\\ArcGIS\\Pro\\Resources\\ArcPy\\arcpy\\management.py\u001b[0m in \u001b[0;36mCopyFeatures\u001b[1;34m(in_features, out_feature_class, config_keyword, spatial_grid_1, spatial_grid_2, spatial_grid_3)\u001b[0m\n\u001b[0;32m   3884\u001b[0m     \u001b[1;32mfrom\u001b[0m \u001b[0marcpy\u001b[0m\u001b[1;33m.\u001b[0m\u001b[0marcobjects\u001b[0m\u001b[1;33m.\u001b[0m\u001b[0marcobjectconversion\u001b[0m \u001b[1;32mimport\u001b[0m \u001b[0mconvertArcObjectToPythonObject\u001b[0m\u001b[1;33m\u001b[0m\u001b[1;33m\u001b[0m\u001b[0m\n\u001b[0;32m   3885\u001b[0m     \u001b[1;32mtry\u001b[0m\u001b[1;33m:\u001b[0m\u001b[1;33m\u001b[0m\u001b[1;33m\u001b[0m\u001b[0m\n\u001b[1;32m-> 3886\u001b[1;33m         \u001b[0mretval\u001b[0m \u001b[1;33m=\u001b[0m \u001b[0mconvertArcObjectToPythonObject\u001b[0m\u001b[1;33m(\u001b[0m\u001b[0mgp\u001b[0m\u001b[1;33m.\u001b[0m\u001b[0mCopyFeatures_management\u001b[0m\u001b[1;33m(\u001b[0m\u001b[1;33m*\u001b[0m\u001b[0mgp_fixargs\u001b[0m\u001b[1;33m(\u001b[0m\u001b[1;33m(\u001b[0m\u001b[0min_features\u001b[0m\u001b[1;33m,\u001b[0m \u001b[0mout_feature_class\u001b[0m\u001b[1;33m,\u001b[0m \u001b[0mconfig_keyword\u001b[0m\u001b[1;33m,\u001b[0m \u001b[0mspatial_grid_1\u001b[0m\u001b[1;33m,\u001b[0m \u001b[0mspatial_grid_2\u001b[0m\u001b[1;33m,\u001b[0m \u001b[0mspatial_grid_3\u001b[0m\u001b[1;33m)\u001b[0m\u001b[1;33m,\u001b[0m \u001b[1;32mTrue\u001b[0m\u001b[1;33m)\u001b[0m\u001b[1;33m)\u001b[0m\u001b[1;33m)\u001b[0m\u001b[1;33m\u001b[0m\u001b[1;33m\u001b[0m\u001b[0m\n\u001b[0m\u001b[0;32m   3887\u001b[0m         \u001b[1;32mreturn\u001b[0m \u001b[0mretval\u001b[0m\u001b[1;33m\u001b[0m\u001b[1;33m\u001b[0m\u001b[0m\n\u001b[0;32m   3888\u001b[0m     \u001b[1;32mexcept\u001b[0m \u001b[0mException\u001b[0m \u001b[1;32mas\u001b[0m \u001b[0me\u001b[0m\u001b[1;33m:\u001b[0m\u001b[1;33m\u001b[0m\u001b[1;33m\u001b[0m\u001b[0m\n",
      "\u001b[1;32mC:\\Program Files\\ArcGIS\\Pro\\Resources\\ArcPy\\arcpy\\geoprocessing\\_base.py\u001b[0m in \u001b[0;36m<lambda>\u001b[1;34m(*args)\u001b[0m\n\u001b[0;32m    509\u001b[0m         \u001b[0mval\u001b[0m \u001b[1;33m=\u001b[0m \u001b[0mgetattr\u001b[0m\u001b[1;33m(\u001b[0m\u001b[0mself\u001b[0m\u001b[1;33m.\u001b[0m\u001b[0m_gp\u001b[0m\u001b[1;33m,\u001b[0m \u001b[0mattr\u001b[0m\u001b[1;33m)\u001b[0m\u001b[1;33m\u001b[0m\u001b[1;33m\u001b[0m\u001b[0m\n\u001b[0;32m    510\u001b[0m         \u001b[1;32mif\u001b[0m \u001b[0mcallable\u001b[0m\u001b[1;33m(\u001b[0m\u001b[0mval\u001b[0m\u001b[1;33m)\u001b[0m\u001b[1;33m:\u001b[0m\u001b[1;33m\u001b[0m\u001b[1;33m\u001b[0m\u001b[0m\n\u001b[1;32m--> 511\u001b[1;33m             \u001b[1;32mreturn\u001b[0m \u001b[1;32mlambda\u001b[0m \u001b[1;33m*\u001b[0m\u001b[0margs\u001b[0m\u001b[1;33m:\u001b[0m \u001b[0mval\u001b[0m\u001b[1;33m(\u001b[0m\u001b[1;33m*\u001b[0m\u001b[0mgp_fixargs\u001b[0m\u001b[1;33m(\u001b[0m\u001b[0margs\u001b[0m\u001b[1;33m,\u001b[0m \u001b[1;32mTrue\u001b[0m\u001b[1;33m)\u001b[0m\u001b[1;33m)\u001b[0m\u001b[1;33m\u001b[0m\u001b[1;33m\u001b[0m\u001b[0m\n\u001b[0m\u001b[0;32m    512\u001b[0m         \u001b[1;32melse\u001b[0m\u001b[1;33m:\u001b[0m\u001b[1;33m\u001b[0m\u001b[1;33m\u001b[0m\u001b[0m\n\u001b[0;32m    513\u001b[0m             \u001b[1;32mreturn\u001b[0m \u001b[0mconvertArcObjectToPythonObject\u001b[0m\u001b[1;33m(\u001b[0m\u001b[0mval\u001b[0m\u001b[1;33m)\u001b[0m\u001b[1;33m\u001b[0m\u001b[1;33m\u001b[0m\u001b[0m\n",
      "\u001b[1;31mExecuteError\u001b[0m: Failed to execute. Parameters are not valid.\nERROR 000725: Output Feature Class: Dataset C:\\Users\\Ricardo\\Desktop\\PCC\\Internship\\UpdatedCountyTaxLots\\TaxLots\\TaxLots.gdb\\oldPacOwners already exists.\nFailed to execute (CopyFeatures).\n"
     ]
    }
   ],
   "source": [
    "addAndFillFieldKeithStyle(pacLyr, pacPubOwners, 'oldPacOwners', 'CURRENT_O')"
   ]
  },
  {
   "cell_type": "code",
   "execution_count": 23,
   "metadata": {},
   "outputs": [],
   "source": [
    "addPrivateValues('oldPacOwners')"
   ]
  },
  {
   "cell_type": "markdown",
   "metadata": {},
   "source": [
    "# Merge the County Layers Together"
   ]
  },
  {
   "cell_type": "code",
   "execution_count": 25,
   "metadata": {},
   "outputs": [],
   "source": [
    "\n",
    "pacLyr = 'oldPacOwners'\n",
    "coList = [clarkLyr, clatsLyr, colLyr, cowLyr, multLyr, pacLyr, skaLyr, wahLyr]\n",
    "clarkOwn, clatsOwn, colOwn, cowOwn, multOwn, pacOwn, skaOwn, wahOwn = 'OWNER', 'OWNER_LINE', 'OWNER', 'DEED_HOLDE', 'OWNER1', 'CURRENT_O', 'CURNT_OWN', 'Own_Last'\n",
    "ownList = [clarkOwn, clatsOwn, colOwn, cowOwn, multOwn, pacOwn, skaOwn, wahOwn]\n",
    "clarkPubField, clatsOwn, colPubField, coPubField, multPubFiel, pacPubField, skaPubField, wahPubField = 'PUB_PVT', 'pub_pvt', 'PUB_PVT', 'PUB_PVT', 'pub_pvt', 'PUB_PVT', 'ownClass', 'PUB_PVT'\n",
    "pubPvtList = [clarkPubField, clatsOwn, colPubField, coPubField, multPubFiel, pacPubField, skaPubField, wahPubField]"
   ]
  },
  {
   "cell_type": "code",
   "execution_count": 27,
   "metadata": {},
   "outputs": [
    {
     "name": "stdout",
     "output_type": "stream",
     "text": [
      "C:\\Users\\Ricardo\\Desktop\\PCC\\Internship\\UpdatedCountyTaxLots\\Shapefiles\\ClarkCo\\2011\\Clark_County_Parcels_clip_hgm.shp:NAD_1983_HARN_StatePlane_Washington_South_FIPS_4602_Feet, Foot_US\n",
      "C:\\Users\\Ricardo\\Desktop\\PCC\\Internship\\UpdatedCountyTaxLots\\Shapefiles\\ClatsopCo\\2010\\Clatsop_taxlot_clip_hgm.shp:NAD_1983_HARN_StatePlane_Oregon_North_FIPS_3601_IntlFeet, Foot\n",
      "C:\\Users\\Ricardo\\Desktop\\PCC\\Internship\\UpdatedCountyTaxLots\\Shapefiles\\ColumbiaCo\\2009\\taxlot_09_study_area_with_ownership.shp:NAD_1983_HARN_StatePlane_Oregon_North_FIPS_3601_Feet_Intl, Foot\n",
      "C:\\Users\\Ricardo\\Desktop\\PCC\\Internship\\UpdatedCountyTaxLots\\Shapefiles\\CowlitzCo\\2005\\aeparc_clip_hgm.shp:NAD_1983_StatePlane_Washington_South_FIPS_4602_Feet, Foot_US\n",
      "C:\\Users\\Ricardo\\Desktop\\PCC\\Internship\\UpdatedCountyTaxLots\\Shapefiles\\MultCo\\2011\\multnomah_taxlots_clip_hgm_reach.shp:NAD_1983_HARN_StatePlane_Oregon_North_FIPS_3601, Foot\n",
      "oldPacOwners:NAD_1983_StatePlane_Washington_South_FIPS_4602_Feet, Foot_US\n",
      "C:\\Users\\Ricardo\\Desktop\\PCC\\Internship\\UpdatedCountyTaxLots\\Shapefiles\\SkamaniaCo\\OldLayer\\Skamania_Tax.shp:NAD_1983_Albers, Meter\n",
      "C:\\Users\\Ricardo\\Desktop\\PCC\\Internship\\UpdatedCountyTaxLots\\Shapefiles\\WahkiakumCo\\OldLayer\\Wahkiakum_Parcels_clip_hgm.shp:NAD_1983_StatePlane_Washington_South_FIPS_4602_Feet, Foot_US\n"
     ]
    }
   ],
   "source": [
    "#make sure all in the same projection\n",
    "for co in coList:\n",
    "    spatial_ref = arcpy.Describe(co).spatialReference\n",
    "    print(f'{co}:{spatial_ref.name}, {spatial_ref.linearUnitName}')"
   ]
  },
  {
   "cell_type": "code",
   "execution_count": 28,
   "metadata": {},
   "outputs": [
    {
     "data": {
      "text/html": [
       "<h2>Output</h2>C:\\Users\\Ricardo\\Desktop\\PCC\\Internship\\UpdatedCountyTaxLots\\TaxLots\\TaxLots.gdb\\oldSkamaniaProject<h2>Messages</h2>Start Time: Wednesday, January 20, 2021 11:01:09 AM<br/>Succeeded at Wednesday, January 20, 2021 11:01:11 AM (Elapsed Time: 1.76 seconds)<br/><style>.rendered_html td, .rendered_html th {text-align: left;}.rendered_html tbody {border: 1px solid black;}</style>"
      ],
      "text/plain": [
       "<Result 'C:\\\\Users\\\\Ricardo\\\\Desktop\\\\PCC\\\\Internship\\\\UpdatedCountyTaxLots\\\\TaxLots\\\\TaxLots.gdb\\\\oldSkamaniaProject'>"
      ]
     },
     "execution_count": 28,
     "metadata": {},
     "output_type": "execute_result"
    }
   ],
   "source": [
    "# Project skamania to project in feet\n",
    "# Reproject multnomah county to appropriate projection\n",
    "arcpy.Project_management(skaLyr, 'oldSkamaniaProject', arcpy.Describe(wahLyr).spatialReference)"
   ]
  },
  {
   "cell_type": "code",
   "execution_count": 30,
   "metadata": {},
   "outputs": [],
   "source": [
    "pubPvtFldMap = arcpy.FieldMap()\n",
    "landOwnerFldMap = arcpy.FieldMap()\n",
    "\n",
    "\n",
    "fms = arcpy.FieldMappings()"
   ]
  },
  {
   "cell_type": "code",
   "execution_count": 31,
   "metadata": {},
   "outputs": [],
   "source": [
    "for co, own, pubPvt in zip(coList, ownList, pubPvtList):\n",
    "    pubPvtFldMap.addInputField(co, pubPvt)\n",
    "    landOwnerFldMap.addInputField(co, own)"
   ]
  },
  {
   "cell_type": "code",
   "execution_count": 32,
   "metadata": {},
   "outputs": [],
   "source": [
    "pubPvt_name = pubPvtFldMap.outputField\n",
    "pubPvt_name.name = 'PUB_PVT'\n",
    "pubPvt_name.length = 100\n",
    "pubPvtFldMap.outputField = pubPvt_name\n",
    "\n",
    "landOwner_name = landOwnerFldMap.outputField\n",
    "landOwner_name.name = 'Land Owner'\n",
    "landOwner_name.length = 100\n",
    "landOwnerFldMap.outputField = landOwner_name\n"
   ]
  },
  {
   "cell_type": "code",
   "execution_count": 33,
   "metadata": {},
   "outputs": [],
   "source": [
    "fms.addFieldMap(landOwnerFldMap)\n",
    "fms.addFieldMap(pubPvtFldMap)"
   ]
  },
  {
   "cell_type": "code",
   "execution_count": 34,
   "metadata": {},
   "outputs": [
    {
     "data": {
      "text/html": [
       "<h2>Output</h2>C:\\Users\\Ricardo\\Desktop\\PCC\\Internship\\UpdatedCountyTaxLots\\TaxLots\\TaxLots.gdb\\old_parcels_merge<h2>Messages</h2>Start Time: Wednesday, January 20, 2021 11:01:46 AM<br/>Succeeded at Wednesday, January 20, 2021 11:02:13 AM (Elapsed Time: 27.39 seconds)<br/><style>.rendered_html td, .rendered_html th {text-align: left;}.rendered_html tbody {border: 1px solid black;}</style>"
      ],
      "text/plain": [
       "<Result 'C:\\\\Users\\\\Ricardo\\\\Desktop\\\\PCC\\\\Internship\\\\UpdatedCountyTaxLots\\\\TaxLots\\\\TaxLots.gdb\\\\old_parcels_merge'>"
      ]
     },
     "execution_count": 34,
     "metadata": {},
     "output_type": "execute_result"
    }
   ],
   "source": [
    "arcpy.Merge_management(coList, 'old_parcels_merge', fms)"
   ]
  },
  {
   "cell_type": "markdown",
   "metadata": {},
   "source": [
    "# Capitalize all field entries in PUB_PVT field "
   ]
  },
  {
   "cell_type": "code",
   "execution_count": 35,
   "metadata": {},
   "outputs": [],
   "source": [
    "with arcpy.da.UpdateCursor('old_parcels_merge', 'PUB_PVT') as cursor:\n",
    "    for row in cursor:\n",
    "        row[0] = row[0].upper()\n",
    "        if row[0].upper() != 'PRIVATE' and row[0].upper() != 'UNSURE':\n",
    "            row[0] = 'PUBLIC'\n",
    "            \n",
    "        cursor.updateRow(row)\n",
    "del cursor, row"
   ]
  }
 ],
 "metadata": {
  "kernelspec": {
   "display_name": "Python 3",
   "language": "python",
   "name": "python3"
  },
  "language_info": {
   "codemirror_mode": {
    "name": "ipython",
    "version": 3
   },
   "file_extension": ".py",
   "mimetype": "text/x-python",
   "name": "python",
   "nbconvert_exporter": "python",
   "pygments_lexer": "ipython3",
   "version": "3.7.9"
  }
 },
 "nbformat": 4,
 "nbformat_minor": 4
}
