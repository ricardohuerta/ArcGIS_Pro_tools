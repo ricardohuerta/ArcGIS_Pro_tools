{
 "cells": [
  {
   "cell_type": "markdown",
   "metadata": {},
   "source": [
    "# Merge All Layers with Public Land Fields"
   ]
  },
  {
   "cell_type": "code",
   "execution_count": null,
   "metadata": {},
   "outputs": [],
   "source": [
    "import arcpy\n",
    "import os\n",
    "ws = r'C:\\Users\\Ricardo\\Desktop\\PCC\\Internship\\UpdatedCountyTaxLots\\TaxLots\\TaxLots.gdb'\n",
    "arcpy.env.workspace = ws\n",
    "arcpy.env.overwriteOutput = True"
   ]
  },
  {
   "cell_type": "code",
   "execution_count": null,
   "metadata": {},
   "outputs": [],
   "source": [
    "outfc = r'C:\\Users\\Ricardo\\Desktop\\PCC\\Internship\\UpdatedCountyTaxLots\\TaxLots\\TaxLots.gdb\\allCounties'\n",
    "\n",
    "clat = 'clatsopParcels'\n",
    "col = 'colParcels'\n",
    "cow = 'cowlitzParcels'\n",
    "mult = 'multnomahParcels'\n",
    "pac = 'pacificParcels'\n",
    "ska = 'skaParcels'\n",
    "wah = 'wahkiakumParcels'\n",
    "clark = 'clarkParcels'\n",
    "\n",
    "coList = [clat, col, cow, mult, pac, ska, wah, clark]\n",
    "\n",
    "clatOwn = 'OWNER_LINE'\n",
    "colOwn = 'OWNER'\n",
    "cowOwn = 'DEED_HOLDE'\n",
    "multOwn = 'OWNER1'\n",
    "pacOwn = 'CURRENT_O'\n",
    "skaOwn = 'OwnerLast'\n",
    "wahOwn = 'Property_O'\n",
    "clarkOwn = 'PACSOwner'\n",
    "\n",
    "ownList = [clatOwn, colOwn, cowOwn, multOwn, pacOwn, skaOwn, wahOwn, clarkOwn]\n",
    "\n",
    "publicLand = 'PublicLand'\n",
    "AREA = 'Shape_Area'\n",
    "LENGTH = 'Shape_Length'\n",
    "\n",
    "\n"
   ]
  },
  {
   "cell_type": "code",
   "execution_count": null,
   "metadata": {},
   "outputs": [],
   "source": [
    "publicLandFldMap = arcpy.FieldMap()\n",
    "shapeAreaFldMap = arcpy.FieldMap()\n",
    "shapeLengthFldMap = arcpy.FieldMap()\n",
    "landOwnerFldMap = arcpy.FieldMap()\n",
    "\n",
    "fms = arcpy.FieldMappings()"
   ]
  },
  {
   "cell_type": "code",
   "execution_count": null,
   "metadata": {},
   "outputs": [],
   "source": [
    "for co, own in zip(coList, ownList):\n",
    "    publicLandFldMap.addInputField(co, publicLand)\n",
    "    shapeAreaFldMap.addInputField(co, AREA)\n",
    "    shapeLengthFldMap.addInputField(co, LENGTH)\n",
    "    landOwnerFldMap.addInputField(co, own)\n",
    "    "
   ]
  },
  {
   "cell_type": "code",
   "execution_count": null,
   "metadata": {},
   "outputs": [],
   "source": [
    "landOwner_name = landOwnerFldMap.outputField\n",
    "landOwner_name.name = 'Land Owner'\n",
    "landOwner_name.length = 100\n",
    "landOwnerFldMap.outputField = landOwner_name"
   ]
  },
  {
   "cell_type": "code",
   "execution_count": null,
   "metadata": {},
   "outputs": [],
   "source": [
    "area_name = shapeAreaFldMap.outputField\n",
    "area_name.name = 'AREA'\n",
    "shapeAreaFldMap.outputField = area_name\n",
    "\n",
    "length_name = shapeLengthFldMap.outputField\n",
    "length_name.name = 'LENGTH'\n",
    "shapeLengthFldMap.outputField = length_name"
   ]
  },
  {
   "cell_type": "code",
   "execution_count": null,
   "metadata": {},
   "outputs": [],
   "source": [
    "fms.addFieldMap(publicLandFldMap)\n",
    "fms.addFieldMap(shapeAreaFldMap)\n",
    "fms.addFieldMap(shapeLengthFldMap)\n",
    "fms.addFieldMap(landOwnerFldMap)"
   ]
  },
  {
   "cell_type": "code",
   "execution_count": null,
   "metadata": {},
   "outputs": [],
   "source": [
    "arcpy.Merge_management(coList, 'county_merge', fms)"
   ]
  },
  {
   "cell_type": "markdown",
   "metadata": {},
   "source": [
    "# Filter out public land owners"
   ]
  },
  {
   "cell_type": "code",
   "execution_count": null,
   "metadata": {},
   "outputs": [],
   "source": [
    "arcpy.Select_analysis('county_merge', 'allCoPublicLands', \"PublicLand = 'T'\")"
   ]
  },
  {
   "cell_type": "markdown",
   "metadata": {},
   "source": [
    "# Create Flood Plain Intersect Layer"
   ]
  },
  {
   "cell_type": "code",
   "execution_count": null,
   "metadata": {},
   "outputs": [],
   "source": [
    "floodPlain = r'C:\\Users\\Ricardo\\Desktop\\PCC\\Internship\\UpdatedCountyTaxLots\\FloodPlain\\Hydrogeo_III_merged.shp'"
   ]
  },
  {
   "cell_type": "code",
   "execution_count": null,
   "metadata": {},
   "outputs": [],
   "source": [
    "pubFloodPlain = arcpy.SelectLayerByLocation_management('allCoPublicLands', overlap_type = 'INTERSECT', select_features = floodPlain)\n",
    "arcpy.CopyFeatures_management(pubFloodPlain, 'publicLandsFloodplain')"
   ]
  },
  {
   "cell_type": "markdown",
   "metadata": {},
   "source": [
    "# Next script is classifyPublicLands"
   ]
  }
 ],
 "metadata": {
  "kernelspec": {
   "display_name": "Python 3",
   "language": "python",
   "name": "python3"
  },
  "language_info": {
   "codemirror_mode": {
    "name": "ipython",
    "version": 3
   },
   "file_extension": ".py",
   "mimetype": "text/x-python",
   "name": "python",
   "nbconvert_exporter": "python",
   "pygments_lexer": "ipython3",
   "version": "3.7.9"
  }
 },
 "nbformat": 4,
 "nbformat_minor": 4
}
