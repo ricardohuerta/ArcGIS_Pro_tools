{
 "cells": [
  {
   "cell_type": "code",
   "execution_count": null,
   "metadata": {},
   "outputs": [],
   "source": [
    "import arcpy\n",
    "import os\n",
    "ws = r'C:\\Users\\Ricardo\\Desktop\\PCC\\Internship\\UpdatedCountyTaxLots\\TaxLots\\TaxLots.gdb'\n",
    "arcpy.env.workspace = ws"
   ]
  },
  {
   "cell_type": "code",
   "execution_count": null,
   "metadata": {},
   "outputs": [],
   "source": [
    "def unique_values(table, field):\n",
    "    with arcpy.da.SearchCursor(table, [field]) as cursor:\n",
    "    \n",
    "        return sorted({row[0] for row in cursor if row[0] != None})"
   ]
  },
  {
   "cell_type": "code",
   "execution_count": null,
   "metadata": {},
   "outputs": [],
   "source": [
    "def pubFind(searchTerms, myValues):\n",
    "    pubLand = []\n",
    "    myValues = [value.upper() for value in myValues]\n",
    "    \n",
    "    for owner in myValues:\n",
    "        for term in searchTerms:\n",
    "            if term in owner:\n",
    "                pubLand.append(owner)\n",
    "    return pubLand"
   ]
  },
  {
   "cell_type": "code",
   "execution_count": null,
   "metadata": {},
   "outputs": [],
   "source": [
    "def removeTerms(OgList, removeList):\n",
    "    for item in removeList:\n",
    "        if item in OgList:\n",
    "            OgList.remove(item)\n",
    "    return OgList\n",
    "    "
   ]
  },
  {
   "cell_type": "code",
   "execution_count": null,
   "metadata": {},
   "outputs": [],
   "source": [
    "def removePart(OgList, strPrtList):\n",
    "    newRemoveList = []\n",
    "   \n",
    "    for i in OgList:\n",
    "        for string in strPrtList:\n",
    "            if string in i:\n",
    "                \n",
    "                newRemoveList.append(i)\n",
    "    \n",
    "    \n",
    "    for item in newRemoveList:\n",
    "       \n",
    "        if item in OgList:\n",
    "            OgList.remove(item)\n",
    "    \n",
    "    return OgList, newRemoveList\n",
    "    \n"
   ]
  },
  {
   "cell_type": "code",
   "execution_count": null,
   "metadata": {},
   "outputs": [],
   "source": [
    "def genRemoveList(OgList, strPrtList):\n",
    "    newRemoveList = []\n",
    "    \n",
    "    for i in OgList:\n",
    "        for string in strPrtList:\n",
    "            if string in i:\n",
    "                print(i)\n",
    "                newRemoveList.append(i)\n",
    "    return newRemoveList"
   ]
  },
  {
   "cell_type": "code",
   "execution_count": null,
   "metadata": {},
   "outputs": [],
   "source": [
    "def sqlClause(termList, fieldName):\n",
    "    owner_string = \"\"\n",
    "    for owner in termList:\n",
    "        if termList.index(owner) != len(termList) -1:\n",
    "            owner_string = owner_string + f\"{fieldName} = '{owner}' Or \"\n",
    "        elif termList.index(owner) == len(termList) -1:\n",
    "            owner_string = owner_string + f\"{fieldName} = '{owner}'\"\n",
    "    return owner_string"
   ]
  },
  {
   "cell_type": "code",
   "execution_count": null,
   "metadata": {},
   "outputs": [],
   "source": [
    "def filterOwners(ownerList):\n",
    "    for owner in ownerList:\n",
    "        removeStatus = input(f'Remove {owner} from list? (y/n)')\n",
    "        if removeStatus == 'y':\n",
    "            ownerList.remove(owner)\n",
    "    return ownerList"
   ]
  },
  {
   "cell_type": "code",
   "execution_count": null,
   "metadata": {},
   "outputs": [],
   "source": [
    "def narrowList(ogList):\n",
    "    ogList = [i for i in ogList if not ('ESTATE' in i or 'SUSAN' in i or 'LLC' in i or \n",
    "                                                'COMPANY' in i or 'ASSOC' in i or 'ASSN' in i or\n",
    "                                        'INC' in i or 'BANK' in i or 'CHURCH' in i or 'SOCIETY' in i or\n",
    "                                               'RAILWAY' in i or 'PRESBYTERIAN' in i or 'CORP' in i or\n",
    "                                       'FUND' in i)]\n",
    "    \n",
    "    removeList = [i for i in ogList if ('US' in i and not i.startswith('US'))]\n",
    "    \n",
    "    ogList = removeTerms(ogList, removeList)\n",
    "    \n",
    "    return ogList"
   ]
  },
  {
   "cell_type": "code",
   "execution_count": null,
   "metadata": {},
   "outputs": [],
   "source": [
    "def addAndFillField(fc, termList, newFcName, ownerFieldName):\n",
    "    \n",
    "    \n",
    "    out_featureClass = os.path.join(ws, newFcName)\n",
    "    arcpy.CopyFeatures_management(fc, out_featureClass)\n",
    "    arcpy.AddField_management(out_featureClass, 'PublicLand', 'TEXT', \n",
    "                              field_length = 1)\n",
    "\n",
    "    with arcpy.da.UpdateCursor(out_featureClass, 'PublicLand', sqlClause(termList, ownerFieldName)) as cursor:\n",
    "        for row in cursor:\n",
    "            row[0] = 'T'\n",
    "            cursor.updateRow(row)\n",
    "    "
   ]
  },
  {
   "cell_type": "code",
   "execution_count": null,
   "metadata": {},
   "outputs": [],
   "source": [
    "def addFalseValues(fc):\n",
    "    with arcpy.da.UpdateCursor(fc, 'PublicLand') as cursor:\n",
    "        for row in cursor:\n",
    "            if row[0] != 'T':\n",
    "                row[0] = 'F'\n",
    "            cursor.updateRow(row)"
   ]
  },
  {
   "cell_type": "code",
   "execution_count": null,
   "metadata": {},
   "outputs": [],
   "source": [
    "%store -r pubAddList\n",
    "%store -r refRemoveList"
   ]
  },
  {
   "cell_type": "code",
   "execution_count": null,
   "metadata": {},
   "outputs": [],
   "source": [
    "pubAddList"
   ]
  },
  {
   "cell_type": "markdown",
   "metadata": {},
   "source": [
    "# Skamania\n"
   ]
  },
  {
   "cell_type": "code",
   "execution_count": null,
   "metadata": {},
   "outputs": [],
   "source": [
    "myValues = unique_values(r'C:\\Users\\Ricardo\\Desktop\\PCC\\Internship\\UpdatedCountyTaxLots\\Shapefiles\\SkamaniaCo\\Parcel\\Parcel\\Parcel.gdb\\Parcel', 'OwnerLast')"
   ]
  },
  {
   "cell_type": "code",
   "execution_count": null,
   "metadata": {},
   "outputs": [],
   "source": [
    "skaLyr = r'C:\\Users\\Ricardo\\Desktop\\PCC\\Internship\\UpdatedCountyTaxLots\\Shapefiles\\SkamaniaCo\\Parcel\\Parcel\\Parcel.gdb\\Parcel'"
   ]
  },
  {
   "cell_type": "code",
   "execution_count": null,
   "metadata": {},
   "outputs": [],
   "source": [
    "searchTerms = ['USA', 'UNITED', 'STATE', 'OREGON', 'WASH', 'COUNTY', 'SKAMANIA', 'CITY', 'GOVERNMENT', 'SCHOOL', 'PUBLIC']\n",
    "skaPubLand = pubFind(searchTerms, myValues)"
   ]
  },
  {
   "cell_type": "code",
   "execution_count": null,
   "metadata": {},
   "outputs": [],
   "source": [
    "skaPubLand = list(set(skaPubLand))\n"
   ]
  },
  {
   "cell_type": "code",
   "execution_count": null,
   "metadata": {},
   "outputs": [],
   "source": [
    "removeList = ['BLUE SKY ESTATES HOMEOWNERS ASSOCIATION', 'ESTATE OF WALTER RAYMOND LONG', \n",
    "              'FRN WASHINGTON, LLC', 'GIRL SCOUTS OF OREGON &', 'LJ GRAF SKAMANIA COUNTY TIMBER, LLC',\n",
    "             'MERCY PROPERTIES WASHINGTON I', 'OREGON & WASHINGTON RR NAV CO', 'OREGON CONFERENCE ADVENTIST CHURCHES',\n",
    "             'OREGON & WASHINTON TELEPHONE', 'PACIFICORP, AN OREGON CORPORATION', 'PORT OF SKAMANIA COUNTY', 'RIVERSIDE ESTATES ASSOCIATION',\n",
    "             'SENIOR SERVICES OF SKAMANIA', 'SKAMANIA CO HISTORICAL SOCIETY', 'SKAMANIA COMMUNITY CHURCH',\n",
    "             'SKAMANIA COUNTY CEMETERY', 'SKAMANIA COUNTY COUNCIL ON', 'SKAMANIA COUNTY HOSPITAL DISTRICT',\n",
    "             'SKAMANIA COUNTY ROD & GUN CLUB', 'SKAMANIA GENERAL STORE LLC', 'SKAMANIA LANDING LLC',\n",
    "             'SKAMANIA LANDING OWNERS ASSOC', 'SKAMANIA PHYSICAL THERAPY', 'SWIFT CREEK ESTATES',\n",
    "             'SYNESIS SOFTWARE (USA) INC', 'THE RESORT AT SKAMANIA COVES', 'UNITED TELEPHONE OF THE NW',\n",
    "             'WASHOUGAL TIMBER TRAILS ASSOC'] + refRemoveList"
   ]
  },
  {
   "cell_type": "code",
   "execution_count": null,
   "metadata": {},
   "outputs": [],
   "source": [
    "skaPubLand = removeTerms(skaPubLand, removeList)"
   ]
  },
  {
   "cell_type": "code",
   "execution_count": null,
   "metadata": {},
   "outputs": [],
   "source": [
    "skaPubLand = skaPubLand + pubAddList"
   ]
  },
  {
   "cell_type": "code",
   "execution_count": null,
   "metadata": {},
   "outputs": [],
   "source": [
    "owner_string = \"\"\n",
    "for owner in skaPubLand:\n",
    "    if skaPubLand.index(owner) != 27:\n",
    "        owner_string = owner_string + f\"OwnerLast = '{owner}' Or \"\n",
    "        \n",
    "    elif skaPubLand.index(owner) == 27:\n",
    "        owner_string = owner_string + f\"OwnerLast = '{owner}'\"\n",
    "print(owner_string)\n",
    "        "
   ]
  },
  {
   "cell_type": "code",
   "execution_count": null,
   "metadata": {},
   "outputs": [],
   "source": [
    "skaPubOwners = skaPubLand"
   ]
  },
  {
   "cell_type": "code",
   "execution_count": null,
   "metadata": {},
   "outputs": [],
   "source": [
    "#out_featureClass = os.path.join(ws, 'skaParcels')\n",
    "#arcpy.CopyFeatures_management(skaLyr, out_featureClass)\n",
    "#arcpy.AddField_management(out_featureClass, 'PublicLand', 'TEXT', \n",
    " #                         field_length = 1)\n",
    "\n",
    "#with arcpy.da.UpdateCursor(out_featureClass, 'PublicLand', sqlClause(skaPubLand, 'OwnerLast')) as cursor:\n",
    "    #for row in cursor:\n",
    "        #row[0] = 'T'\n",
    "        #cursor.updateRow(row)"
   ]
  },
  {
   "cell_type": "code",
   "execution_count": null,
   "metadata": {},
   "outputs": [],
   "source": [
    "\n",
    "#arcpy.CopyFeatures_management('public_parcels3', r'C:\\Users\\Ricardo\\Desktop\\PCC\\Internship\\UpdatedCountyTaxLots\\TaxLots\\TaxLots.gdb\\skamaniaPublicParcels' )"
   ]
  },
  {
   "cell_type": "markdown",
   "metadata": {},
   "source": [
    "# Wahkiakum"
   ]
  },
  {
   "cell_type": "code",
   "execution_count": null,
   "metadata": {},
   "outputs": [],
   "source": [
    "waLyr = r'C:\\Users\\Ricardo\\Desktop\\PCC\\Internship\\UpdatedCountyTaxLots\\Shapefiles\\WahkiakumCo\\Parcels\\Parcels.shp'\n",
    "\n",
    "searchTerms = ['USA', 'UNITED', 'STATE', 'ORE', 'WASH', \n",
    "            'COUNTY', 'WAHKIAKUM', 'CITY', 'GOVERNMENT', 'SCHOOL', 'PUBLIC']\n",
    "\n",
    "myValues = unique_values(waLyr, 'Property_O')\n",
    "\n",
    "waPublicOwners = pubFind(searchTerms, myValues)\n",
    "\n",
    "print(waPublicOwners)\n"
   ]
  },
  {
   "cell_type": "code",
   "execution_count": null,
   "metadata": {},
   "outputs": [],
   "source": [
    "waPubOwners = ['SCHOOL DISTRICT #200','STATE OF WA', 'STATE OF WA DEPT OF FISH & WILDLIFE', 'STATE OF WA DEPT OF GAME', \n",
    "             'STATE OF WA DEPT OF HWY', 'STATE OF WA DEPT OF TRANS', 'STATE OF WA DEPT OF WILDLIFE', 'STATE OF WA DNR', \n",
    "             'STATE OF WA DNR NATURAL AREAS PROGRAM', 'STATE OF WA FISH & WILDLIFE', 'STATE OF WA HWY #12', \n",
    "             'USA BUREAU OF INDIAN AFFAIRS', 'USA FISH & WILDLIFE', 'WAHKIAKUM COUNTY']"
   ]
  },
  {
   "cell_type": "code",
   "execution_count": null,
   "metadata": {},
   "outputs": [],
   "source": [
    "waPubOwners.index('WAHKIAKUM COUNTY')"
   ]
  },
  {
   "cell_type": "code",
   "execution_count": null,
   "metadata": {},
   "outputs": [],
   "source": [
    "sql = sqlClause(waPubOwners, 'Property_O')"
   ]
  },
  {
   "cell_type": "code",
   "execution_count": null,
   "metadata": {},
   "outputs": [],
   "source": [
    "waPubOwners = waPubOwners + pubAddList"
   ]
  },
  {
   "cell_type": "code",
   "execution_count": null,
   "metadata": {},
   "outputs": [],
   "source": [
    "#addAndFillField(waLyr, waPubOwners, 'wahkiakumParcels', 'Property_O')"
   ]
  },
  {
   "cell_type": "code",
   "execution_count": null,
   "metadata": {},
   "outputs": [],
   "source": []
  },
  {
   "cell_type": "markdown",
   "metadata": {},
   "source": [
    "# Clatsop"
   ]
  },
  {
   "cell_type": "code",
   "execution_count": null,
   "metadata": {},
   "outputs": [],
   "source": [
    "clatsLyr = r'C:\\Users\\Ricardo\\Desktop\\PCC\\Internship\\UpdatedCountyTaxLots\\Shapefiles\\ClatsopCo\\Clatsop County Secure File Transfer-mXZcBwbyFGajC3KD\\Clatsop County Secure File Transfer-mXZcBwbyFGajC3KD\\LCEP\\LCEP.shp'\n",
    "\n",
    "searchTerms = ['UNITED', 'STATE', 'OREGON', 'WASH', \n",
    "            'COUNTY', 'CLATSOP', 'CITY', 'GOVERNMENT', 'SCHOOL', 'PUBLIC']\n",
    "\n",
    "myValues = unique_values(clatsLyr, 'OWNER_LINE')\n",
    "\n",
    "clatsPubOwners = pubFind(searchTerms, myValues)\n",
    "\n"
   ]
  },
  {
   "cell_type": "code",
   "execution_count": null,
   "metadata": {},
   "outputs": [],
   "source": [
    "clatsPubOwners = [i for i in clatsPubOwners if not ('ESTATE' in i or 'SUSAN' in i)]"
   ]
  },
  {
   "cell_type": "code",
   "execution_count": null,
   "metadata": {},
   "outputs": [],
   "source": [
    "removeList = ['ARCHDIOCESE OF OREGON CITY', 'ARCHDIOCESE OF OREGON CITY', 'ASSEMBLIES OF GOD OREGON DIST', \n",
    "              'AST LODGE 2 UNITED FINNISH', 'ASTORIA LODGE #2 UNITED', 'BHRE-OREGON LLC', 'BANK OF ASTORIA AN OREGON CORP', \n",
    "              'BELLINGER OREGON QTIP GARY D', 'BIO-OREGON PROPERTIES LLC', 'BUGATTO OREGON PROPERTIES', \n",
    "              'BUGATTO OREGON PROPERTIES INC', 'CITY CENTER HOSPITALITY LLC', 'CITY LUMBER COMPANY',\n",
    "              'CLATSOP CARE & REHAB CENTER DIST', 'CLATSOP CO HISTORICAL SOCIETY', \n",
    "              'CLATSOP CO WOMENS RESOURCE INC', 'CLATSOP COMMUNITY ACTION', 'CLATSOP COMMUNITY BANK', 'CLATSOP COMMUNITY COLLEGE',\n",
    "              'CLATSOP COUNTY DEV TRAIN CTR', \n",
    "              'CLATSOP COUNTY DEV TRAIN CTR', 'CLATSOP COUNTY DEV TRAINING CENTER', 'CLATSOP COUNTY DEV TRAINING CENTER', \n",
    "              'CLATSOP COUNTY HISTORICAL SOC', 'CLATSOP COUNTY HISTORICAL SOC', 'CLATSOP COUNTY HISTORICAL SOCIETY', \n",
    "              'CLATSOP COUNTY HISTORICAL SOCIETY','CLATSOP DEVELOPMENT CO', 'CLATSOP INDUSTRIAL PARK LLC', 'CLATSOP QUALITY CONSTRUCTION', 'CLATSOP RCA LLC', \n",
    "              'CLATSOP RENTALS LLC', 'CLATSOP RETIREMENT VILLAGE PROP', 'COVERT KRISTIN WASHBURN/MICHAEL', \n",
    "              'EAST OREGONIAN PUBLISHING CO', 'FIRST INTERSTATE BANK NA TR', 'FIRST INTERSTATE BANK OF OR TR', \n",
    "              'FIRST NATIONAL BANK OF OREGON', 'FIRST REPUBLIC TRUST COMPANY', 'FIRST UNITED METHODIST CHURCH', \n",
    "              'FORT CLATSOP HISTORICAL ASSOC', 'GOVERNMENT NATIONAL MORTGAGE ASSOCIATION', 'GREATER OREGON BEHAVIORAL HEALTH', \n",
    "              'GREATER OREGON BETTER HOUSING INITIATIVE', 'GREEN FELICITY HOPE', 'HAMLET HISTORICAL SCHOOLHOUSE', \n",
    "              'INTERSTATE AMUSEMENT CO', 'KUCOBICARE OREGON LLC', 'LEWIS & CLARK OREGON TIMBER LLC', \n",
    "              'NORTHWEST OREGON HOUSING ASSOC INC', 'NORTHWEST OREGON HOUSING AUTH', 'NORTHWEST OREGON HOUSING AUTHORITY', \n",
    "              'OREGON BANK THE', 'OREGON BANK THE TRUSTEE', 'OREGON CONFERENCE ADVENTIST CHURCHES', 'OREGON DIST COUNCIL ASSEMBLY',\n",
    "              'OREGON MILITARY DEPARTMENT', 'OREGON PAC DIST CHURCH OF THE NAZARENE',\n",
    "              'OREGON PROPERTY INVESTMENTS GROUP LLC', 'OREGON STATE UNIVERSITY FOUNDATIONI','OREGON STATE UNIVERSITY FOUNDATIONI', \n",
    "              'PATTON OREGON PROPERTIES LLC', 'PROVIDENCE HEALTH SYSTEM - OREGON', 'PROVIDENCE HEALTH SYSTEM OREGON',\n",
    "              'PUBLIC BREWING COMPANY', 'RECOLOGY WESTERN OREGON INC', 'RIVER CITY INVESTMENT CO LLC', 'RIVER CITY INVESTMENT COMPANY', \n",
    "              'RIVER CITY INVESTMENT COMPANY LLC', 'RIVERCITY INVESTMENT CO LLC', 'S & S AKHAVAN SARAF OREGON PROP',\n",
    "              'SEASIDE CITY OF URBAN RENEWAL AGENCY', 'SHORT TERM BIBLE SCHOOL', 'SHORT TERM BIBLE SCHOOLS', 'SHORT TERM BIBLE SCHOOLS INC', \n",
    "              'SOUTH COUNTY CMTY FOOD BANK INC','TIMES THEATRE & PUBLIC HOUSE', 'TRI-CITY PROPERTIES LLC', 'TWO C S PROPERTIES OF OREGON LLC', \n",
    "              \"TWO C'S PROPERTIES OF OREGON LLC\", 'U S NATIONAL BANK OF OREGON', 'UNION HEALTH DISTRICT OF CLATSOP COUNTY', \n",
    "              'UNION HEALTH DISTRICT OF CLATSOP COUNTY', 'UNITED METHODIST CHURCH OF SEASIDE', \"UNITED PAPERWORKERS INTERNAT'L\", \n",
    "              'UNITED STATES BAKERY', 'UNITED STATES BAKERY','UNITED STATES OF AMERICA BPA', 'UNITED STATES OF AMERICA BPA', \n",
    "              'WARRENTON CITY/MUNICIPAL CORP', 'WASHBURN CHRISTINE C', 'WASHINGTON ALLYN J', 'WASHINGTON AMANDA', 'WASHINGTON ELIZABETH J', \n",
    "              'WASHINGTON GLEN LEIGHTON', 'WASHINGTON TAMMY L', 'WEST OREGON ELECTRIC COOP', 'WESTERN OREGON WASTE', \n",
    "              'WESTERN OREGON WASTE COAST INC', 'WESTERN STATE BUILDERS INC'] + refRemoveList\n",
    "              \n",
    "              \n",
    "              \n",
    "              "
   ]
  },
  {
   "cell_type": "code",
   "execution_count": null,
   "metadata": {},
   "outputs": [],
   "source": [
    "clatsPubOwners = removeTerms(clatsPubOwners, removeList)"
   ]
  },
  {
   "cell_type": "code",
   "execution_count": null,
   "metadata": {},
   "outputs": [],
   "source": [
    "clatsPubOwners = clatsPubOwners + pubAddList"
   ]
  },
  {
   "cell_type": "code",
   "execution_count": null,
   "metadata": {},
   "outputs": [],
   "source": [
    "#addAndFillField(clatsLyr, clatsPubOwners, 'clatsopParcels', 'OWNER_LINE')"
   ]
  },
  {
   "cell_type": "markdown",
   "metadata": {},
   "source": [
    "# Clark\n",
    "\n",
    "#### Anyone who needs to obtain the property owner name data must submit an email request to the Clark County Treasurer's Office (treasoff@clark.wa.gov) which specifies that they are requesting access to the property owner name data that are maintained by Clark County GIS.\n"
   ]
  },
  {
   "cell_type": "code",
   "execution_count": null,
   "metadata": {},
   "outputs": [],
   "source": [
    "clarkLyr = r'C:\\Users\\Ricardo\\Desktop\\PCC\\Internship\\UpdatedCountyTaxLots\\Shapefiles\\ClarkCo\\Ownership\\PublicLandOwnership.shp'\n",
    "\n",
    "\n",
    "myValues = unique_values(clarkLyr, 'PACSOwner')\n",
    "clarkPubOwners = myValues\n",
    "\n"
   ]
  },
  {
   "cell_type": "markdown",
   "metadata": {},
   "source": [
    "# Cowlitz"
   ]
  },
  {
   "cell_type": "code",
   "execution_count": null,
   "metadata": {},
   "outputs": [],
   "source": [
    "cowLyr = r'C:\\Users\\Ricardo\\Desktop\\PCC\\Internship\\UpdatedCountyTaxLots\\Shapefiles\\CowlitzCo\\CoParcels\\Parcels_Oct_2020\\Parcels_Oct_2020.shp'\n",
    "myValues = unique_values(cowLyr, 'DEED_HOLDE')\n",
    "searchTerms = ['UNITED', 'STATE', 'US ', 'USA ', 'OREGON', 'WASH', \n",
    "            'COUNTY', 'COWLITZ', 'CITY', 'GOVERNMENT', 'SCHOOL', 'PUBLIC']\n",
    "cowPubOwners = pubFind(searchTerms, myValues)\n"
   ]
  },
  {
   "cell_type": "code",
   "execution_count": null,
   "metadata": {},
   "outputs": [],
   "source": [
    "cowPubOwners = [i for i in cowPubOwners if not ('ESTATE' in i or 'SUSAN' in i)]\n",
    "removeUs = [i for i in cowPubOwners if ('US' in i and not i.startswith('US'))]"
   ]
  },
  {
   "cell_type": "code",
   "execution_count": null,
   "metadata": {},
   "outputs": [],
   "source": [
    "cowPubOwners = removeTerms(cowPubOwners, removeUs)"
   ]
  },
  {
   "cell_type": "code",
   "execution_count": null,
   "metadata": {},
   "outputs": [],
   "source": [
    "removeList = ['47 COWLITZ LLC  (C)', '946 WASHINGTON WAY LLC', 'ASH COUNTY PROPERTIES LLC', 'BYMB WASHINGTON PROPERTIES LLC',\n",
    "             'CITY VIEW TER II HOMEOWN ASSOC', 'CITY VIEW TERRACE HOMEOWNERS', 'CITY VIEW TERRACES HOMEOWNERS', \n",
    "              'CITY VIEW TERRACES II HOMEOWNERS', 'COLUMBIA STATE BANK', 'COLUMBIA/COWLITZ RAILWAY', 'COUNTYWIDE PROPERTIES LLC',\n",
    "             'COWLITZ COUNTY CASA', 'COWLITZ COUNTY CASA', 'COWLITZ COUNTY HABITAT FOR HUMANITY', \n",
    "              'COWLITZ COUNTY HABITAT FOR HUMANITY', 'COWLITZ ENTERPRISES', 'COWLITZ FAMILY HEALTH CENTER',\n",
    "              'COWLITZ HUMANE SOCIETY', 'COWLITZ INDIAN TRIBE', 'COWLITZ INVESTMENTS LLC', 'COWLITZ LODGE #66 IOOF', \n",
    "              'COWLITZ ORCHARDS LLC', 'COWLITZ RIVER MHP LLC', 'COWLITZ TERRACE DEVELOPMENT LTD', \n",
    "              'COWLITZ VALLEY WILDLIFE', 'COWLITZ VALLEY WILDLIFE LEAGUE', 'COWLITZ VIEW MEM GDN ENDOW CARE FUND',\n",
    "              'COWLITZ VIEW MEMORIAL GARDENS', 'COWLITZ WAY PLAZA LLC', 'DMC PROPERTIES WASHINGTON LLC', \n",
    "              'FAST TRACK NORTHWEST-WASHINGTON', 'FIRST ASSEMBLY OF GOD COWLITZ COUNTY', 'FIRST ASSEMBLY OF GOD COWLITZ COUNTY', \n",
    "              'HARRIS LUMBER CO OREGON CORP', 'JDS DEVELOPMENT-WASHINGTON LLC', 'JONES WASHINGTON STEVEDORING CO',\n",
    "             'KALAMA UNITED METHODIST CHURCH', 'KEATLEY COWLITZ FARM LLC', 'KELSO CAR WASH LLC', 'KELSO FIRST UNITED METHODIST',\n",
    "              'LG PROPERTIES OF COWLITZ CO LLC', 'LG PROPERTIES OF COWLITZ COUNTY LLC', 'LG PROPERTIES OF COWLITZ COUNTY LLC', \n",
    "              'LGI HOMES - WASHINGTON LLC', 'LONGVIEW CHRISTIAN SCHOOL', 'LONGVIEW CHRISTIAN SCHOOL INC'\n",
    "            'LONGVIEW UNITED METHODIST CHURCH', 'MAKE IT FOUNDATION AN OREGON NONPROFIT CORPORATION', \n",
    "              'OLD REPUBLIC NATIONAL TITLE INSURANCE CO', 'OREGON CONFERENCE ADVENTIST CHURCHES', \n",
    "              'OREGON CONFERENCE EDUCATION ASSOCIATION', 'OTTIS FELICITY F', 'PACIFIC WEST TIMBER CO (WASHINGTON) LLC', \n",
    "              'PARSON WASHINGTON PROPERTIES LLC', 'ROSE CITY INVESTMENT PROPERTIES LLC', 'SCHOOLCRAFT BRANDEN/KATHERINE', \n",
    "              'SCHOOLING GERRI G/WILLIAM D', 'THREE RIVERS CHRISTIAN SCHOOL', 'TWIN CITY BAPTIST CHURCH', \n",
    "              'TWIN CITY INVESTMENTS LLC', 'UNITED INVESTMENT MANAGAMENT LLC', 'UNITED PENTECOSTAL CHURCH', \n",
    "              'UNITED STATES BAKERY', 'UNITED STATES BAKERY', 'US BANK  L/O', 'US BANK NATIONAL ASSOCIATION N D',\n",
    "             'US NATURAL RESOURCES INC', 'US WEST COMMUNICATIONS / PACIFIC', 'US WEST COMMUNICATIONS INC',\n",
    "             'WASH BAPTIST CONV', 'WASH INTERSTATE BROADCASTING INC', 'WASH INTERSTATE BROADCASTING INC', 'WASH MUTUAL BK  LO', \n",
    "              'WASHAM JENNIFER E ETAL', 'WASHBURN CAROL A', 'WASHBURN JEFF P/STRANGE TERESA L', 'WASHBURN JEFFREY P/TERESA L', \n",
    "              'WASHBURN JORDEN Z/COUTNEY A', 'WASHBURN TERESA L', 'WASHINGTON ALBERT B ETUX', 'WASHINGTON BAPTIST CHURCH CONV', \n",
    "              'WASHINGTON BAPTIST CONVENTION', 'WASHINGTON DELLA J  RO', 'WASHINGTON MIRON', 'WASHINGTON MUTUAL BANK  LO', \n",
    "              'WASHINGTON PETROLEUM GROUP INC', 'WASHINGTON SQUARE LLC', 'WASHINGTON VICKI M', 'WASHMAN LLC', \n",
    "              'WEBSTER MICHAEL R/ANACITY A'] + refRemoveList"
   ]
  },
  {
   "cell_type": "code",
   "execution_count": null,
   "metadata": {},
   "outputs": [],
   "source": [
    "cowPubOwners = removeTerms(cowPubOwners, removeList)"
   ]
  },
  {
   "cell_type": "code",
   "execution_count": null,
   "metadata": {},
   "outputs": [],
   "source": [
    "cowPubOwners = cowPubOwners + pubAddList"
   ]
  },
  {
   "cell_type": "code",
   "execution_count": null,
   "metadata": {},
   "outputs": [],
   "source": [
    "#addAndFillField(cowLyr, cowPubOwners, 'cowlitzParcels', 'DEED_HOLDE')"
   ]
  },
  {
   "cell_type": "markdown",
   "metadata": {},
   "source": [
    "# Pacific"
   ]
  },
  {
   "cell_type": "code",
   "execution_count": null,
   "metadata": {},
   "outputs": [],
   "source": [
    "pacLyr = r'C:\\Users\\Ricardo\\Desktop\\PCC\\Internship\\UpdatedCountyTaxLots\\Shapefiles\\PacificCo\\Tax_Lots.shp'\n",
    "myValues = unique_values(pacLyr, 'CURRENT_O')\n",
    "searchTerms = ['UNITED', 'STATE', 'US ', 'USA ', 'OREGON', 'WASH', \n",
    "            'COUNTY', 'PACIFIC', 'CITY', 'GOVERNMENT', 'SCHOOL', 'PUBLIC']\n",
    "pacPubOwners = pubFind(searchTerms, myValues)\n"
   ]
  },
  {
   "cell_type": "code",
   "execution_count": null,
   "metadata": {},
   "outputs": [],
   "source": [
    "pacPubOwners = [i for i in pacPubOwners if not ('ESTATE' in i or 'SUSAN' in i or 'LLC' in i or \n",
    "                                                'COMPANY' in i or 'ASSOC' in i or 'INC' in i or \n",
    "                                               'BANK' in i or 'CHURCH' in i or 'SOCIETY' in i or\n",
    "                                               'RAILWAY' in i or 'PRESBYTERIAN' in i)]\n",
    "removeUs = [i for i in pacPubOwners if ('US' in i and not i.startswith('US'))]\n",
    "pacPubOwners = removeTerms(pacPubOwners, removeUs)"
   ]
  },
  {
   "cell_type": "code",
   "execution_count": null,
   "metadata": {},
   "outputs": [],
   "source": [
    "removeList = ['ANNIE WRIGHT SCHOOL,', 'DURYEE & SAUNDERS PACIFIC COUNTY REAL*', 'DURYEE & SAUNDERS PACIFIC COUNTY REAL*', \n",
    "              'EAST OREGONIAN PUBLISHING CO,', 'FIA TIMBER GROWTH & VALUE WASHINGTON *', 'FRIENDS OF CHINOOK SCHOOL,', \n",
    "              'LEWIS COUNTY COMMUNITY HEALTH SERVICE*', 'PACIFIC COAST CRANBERRY RESEARCH,', 'PACIFIC COUNTY ANGLERS,', \n",
    "              'PACIFIC COUNTY ANGLERS,', 'PACIFIC EYE CLINIC,', 'PACIFIC NW ANNUAL CONF/UNITED METHODI*', \n",
    "              'PACIFIC NW ANNUAL CONF/UNITED METHODI*', 'PACIFIC PLACE APT LMT,',\"RAYMOND WASH CONG OF JEHOVAH'S WITNES*\", \n",
    "             'SCHOOLING, JACK E & DONELLE J', 'STATEN, JACQUALINE M', 'SUNRISE WASHINGTON SUBSIDIARY CO,',\n",
    "             'WASHAM, DANIEL & HEIDI & GLENN', 'WASHAM, GLENN', 'WASHINGTON CONFERENCE OF SEVENTH DAY *', \n",
    "              'WESTERN WASH CONS BAPTIST CAMPING ASS*', 'WESTERN WASH CONSERV BAPTIST,', 'WESTERN WASH CORP 7TH DAY ADVEN,'] + refRemoveList"
   ]
  },
  {
   "cell_type": "code",
   "execution_count": null,
   "metadata": {},
   "outputs": [],
   "source": [
    "pacPubOwners = removeTerms(pacPubOwners, removeList)"
   ]
  },
  {
   "cell_type": "code",
   "execution_count": null,
   "metadata": {},
   "outputs": [],
   "source": [
    "pacPubOwners = pacPubOwners + pubAddList"
   ]
  },
  {
   "cell_type": "code",
   "execution_count": null,
   "metadata": {},
   "outputs": [],
   "source": [
    "#addAndFillField(pacLyr, pacPubOwners, 'pacificParcels', 'CURRENT_O')"
   ]
  },
  {
   "cell_type": "markdown",
   "metadata": {},
   "source": [
    "# Multnomah"
   ]
  },
  {
   "cell_type": "code",
   "execution_count": null,
   "metadata": {},
   "outputs": [],
   "source": [
    "multLyr = r'C:\\Users\\Ricardo\\Desktop\\PCC\\Internship\\UpdatedCountyTaxLots\\Shapefiles\\MultCo\\Taxlot_Parcels.shp'\n",
    "myValues = unique_values(multLyr, 'OWNER1')\n",
    "searchTerms = ['UNITED', 'STATE', 'US ', 'USA ', 'OREGON', 'WASH', \n",
    "            'COUNTY', 'MULT', 'CITY', 'GOVERNMENT', 'SCHOOL', 'PUBLIC', 'METRO']\n",
    "multPubOwners = pubFind(searchTerms, myValues)"
   ]
  },
  {
   "cell_type": "code",
   "execution_count": null,
   "metadata": {},
   "outputs": [],
   "source": [
    "multPubOwners = narrowList(multPubOwners)"
   ]
  },
  {
   "cell_type": "code",
   "execution_count": null,
   "metadata": {},
   "outputs": [],
   "source": [
    "removeList1 = ['AAA OREGON/IDAHO', 'ADULT LEARNING SYSTEMS OF OREGON', 'APOSTOLIC FAITH MISSION OF PORTLAND OREGON', \n",
    "              'ARCHDIOCESE OF PORTLAND IN OREGON', 'ASIAN BUDDHIST COMMUNITY CONGREGATION OF OREGON', \n",
    "              'ASSEMBLIES OF GOD DISTRICT OF OREGON', 'AUTOMOBILE CLUB OF OREGON', 'BIAVA JAIME E & WASHBURN KELLY N', \n",
    "              'BROADWAY & WASHINGTON CONDO OWNERS ASSN', 'BROWN RICHARD P & WASHINGTON LAURA L', 'CASE PATRICK R & CASE FELICITY M', \n",
    "              'CCC-INTERSTATE APARTMENTS LP', 'CENTRAL CATHOLIC HIGH SCHOOL PORTLAND OREGON', 'CENTRAL CATHOLIC HIGH SCHOOL PORTLAND OREGON', \n",
    "              'CENTRAL CITY CONCERN', 'CHABAD-LUBAVITCH OF OREGON', 'CHRISTIE STATER ANDERSEN NONEXEMPT SHARE TR', 'CITY TEAM MINISTRIES', \n",
    "              'CITY VIEW VENTURES LP', \"CITYBIKES WORKERS' COOPERATIVE\", 'CLATSOP COUNTY DEVEL TRAINING CENTER ASSN', \n",
    "              'COLUMBIA CHRISTIAN SCHOOLS', 'CONFEDERATED TRIBES OF SILETZ INDIANS OF OREGON', \n",
    "              'CONFEDERATED TRIBES OF THE GRAND RONDE COMMUNITY OF OREGON', 'CONNIE K SCHOOLEY TR', 'DIOCESE OF OREGON', \n",
    "              'DONALD A WASHBURN REV TR & CHRISTINE C WASHBURN REV TR', 'FAIRFIELD INTERSTATE LANES LP',\n",
    "              'FAITHFUL SAVIOR MINISTRIES COMMUNITY SCHOOL', 'FILM ACTION OREGON', 'FRANCISCAN LIFE EDUCATION CENTER OF OREGON',\n",
    "              \"FRENCH AMERICAN INT'L SCHOOL\", 'GAMELIN-OREGON ASSN', 'GIRL SCOUTS OF OREGON AND', 'GRACE CITY PORTLAND',\n",
    "             \"HARTLEY SURVIVOR'S TR & HARTLEY STATE FAMILY TR\", 'HAWASH MAHER & HAWASH LISA', 'HEYL JONATHAN H & SCHOOLEY SARA E', \n",
    "              'HOLLY SALES & SERVICE OF OREGON CO', 'HOLY TRINITY GREEK ORTHODOX CATHEDRAL OF OREGON', \n",
    "              'HOME FORWARD(LEASED MULTIPLE TENANTS)', 'IBEW & UNITED WORKERS FEDERAL CREDIT UNION', 'IU MIEN PUBLIC BUDDHA TEMPLE', \n",
    "              'IVY SCHOOL-A MONTESSORI CHARTER SCHOOL', 'JONES OREGON STEVEDORING CO', 'JUDITH E GOULD EXEMPTION TR -OREGON ELECTED', \n",
    "              'KAISER HEALTH PLAN OF OREGON', 'KALLURI FAMILY OREGON TR', 'METROEAST COMMUNITY MEDIA', 'METROKE MICHAEL J TR & METROKE MARCIA G TR', \n",
    "               'METROPOLITAN FAMILY SERVICES', 'METROPOLITAN LIFE INSURANCE CO']"
   ]
  },
  {
   "cell_type": "code",
   "execution_count": null,
   "metadata": {},
   "outputs": [],
   "source": [
    "removeList2 = ['KENTON LODGE NO 145 A F & A M OF OREGON', 'KOWASH NATHANIEL S & KOWASH LESLIE A', 'LUISE L LANE BY-PASS OREGON QTIP TR', \n",
    "               'LUTHERAN FAMILY SERVICE OF OREGON AND SW WASHINGTON', 'LUTHERAN FAMILY SERVICE OF OREGON AND SW WASHINGTON', \n",
    "               'MEIGS PATRICK & NUNLEY FELICITY','METANOIA PEACE COMMUNITY UNITED', 'MICRO ENTERPRISE SERVICES OF OREGON', \n",
    "               'MULTNOMAH AMATEUR ATHLETIC CLUB', 'MULTNOMAH ATHLETIC CLUB', 'MULTNOMAH LEARNING ACADEMY', \n",
    "               'MULTNOMAH MONTHLY MEETING OF FRIENDS', 'MULTNOMAH UNIVERSITY', 'NEIGHBORHOOD UNITED PENTECOSTAL CH OF PORT ORE', \n",
    "               'NEW DAY ANANDA MARGA SCHOOL OF PORTLAND', 'NYE CHRISTOPHER M & MULTZ POPPI', 'OCF JOSEPH E WESTON PUBLIC FOUNDATION', \n",
    "               'OREGON AFL-CIO', 'OREGON AFSCME COUNCIL 75', 'OREGON BAPTIST CONVENTION', 'OREGON BAPTIST RETIREMENT HOME', \n",
    "               'OREGON BAPTIST RETIREMENT HOMES', 'OREGON BAPTIST STATE CONVENTION PLEASANT VALLEY COMM BAP', \n",
    "               'OREGON BAPTIST STATE CONVENTION PLEASANT VALLEY COMM BAP', 'OREGON BECKNELL INVESTORS', \n",
    "               'OREGON BEVERAGE RECYCLING COOPERATIVE', 'OREGON BUDDHIST TEMPLE', 'OREGON CATHOLIC PRESS', \n",
    "               'OREGON CITY BUILDING LP', 'OREGON CITY BUILDING LP', 'OREGON CITY FURNITURE CO', 'OREGON CITY FURNITURE CO', \n",
    "               'OREGON COMMUNITY FOUNDATION', 'OREGON CONSISTORY NO 1 OF PORTLAND', 'OREGON HEALTH & SCIENCE UNIVERSITY', \n",
    "               'OREGON ISLAMIC CHAPLAIN ORG', 'OREGON LEATHER CO', 'OREGON LIMITED', 'OREGON MEDITATION CENTER', \n",
    "               'OREGON PACIFIC INVEST & DEVEL CO', 'OREGON PROPERTY FACTORS', 'OREGON PUBLIC BROADCASTING', \n",
    "               'OREGON PUBLIC BROADCASTING', 'OREGON PUBLIC BROADCASTING FOUNDATION', 'OREGON PUBLIC BROADCASTING FOUNDATION',\n",
    "              'OREGON STUDENT FOUNDATION', 'OREGON TRAIL POST #150 AMERICAN LEGION', 'OREGON TRANSFER CO', \n",
    "               'OREGON WASH RR & NAVIGATION CO', 'OREGON WASH RR & NAVIGATION CO', 'OREGON WORSTED CO ETAL', \n",
    "               'OREGON YACHT CLUB LTD', 'OREGONIANS FEDERAL CREDIT UNION', 'OSTROM ZACHARY & WASHATKO NOAH', 'OUR UNITED VILLAGE', \n",
    "               'OUR UNITED VILLAGES', 'OWENS STEVEN & WASHINGTON BECKY', 'PATERSON OREGON PROPERTY TR', \n",
    "               'PIENKOS ANDREW P & STATES KATHLEEN W', \"PORTLAND STATE UNIVERSITY - LEASED CAF'E YUMM\", 'PROTESTANT EPISCOPAL BISHOP OF OREGON', 'PROVIDENCE HEALTH & SERVICES-OREGON',\n",
    "              'ROBINSON STATES W & KUNI KRISTINE', 'ROMAN CATHOLIC ARCHBISHOP OF PORTLAND IN OREGON', 'ROSE CITY CEMETERY', \n",
    "               \"ROSE CITY CEMETERY ASS'N\", 'ROSE CITY HOLDINGS', 'ROSE CITY INVESTMENT CO', 'SCHADE TIMOTHY L & WASHBURN ALLISYN E',\n",
    "              'SCHOOLER JASON & SCHOOLER CYMBRIE', 'SCHOOLEY CHERI L & SCHOOLEY JOHN', 'SCHOOLEY TODD E & BACHELDER NATHANIEL A', \n",
    "               'SCHOOLMASTER SALLY', 'ST MARY CATHOLIC CATHEDRAL OF IMMACULATE CONCEPTION OF PORTLAND OREGON', \n",
    "               \"ST STEPHEN'S EPISCOPAL PARISH PORTLAND OREGON\", 'STATE ANTHONY E & STATE PAMELA K', 'STATE THOMAS E & STATE KATHERINE M', \n",
    "               'STATEN HARRY & STATEN AMY', 'STATEN JUDITH M & STATEN KENNETH W', 'STATEN-ALBRECHT KATHLEEN C', 'STATES DEREK', \n",
    "               'STEWART RICHARD & STEWART FELICITY A', 'THE CONFEDERATED TRIBES OF THE GRAND RONDE COMMUNITY OF OREGON', \n",
    "               'THE FRENCH AMERICAN INTERNATIONAL SCHOOL', 'THE INTERNATIONAL SCHOOL', 'THE JAPANESE GARDEN FOUNDATION OF OREGON', \n",
    "               'THE OREGON COMMUNITY FOUNDATION', 'TRAILS CLUB OF OREGON', 'TRINITY EPISCOPAL CATHEDRAL PORTLAND OREGON',\n",
    "              'TUCKER MAXON SCHOOL', 'UNITED BROTHERHOOD OF CARPENTERS & JOINERS OF AMERICA', 'UNITED FINANCE CO', 'UNITED REALTY CO', \n",
    "               'UNITED STATES BAKERY', 'UNITED STATES BAKERY', 'UNITED STATES MISSION', 'UNITED STATES MISSION',\n",
    "              'UNITED TELEPHONE CO NW', 'UNITED WAY OF THE COLUMBIA-WILLAMETTE', 'UNIVERSITY OF WESTERN STATES',\n",
    "              \"US NAT'L BK OF OR\", \"US NAT'L BK OF OR TR\", 'US SPRINT COMMUNICATIONS CO LTD PARTNERSHIP', 'VAN-LANG VIETNAMESE NONPROFIT SCHOOL',\n",
    "               'WASH BARBARA A & WASH JOEY D', 'WASH DAVID L & DURKEE JOANNE L', 'WASH DONNA O', 'WASH JOEY D', 'WASH MAN L L C', \n",
    "               'WASHAM DENNIS W & WASHAM PAMELA J', 'WASHBURN BILLY J & WASHBURN KATHLEEN G', 'WASHBURN BRADLEY & BENSON KRISTIN', \n",
    "               'WASHBURN BRADLEY & BENSON KRISTIN R', 'WASHBURN CAROL S TR & WASHBURN JOE D TR', 'WASHBURN CHARLES J & WASHBURN JENNIFER L', \n",
    "               'WASHBURN DEANNE L TR', 'WASHBURN DIANA L & WASHBURN ROBERT B', 'WASHBURN DONALD & WASHBURN LISA A L', 'WASHBURN DONALD A', \n",
    "               'WASHBURN GARY A & WASHBURN DIANE P', 'WASHBURN HEATHER', 'WASHBURN HOLLY B', 'WASHBURN MARY A', \n",
    "               'WASHBURN MISTY A & WASHBURN DENNIS W JR', 'WASHBURN ROBERT A & WASHBURN WILMA J', 'WASHBURN SHELBY & WASHBURN SETH', \n",
    "               'WASHBURN SHELLEY K', 'WASHBURN THOMAS M & WASHBURN KELLI', 'WASHBURN THOMAS W', 'WASHBURN VA LERA LM', \n",
    "               'WASHBURN WARREN R & ANDERSON TAMARA L', 'WASHBURN WILLOW A', 'WASHBURN ZAKARY B & WASHBURN BILLIE J', \n",
    "               'WASHCHUK MATTHEW & BOYD KRISTEN', 'WASHINGTON AARON', 'WASHINGTON ALICE', 'WASHINGTON ANDRE L & RAE CYNTHIA L', \n",
    "               'WASHINGTON CARLTON C & WASHINGTON HELEN L', 'WASHINGTON CHARLES R & TRAN QUAN L', 'WASHINGTON DARYL N & WASHINGTON GLENN R', \n",
    "               'WASHINGTON DEBBY L & WASHINGTON ARCHIE', 'WASHINGTON DWAYNE D', 'WASHINGTON EDWARD J', 'WASHINGTON ELIZABETH C', \n",
    "               'WASHINGTON ELIZABETH J', 'WASHINGTON ERWIN V & WASHINGTON BARBARA M', 'WASHINGTON FEDERAL', 'WASHINGTON FEDERAL SAVINGS', \n",
    "               'WASHINGTON GERALINE', 'WASHINGTON GREGORY L & SWOPES KIMBERLY', 'WASHINGTON JASON E & WASHINGTON MICHELLE L', \n",
    "               'WASHINGTON JOSEPH D & WASHINGTON MURIEL O', 'WASHINGTON KEVIN W', 'WASHINGTON KRISANN & WASHINGTON DARNELL', \n",
    "               'WASHINGTON LATONIA J', 'WASHINGTON LAURIE K & WASHINGTON JIMMIE', 'WASHINGTON LINDA B', 'WASHINGTON LODGE NO 46 AF & AM', \n",
    "               'WASHINGTON MICHAEL R & WASHINGTON PAULETTE D', 'WASHINGTON MOLLY & WASHINGTON RAKEEM A', 'WASHINGTON MYRTLE J', \n",
    "               'WASHINGTON OMAR R', 'WASHINGTON PAMELA & ROYER TORRENCE', 'WASHINGTON REBECCA L & WASHINGTON TERRY L', 'WASHINGTON RICK', \n",
    "               'WASHINGTON ROBIN A', 'WASHINGTON ROSA L', 'WASHINGTON ROY & WASHINGTON PEGGY', 'WASHINGTON SALLY A', \n",
    "               'WASHINGTON SUZANNE-50% & SARAGOZA CONSUELO-50%', 'WASHINGTON SUZANNE-60% & SARAGOZA CONSUELO C-40%', \n",
    "               'WASHINGTON TYRONE E & WASHINGTON NEELY E', 'WASHINGTON VERNETTE', 'WASHINGTON WILLIE & WASHINGTON BERTHA F', \n",
    "               'WASHINGTON YVETTE A', 'WASHMAN L L C', 'WASHTOK CHRISTOPHER & WASHTOK AMY', \n",
    "               \"WEST CONGREGATION OF JEHOVAH'S WITNESSES GRESHAM OREGON\", 'WEST HILLS CHRISTIAN SCHOOL', \n",
    "               'WESTERN UNITED LIFE ASSURANCE CO', 'WILSON TIMOTHY J & SCHOOLER MARY L', 'WOOD VILLAGE CITY OF', \n",
    "               'ZEN COMMUNITY OF OREGON']"
   ]
  },
  {
   "cell_type": "code",
   "execution_count": null,
   "metadata": {},
   "outputs": [],
   "source": [
    "removeList = removeList1 + removeList2 + refRemoveList"
   ]
  },
  {
   "cell_type": "code",
   "execution_count": null,
   "metadata": {},
   "outputs": [],
   "source": [
    "multPubOwners = removeTerms(multPubOwners, removeList)"
   ]
  },
  {
   "cell_type": "code",
   "execution_count": null,
   "metadata": {},
   "outputs": [],
   "source": [
    "multPubOwners = list(dict.fromkeys(multPubOwners))"
   ]
  },
  {
   "cell_type": "code",
   "execution_count": null,
   "metadata": {},
   "outputs": [],
   "source": [
    "multPubOwners = multPubOwners + pubAddList"
   ]
  },
  {
   "cell_type": "code",
   "execution_count": null,
   "metadata": {},
   "outputs": [],
   "source": [
    "#addAndFillField(multLyr, multPubOwners, 'multnomahParcels', 'OWNER1')"
   ]
  },
  {
   "cell_type": "markdown",
   "metadata": {},
   "source": [
    "# Columbia"
   ]
  },
  {
   "cell_type": "code",
   "execution_count": null,
   "metadata": {},
   "outputs": [],
   "source": [
    "colLyr = r'C:\\Users\\Ricardo\\Desktop\\PCC\\Internship\\UpdatedCountyTaxLots\\TaxLots\\TaxLots.gdb\\columbiaDoNotDelete'\n",
    "\n",
    "searchTerms = ['UNITED', 'STATE', 'OREGON', 'WASH', \n",
    "            'COUNTY', 'COLUMBIA', 'CITY', 'GOVERNMENT', 'SCHOOL', 'PUBLIC']\n",
    "\n",
    "myValues = unique_values(colLyr, 'OWNER')\n",
    "\n",
    "colPubOwners = pubFind(searchTerms, myValues)\n",
    "\n",
    "\n"
   ]
  },
  {
   "cell_type": "code",
   "execution_count": null,
   "metadata": {},
   "outputs": [],
   "source": [
    "colPubOwners = narrowList(colPubOwners)"
   ]
  },
  {
   "cell_type": "code",
   "execution_count": null,
   "metadata": {},
   "outputs": [],
   "source": [
    "colRemoveList = ['ARCHDIOCESE OF PORTLAND IN OREGON', 'COLUMBIA BUILDING CO', 'COLUMBIA CO DRG VECTOR CONTROL', \n",
    "                 'COLUMBIA COMMUNITY MENTAL HEALTH', 'COLUMBIA COUNTY HABITAT FOR HUMANITY', 'COLUMBIA COUNTY HABITAT FOR HUMANITY',\n",
    "                'COLUMBIA COUNTY NATAL GRANGE', 'COLUMBIA COUNTY NATAL GRANGE', 'COLUMBIA COUNTY POMONA GRANGE', \n",
    "                 'COLUMBIA COUNTY POMONA GRANGE', 'COLUMBIA COUNTY SHRINE CLUB', 'COLUMBIA COUNTY SHRINE CLUB',\n",
    "                 'COLUMBIA HILLS DEVELOP CO', 'COLUMBIA HILLS RETIREMENT CTR', 'COLUMBIA PARK LIMITED PARTNERSHIP', \n",
    "                 'COLUMBIA PHOENIX DEVELOPMENT', 'EAST RIVER FELLOWSHIP @ RAINER OREGON IN', 'HI-SCHOOL PHARMACY', \n",
    "                 'LOWER COL SUNDAY SCHOOL FELLOWSHIP', 'OREGON & NATIONAL SOC OF DAUGHTERS OF AM', 'SAFE OF COLUMBIA COUNTY', \n",
    "                 'SAFE OF COLUMBIA COUNTY', 'UNITED STATES GYPSUM', 'UNITED STATES GYPSUM', 'WASHAM JENNIFER E', 'WASHBURN CHARLENE', 'WASHBURN CLINTON C & MARCIA J', \n",
    "                 'WASHBURN STEPHEN C AND REBECCA J', 'WASHBURN WILLIAM W JR & DIANA L', 'WASHINGTON DUANE & DEBRA K', 'WASHINGTON KHRIS', \n",
    "                 'WEST OREGON ELECTRIC COOP', 'ZEN COMMUNITY OF OREGON'] + refRemoveList"
   ]
  },
  {
   "cell_type": "code",
   "execution_count": null,
   "metadata": {},
   "outputs": [],
   "source": [
    "colPubOwners = removeTerms(colPubOwners, colRemoveList)"
   ]
  },
  {
   "cell_type": "code",
   "execution_count": null,
   "metadata": {},
   "outputs": [],
   "source": [
    "colPubOwners = list(dict.fromkeys(colPubOwners))"
   ]
  },
  {
   "cell_type": "code",
   "execution_count": null,
   "metadata": {},
   "outputs": [],
   "source": [
    "colPubOwners = colPubOwners + pubAddList"
   ]
  },
  {
   "cell_type": "code",
   "execution_count": null,
   "metadata": {},
   "outputs": [],
   "source": [
    "#addAndFillField(colLyr, colPubOwners, 'colParcels', 'OWNER')"
   ]
  },
  {
   "cell_type": "markdown",
   "metadata": {},
   "source": [
    "# List to Export\n",
    "\n",
    "publicOwners = {'mult': multPubOwners, 'ska': skaPubOwners, 'wa': waPubOwners, 'cla': claPubOwners, 'cow': cowPubOwners, \n",
    "                'pac': pacPubOwners}\n",
    "\n",
    "%store publicOwners\n",
    "\n",
    "coLyrs = {'mult' : multLyr, 'ska': skaLyr, 'wa': waLyr, 'cla': claLyr, 'cow': cowLyr, 'pac': pacLyr}"
   ]
  },
  {
   "cell_type": "markdown",
   "metadata": {},
   "source": [
    "# Create MegaList and Filter Out Discretionary Categories\n"
   ]
  },
  {
   "cell_type": "code",
   "execution_count": null,
   "metadata": {},
   "outputs": [],
   "source": [
    "megaList = colPubOwners + multPubOwners + pacPubOwners + cowPubOwners + clatsPubOwners + waPubOwners + skaPubOwners + clarkPubOwners"
   ]
  },
  {
   "cell_type": "code",
   "execution_count": null,
   "metadata": {},
   "outputs": [],
   "source": [
    "print(megaList)"
   ]
  },
  {
   "cell_type": "code",
   "execution_count": null,
   "metadata": {},
   "outputs": [],
   "source": [
    "discRemove = ['PORT OF', 'SCHOOL', 'EDUC', 'UNIVER', 'COLLEGE', 'LEAS', 'PUD',\n",
    "             'UTILITY', 'UTILITIES', 'UTITLITIES', 'UTIL DIST','PUBLIC WORKS', 'WATER WORKS', 'WATER BUREAU', \n",
    "              'CEMETERY', 'HOSPITAL', 'FIRE AND RESCUE', 'FIRE & RESCUE', 'LIBRAR',\n",
    "             'DRAIN', 'HIGHER ED', 'HIGHWAY', 'HWY', 'FIRE/RESCUE',\n",
    "             'FIRE DIST', 'PORT DISTRICT', 'BOYS & GIRLS', 'EVA MARIA DEMETRO',\n",
    "             'ACADEMY', 'HEALTHCARE', 'FIRE PROTECTION']"
   ]
  },
  {
   "cell_type": "code",
   "execution_count": null,
   "metadata": {},
   "outputs": [],
   "source": [
    "newMegaList, megaRemove = removePart(megaList, discRemove)"
   ]
  },
  {
   "cell_type": "code",
   "execution_count": null,
   "metadata": {},
   "outputs": [],
   "source": [
    "cityRemove = [i for i in newMegaList if ('CITY' in i)]"
   ]
  },
  {
   "cell_type": "code",
   "execution_count": null,
   "metadata": {},
   "outputs": [],
   "source": [
    "cityRemove = [i for i in cityRemove if not ('PARK' in i or 'METRO' in i or 'ENVIRONMENTAL' in i or 'WATER RES' in i or \n",
    "                                            'HOUSING AUTHORITY' in i or 'WILDLIFE' in i)]"
   ]
  },
  {
   "cell_type": "code",
   "execution_count": null,
   "metadata": {},
   "outputs": [],
   "source": []
  },
  {
   "cell_type": "code",
   "execution_count": null,
   "metadata": {},
   "outputs": [],
   "source": [
    "pubOwnersList = [colPubOwners, multPubOwners, pacPubOwners, cowPubOwners, clatsPubOwners, waPubOwners, skaPubOwners, clarkPubOwners]"
   ]
  },
  {
   "cell_type": "code",
   "execution_count": null,
   "metadata": {},
   "outputs": [],
   "source": [
    "for ownList in pubOwnersList:\n",
    "    ownList = removeTerms(ownList, megaRemove)"
   ]
  },
  {
   "cell_type": "code",
   "execution_count": null,
   "metadata": {},
   "outputs": [],
   "source": [
    "for ownList in pubOwnersList:\n",
    "    ownList = removeTerms(ownList, cityRemove)"
   ]
  },
  {
   "cell_type": "markdown",
   "metadata": {},
   "source": [
    "## Create layers for all Counties"
   ]
  },
  {
   "cell_type": "code",
   "execution_count": null,
   "metadata": {},
   "outputs": [],
   "source": [
    "out_featureClass = os.path.join(ws, 'skaParcels')\n",
    "arcpy.CopyFeatures_management(skaLyr, out_featureClass)\n",
    "arcpy.AddField_management(out_featureClass, 'PublicLand', 'TEXT', \n",
    "                         field_length = 1)\n",
    "with arcpy.da.UpdateCursor(out_featureClass, 'PublicLand', sqlClause(skaPubLand, 'OwnerLast')) as cursor:\n",
    "    for row in cursor:\n",
    "        row[0] = 'T'\n",
    "        cursor.updateRow(row)\n"
   ]
  },
  {
   "cell_type": "code",
   "execution_count": null,
   "metadata": {},
   "outputs": [],
   "source": [
    "addAndFillField(clarkLyr, clarkPubOwners, 'clarkParcels', 'PACSOwner')\n",
    "addAndFillField(skaLyr, skaPubOwners, 'skaParcels', 'OwnerLast')\n",
    "addAndFillField(waLyr, waPubOwners, 'wahkiakumParcels', 'Property_O')\n",
    "addAndFillField(clatsLyr, clatsPubOwners, 'clatsopParcels', 'OWNER_LINE')\n",
    "addAndFillField(cowLyr, cowPubOwners, 'cowlitzParcels', 'DEED_HOLDE')\n",
    "addAndFillField(pacLyr, pacPubOwners, 'pacificParcels', 'CURRENT_O')\n",
    "addAndFillField(multLyr, multPubOwners, 'multnomahParcels', 'OWNER1')\n",
    "addAndFillField(colLyr, colPubOwners, 'colParcels', 'OWNER')"
   ]
  },
  {
   "cell_type": "code",
   "execution_count": null,
   "metadata": {},
   "outputs": [],
   "source": [
    "ownerFields = ['OWNER1', 'OwnerLast', 'Property_O', 'OWNER_LINE', 'DEED_HOLDE', 'CURRENT_O', 'OWNER', 'PACSOwner']"
   ]
  },
  {
   "cell_type": "code",
   "execution_count": null,
   "metadata": {},
   "outputs": [],
   "source": [
    "countyLyrs = ['multnomahParcels', 'skaParcels', 'wahkiakumParcels', \n",
    "              'clatsopParcels', 'cowlitzParcels', 'pacificParcels', 'colParcels', 'clarkParcels']"
   ]
  },
  {
   "cell_type": "code",
   "execution_count": null,
   "metadata": {},
   "outputs": [],
   "source": [
    "for county in countyLyrs:\n",
    "    addFalseValues(county)"
   ]
  }
 ],
 "metadata": {
  "kernelspec": {
   "display_name": "Python 3",
   "language": "python",
   "name": "python3"
  },
  "language_info": {
   "codemirror_mode": {
    "name": "ipython",
    "version": 3
   },
   "file_extension": ".py",
   "mimetype": "text/x-python",
   "name": "python",
   "nbconvert_exporter": "python",
   "pygments_lexer": "ipython3",
   "version": "3.7.9"
  }
 },
 "nbformat": 4,
 "nbformat_minor": 2
}
