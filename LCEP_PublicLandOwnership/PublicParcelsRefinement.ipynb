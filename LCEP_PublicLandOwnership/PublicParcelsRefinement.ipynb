{
 "cells": [
  {
   "cell_type": "code",
   "execution_count": 1,
   "metadata": {},
   "outputs": [],
   "source": [
    "import arcpy\n",
    "import os\n",
    "import sys\n",
    "ws = r'C:\\Users\\Ricardo\\Desktop\\PCC\\Internship\\UpdatedCountyTaxLots\\TaxLots\\TaxLots.gdb'\n",
    "arcpy.env.workspace = ws"
   ]
  },
  {
   "cell_type": "code",
   "execution_count": 2,
   "metadata": {},
   "outputs": [],
   "source": [
    "def unique_values(table, field):\n",
    "    with arcpy.da.SearchCursor(table, [field]) as cursor:\n",
    "    \n",
    "        return sorted({row[0] for row in cursor if row[0] != None})"
   ]
  },
  {
   "cell_type": "code",
   "execution_count": 3,
   "metadata": {},
   "outputs": [],
   "source": [
    "def removeTerms(OgList, removeList):\n",
    "    for item in removeList:\n",
    "        if item in OgList:\n",
    "            OgList.remove(item)\n",
    "    return OgList\n",
    "    "
   ]
  },
  {
   "cell_type": "code",
   "execution_count": 4,
   "metadata": {},
   "outputs": [],
   "source": [
    "def sqlClause(termList, fieldName):\n",
    "    owner_string = \"\"\n",
    "    for owner in termList:\n",
    "        if termList.index(owner) != len(termList) -1:\n",
    "            owner_string = owner_string + f\"{fieldName} = '{owner}' Or \"\n",
    "        elif termList.index(owner) == len(termList) -1:\n",
    "            owner_string = owner_string + f\"{fieldName} = '{owner}'\"\n",
    "    return owner_string"
   ]
  },
  {
   "cell_type": "code",
   "execution_count": 5,
   "metadata": {},
   "outputs": [],
   "source": [
    "lyr = 'NewlyPublicLands'"
   ]
  },
  {
   "cell_type": "code",
   "execution_count": 6,
   "metadata": {},
   "outputs": [],
   "source": [
    "pubOwners = unique_values(lyr, 'LandOwner')"
   ]
  },
  {
   "cell_type": "code",
   "execution_count": 17,
   "metadata": {},
   "outputs": [],
   "source": [
    "refRemoveList = ['BOYS AND GIRLS CLUB OF THE PORTLAND METROPOLITAN AREA', 'DEMETRO EVA M TR & DEMETRO JAMES M TR',\n",
    "             'HABITAT FOR HUMANITY PORTLAND METRO EAST', 'HABITAT FOR HUMANITY PORTLAND/METRO EAST', \n",
    "              'LONGVIEW CHRISTIAN SCHOOL INC', 'LONGVIEW UNITED METHODIST CHURCH', 'METRO CHRISTOPHER M',\n",
    "             'NOTHING METROVIAL & PETTET JASMINE', 'RENEWAL CITY CHURCH INC', 'ROGERS COLORADO WASHINGTON LLC', \n",
    "              'ROSE  CITY INVESTMENT PROPERTIES LLC']"
   ]
  },
  {
   "cell_type": "code",
   "execution_count": 18,
   "metadata": {},
   "outputs": [],
   "source": [
    "pubOwners = removeTerms(pubOwners, removeList)"
   ]
  },
  {
   "cell_type": "code",
   "execution_count": 20,
   "metadata": {},
   "outputs": [],
   "source": [
    "sql = sqlClause(pubOwners, 'LandOwner')"
   ]
  },
  {
   "cell_type": "code",
   "execution_count": 22,
   "metadata": {},
   "outputs": [],
   "source": [
    "publicLyr = 'PublicLandsWatershed'"
   ]
  },
  {
   "cell_type": "code",
   "execution_count": 24,
   "metadata": {},
   "outputs": [
    {
     "data": {
      "text/html": [
       "<h2>Output</h2>C:\\Users\\Ricardo\\Desktop\\PCC\\Internship\\UpdatedCountyTaxLots\\TaxLots\\TaxLots.gdb\\RefinedPublicLands<h2>Messages</h2>Start Time: Wednesday, November 4, 2020 1:39:12 PM<br/>Succeeded at Wednesday, November 4, 2020 1:39:13 PM (Elapsed Time: 1.69 seconds)<br/><style>.rendered_html td, .rendered_html th {text-align: left;}.rendered_html tbody {border: 1px solid black;}</style>"
      ],
      "text/plain": [
       "<Result 'C:\\\\Users\\\\Ricardo\\\\Desktop\\\\PCC\\\\Internship\\\\UpdatedCountyTaxLots\\\\TaxLots\\\\TaxLots.gdb\\\\RefinedPublicLands'>"
      ]
     },
     "execution_count": 24,
     "metadata": {},
     "output_type": "execute_result"
    }
   ],
   "source": [
    "arcpy.Select_analysis(publicLyr, 'RefinedPublicLands', sql)"
   ]
  },
  {
   "cell_type": "markdown",
   "metadata": {},
   "source": [
    "# Refining Newly Private Lands Layer"
   ]
  },
  {
   "cell_type": "code",
   "execution_count": 8,
   "metadata": {},
   "outputs": [],
   "source": [
    "privateLandsLyr = 'NewlyPrivateLandsRefined1'"
   ]
  },
  {
   "cell_type": "code",
   "execution_count": 11,
   "metadata": {},
   "outputs": [],
   "source": [
    "pubAddList = unique_values(privateLandsLyr, 'Land_Owner')"
   ]
  },
  {
   "cell_type": "code",
   "execution_count": 14,
   "metadata": {},
   "outputs": [],
   "source": [
    "pubAddList = ['ASTORIA PORT OF', 'DEPART OF INTERIOR US FISH & WILDLIFE SE', 'DEPARTMENT OF TRANSPORTATION', \n",
    "              'DEPT NATURAL RESOURCES', 'DEPT OF TRANSPORTATION', 'FIRE DISTRICT #4', 'KALAMA PORT OF',\n",
    "             'LONGVIEW PORT OF', 'OR BOARD OF FORESTRY', 'OR DEPT OF FISH AND WILDLIFE', 'PORT DISTRICT #2', \n",
    "              'PORT OF ASTORIA', 'PORT OF ILWACO,', 'PORT OF KALAMA', 'PORT OF PORTLAND', 'PORT OF WOODLAND',\n",
    "             'U S A,', 'U S POSTAL SERVICE', 'USA', 'USA - DEPT OF FISH & WILDLIFE', 'USA -FISH & WILDLIFE SERVICE', \n",
    "              'USA DEPT OF FISH & WILDLIFE', 'USA FISH & WILDLIFE SERVICE', 'WOODLAND PORT OF']"
   ]
  },
  {
   "cell_type": "code",
   "execution_count": 15,
   "metadata": {},
   "outputs": [
    {
     "name": "stdout",
     "output_type": "stream",
     "text": [
      "['ASTORIA PORT OF', 'DEPART OF INTERIOR US FISH & WILDLIFE SE', 'DEPARTMENT OF TRANSPORTATION', 'DEPT NATURAL RESOURCES', 'DEPT OF TRANSPORTATION', 'FIRE DISTRICT #4', 'KALAMA PORT OF', 'LONGVIEW PORT OF', 'OR BOARD OF FORESTRY', 'OR DEPT OF FISH AND WILDLIFE', 'PORT DISTRICT #2', 'PORT OF ASTORIA', 'PORT OF ILWACO,', 'PORT OF KALAMA', 'PORT OF PORTLAND', 'PORT OF WOODLAND', 'U S A,', 'U S POSTAL SERVICE', 'USA', 'USA - DEPT OF FISH & WILDLIFE', 'USA -FISH & WILDLIFE SERVICE', 'USA DEPT OF FISH & WILDLIFE', 'USA FISH & WILDLIFE SERVICE', 'WOODLAND PORT OF']\n"
     ]
    }
   ],
   "source": [
    "print(pubAddList)"
   ]
  },
  {
   "cell_type": "code",
   "execution_count": 18,
   "metadata": {},
   "outputs": [
    {
     "name": "stdout",
     "output_type": "stream",
     "text": [
      "Stored 'pubAddList' (list)\n",
      "Stored 'refRemoveList' (list)\n"
     ]
    }
   ],
   "source": [
    "%store pubAddList\n",
    "%store refRemoveList"
   ]
  }
 ],
 "metadata": {
  "kernelspec": {
   "display_name": "Python 3",
   "language": "python",
   "name": "python3"
  },
  "language_info": {
   "codemirror_mode": {
    "name": "ipython",
    "version": 3
   },
   "file_extension": ".py",
   "mimetype": "text/x-python",
   "name": "python",
   "nbconvert_exporter": "python",
   "pygments_lexer": "ipython3",
   "version": "3.6.10"
  }
 },
 "nbformat": 4,
 "nbformat_minor": 4
}
