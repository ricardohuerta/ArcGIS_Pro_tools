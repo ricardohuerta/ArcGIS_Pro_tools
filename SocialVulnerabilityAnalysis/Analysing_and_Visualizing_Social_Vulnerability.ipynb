{
 "cells": [
  {
   "cell_type": "markdown",
   "metadata": {},
   "source": [
    "# Analyzing and Visualizing Social Vulnerability\n",
    "\n",
    "##### Ricardo Huerta\n",
    "\n",
    "##### Social vulnerability by County Census Tracts in the Portland Metro Statistical Area (MSA) using Open Source Python"
   ]
  },
  {
   "cell_type": "code",
   "execution_count": 2,
   "metadata": {},
   "outputs": [],
   "source": [
    "##import necessary open source python modules\n",
    "\n",
    "import os\n",
    "import pandas as pd\n",
    "import geopandas as gpd\n",
    "import matplotlib.pyplot as plt"
   ]
  },
  {
   "cell_type": "markdown",
   "metadata": {},
   "source": [
    "## Data\n",
    "- 2017 Social Vulnerability for Portland MSA (https://opendata.imspdx.org/dataset/2be8041e-d02e-4d92-b90a-84a0aa878dbf/resource/7543a522-46a8-40ca-97d6-49b7d15c6fa3/download/socvul_msa_2017.csv)\n",
    "- 2010 Census Tracts (http://rlisdiscovery.oregonmetro.gov/?action=viewDetail&layerID=2588)"
   ]
  },
  {
   "cell_type": "code",
   "execution_count": 3,
   "metadata": {},
   "outputs": [],
   "source": [
    "## read in the vulnerability csv using url\n",
    "vuln_csv = r\"https://opendata.imspdx.org/dataset/2be8041e-d02e-4d92-b90a-84a0aa878dbf/resource/7543a522-46a8-40ca-97d6-49b7d15c6fa3/download/socvul_msa_2017.csv\"\n",
    "csv_df = pd.read_csv(vuln_csv)"
   ]
  },
  {
   "cell_type": "code",
   "execution_count": 4,
   "metadata": {},
   "outputs": [
    {
     "data": {
      "text/html": [
       "<div>\n",
       "<style scoped>\n",
       "    .dataframe tbody tr th:only-of-type {\n",
       "        vertical-align: middle;\n",
       "    }\n",
       "\n",
       "    .dataframe tbody tr th {\n",
       "        vertical-align: top;\n",
       "    }\n",
       "\n",
       "    .dataframe thead th {\n",
       "        text-align: right;\n",
       "    }\n",
       "</style>\n",
       "<table border=\"1\" class=\"dataframe\">\n",
       "  <thead>\n",
       "    <tr style=\"text-align: right;\">\n",
       "      <th></th>\n",
       "      <th>GEOID</th>\n",
       "      <th>NAME</th>\n",
       "      <th>Total Population</th>\n",
       "      <th>Dependents</th>\n",
       "      <th>Non-White Population</th>\n",
       "      <th>P_HS</th>\n",
       "      <th>Bachelor's Degrees</th>\n",
       "      <th>Home-Owner Burden</th>\n",
       "      <th>Renter Burden</th>\n",
       "      <th>Disability</th>\n",
       "      <th>...</th>\n",
       "      <th>P_dis_cv</th>\n",
       "      <th>P_nfuel_cv</th>\n",
       "      <th>P_SSI_cv</th>\n",
       "      <th>MHI_cv</th>\n",
       "      <th>unemp_cv</th>\n",
       "      <th>rent_cv</th>\n",
       "      <th>nocar_cv</th>\n",
       "      <th>Vul</th>\n",
       "      <th>Vul_P</th>\n",
       "      <th>Social Vulnerability (%)</th>\n",
       "    </tr>\n",
       "  </thead>\n",
       "  <tbody>\n",
       "    <tr>\n",
       "      <th>0</th>\n",
       "      <td>41005020100</td>\n",
       "      <td>Census Tract 201, Clackamas County, Oregon</td>\n",
       "      <td>3946</td>\n",
       "      <td>21.8</td>\n",
       "      <td>87.2</td>\n",
       "      <td>97.5</td>\n",
       "      <td>68.3</td>\n",
       "      <td>32.1</td>\n",
       "      <td>46.1</td>\n",
       "      <td>4.8</td>\n",
       "      <td>...</td>\n",
       "      <td>22.8</td>\n",
       "      <td>#NUM!</td>\n",
       "      <td>49.2</td>\n",
       "      <td>9.0</td>\n",
       "      <td>55.7</td>\n",
       "      <td>14.8</td>\n",
       "      <td>44</td>\n",
       "      <td>-0.723346</td>\n",
       "      <td>0.234734</td>\n",
       "      <td>23.473376</td>\n",
       "    </tr>\n",
       "    <tr>\n",
       "      <th>1</th>\n",
       "      <td>41005020200</td>\n",
       "      <td>Census Tract 202, Clackamas County, Oregon</td>\n",
       "      <td>6133</td>\n",
       "      <td>25.7</td>\n",
       "      <td>91.9</td>\n",
       "      <td>98.7</td>\n",
       "      <td>73.3</td>\n",
       "      <td>28.9</td>\n",
       "      <td>45.3</td>\n",
       "      <td>9.5</td>\n",
       "      <td>...</td>\n",
       "      <td>18.6</td>\n",
       "      <td>109.4</td>\n",
       "      <td>82.1</td>\n",
       "      <td>10.9</td>\n",
       "      <td>40.5</td>\n",
       "      <td>8.7</td>\n",
       "      <td>44</td>\n",
       "      <td>-0.479744</td>\n",
       "      <td>0.315705</td>\n",
       "      <td>31.570474</td>\n",
       "    </tr>\n",
       "    <tr>\n",
       "      <th>2</th>\n",
       "      <td>41005020302</td>\n",
       "      <td>Census Tract 203.02, Clackamas County, Oregon</td>\n",
       "      <td>3944</td>\n",
       "      <td>17.3</td>\n",
       "      <td>78.5</td>\n",
       "      <td>98.1</td>\n",
       "      <td>57.5</td>\n",
       "      <td>22.3</td>\n",
       "      <td>24.9</td>\n",
       "      <td>8.7</td>\n",
       "      <td>...</td>\n",
       "      <td>19.6</td>\n",
       "      <td>#NUM!</td>\n",
       "      <td>49.2</td>\n",
       "      <td>10.9</td>\n",
       "      <td>24.9</td>\n",
       "      <td>8.2</td>\n",
       "      <td>30</td>\n",
       "      <td>-0.652934</td>\n",
       "      <td>0.256899</td>\n",
       "      <td>25.689925</td>\n",
       "    </tr>\n",
       "    <tr>\n",
       "      <th>3</th>\n",
       "      <td>41005020303</td>\n",
       "      <td>Census Tract 203.03, Clackamas County, Oregon</td>\n",
       "      <td>5307</td>\n",
       "      <td>25.0</td>\n",
       "      <td>80.7</td>\n",
       "      <td>97.8</td>\n",
       "      <td>67.4</td>\n",
       "      <td>35.3</td>\n",
       "      <td>62.8</td>\n",
       "      <td>10.7</td>\n",
       "      <td>...</td>\n",
       "      <td>17.6</td>\n",
       "      <td>#NUM!</td>\n",
       "      <td>91.2</td>\n",
       "      <td>10.7</td>\n",
       "      <td>93.0</td>\n",
       "      <td>7.0</td>\n",
       "      <td>30</td>\n",
       "      <td>-0.141887</td>\n",
       "      <td>0.443585</td>\n",
       "      <td>44.358469</td>\n",
       "    </tr>\n",
       "    <tr>\n",
       "      <th>4</th>\n",
       "      <td>41005020304</td>\n",
       "      <td>Census Tract 203.04, Clackamas County, Oregon</td>\n",
       "      <td>5621</td>\n",
       "      <td>18.0</td>\n",
       "      <td>77.3</td>\n",
       "      <td>99.0</td>\n",
       "      <td>73.2</td>\n",
       "      <td>22.1</td>\n",
       "      <td>40.3</td>\n",
       "      <td>5.4</td>\n",
       "      <td>...</td>\n",
       "      <td>34.9</td>\n",
       "      <td>#NUM!</td>\n",
       "      <td>98.8</td>\n",
       "      <td>3.9</td>\n",
       "      <td>31.5</td>\n",
       "      <td>7.1</td>\n",
       "      <td>81</td>\n",
       "      <td>-0.724477</td>\n",
       "      <td>0.234387</td>\n",
       "      <td>23.438651</td>\n",
       "    </tr>\n",
       "  </tbody>\n",
       "</table>\n",
       "<p>5 rows × 71 columns</p>\n",
       "</div>"
      ],
      "text/plain": [
       "         GEOID                                           NAME  \\\n",
       "0  41005020100     Census Tract 201, Clackamas County, Oregon   \n",
       "1  41005020200     Census Tract 202, Clackamas County, Oregon   \n",
       "2  41005020302  Census Tract 203.02, Clackamas County, Oregon   \n",
       "3  41005020303  Census Tract 203.03, Clackamas County, Oregon   \n",
       "4  41005020304  Census Tract 203.04, Clackamas County, Oregon   \n",
       "\n",
       "   Total Population  Dependents  Non-White Population  P_HS  \\\n",
       "0              3946        21.8                  87.2  97.5   \n",
       "1              6133        25.7                  91.9  98.7   \n",
       "2              3944        17.3                  78.5  98.1   \n",
       "3              5307        25.0                  80.7  97.8   \n",
       "4              5621        18.0                  77.3  99.0   \n",
       "\n",
       "   Bachelor's Degrees  Home-Owner Burden  Renter Burden  Disability  ...  \\\n",
       "0                68.3               32.1           46.1         4.8  ...   \n",
       "1                73.3               28.9           45.3         9.5  ...   \n",
       "2                57.5               22.3           24.9         8.7  ...   \n",
       "3                67.4               35.3           62.8        10.7  ...   \n",
       "4                73.2               22.1           40.3         5.4  ...   \n",
       "\n",
       "   P_dis_cv  P_nfuel_cv  P_SSI_cv  MHI_cv  unemp_cv  rent_cv  nocar_cv  \\\n",
       "0      22.8       #NUM!      49.2     9.0      55.7     14.8        44   \n",
       "1      18.6       109.4      82.1    10.9      40.5      8.7        44   \n",
       "2      19.6       #NUM!      49.2    10.9      24.9      8.2        30   \n",
       "3      17.6       #NUM!      91.2    10.7      93.0      7.0        30   \n",
       "4      34.9       #NUM!      98.8     3.9      31.5      7.1        81   \n",
       "\n",
       "        Vul     Vul_P  Social Vulnerability (%)  \n",
       "0 -0.723346  0.234734                 23.473376  \n",
       "1 -0.479744  0.315705                 31.570474  \n",
       "2 -0.652934  0.256899                 25.689925  \n",
       "3 -0.141887  0.443585                 44.358469  \n",
       "4 -0.724477  0.234387                 23.438651  \n",
       "\n",
       "[5 rows x 71 columns]"
      ]
     },
     "execution_count": 4,
     "metadata": {},
     "output_type": "execute_result"
    }
   ],
   "source": [
    "## explore and display the data\n",
    "csv_df.head()"
   ]
  },
  {
   "cell_type": "code",
   "execution_count": 5,
   "metadata": {},
   "outputs": [
    {
     "data": {
      "text/html": [
       "<div>\n",
       "<style scoped>\n",
       "    .dataframe tbody tr th:only-of-type {\n",
       "        vertical-align: middle;\n",
       "    }\n",
       "\n",
       "    .dataframe tbody tr th {\n",
       "        vertical-align: top;\n",
       "    }\n",
       "\n",
       "    .dataframe thead th {\n",
       "        text-align: right;\n",
       "    }\n",
       "</style>\n",
       "<table border=\"1\" class=\"dataframe\">\n",
       "  <thead>\n",
       "    <tr style=\"text-align: right;\">\n",
       "      <th></th>\n",
       "      <th>GEOID</th>\n",
       "      <th>NAME</th>\n",
       "      <th>Total Population</th>\n",
       "      <th>Dependents</th>\n",
       "      <th>Non-White Population</th>\n",
       "      <th>P_HS</th>\n",
       "      <th>Bachelor's Degrees</th>\n",
       "      <th>Home-Owner Burden</th>\n",
       "      <th>Renter Burden</th>\n",
       "      <th>Disability</th>\n",
       "      <th>...</th>\n",
       "      <th>P_dis_cv</th>\n",
       "      <th>P_nfuel_cv</th>\n",
       "      <th>P_SSI_cv</th>\n",
       "      <th>MHI_cv</th>\n",
       "      <th>unemp_cv</th>\n",
       "      <th>rent_cv</th>\n",
       "      <th>nocar_cv</th>\n",
       "      <th>Vul</th>\n",
       "      <th>Vul_P</th>\n",
       "      <th>Social Vulnerability (%)</th>\n",
       "    </tr>\n",
       "  </thead>\n",
       "  <tbody>\n",
       "    <tr>\n",
       "      <th>485</th>\n",
       "      <td>53059950100</td>\n",
       "      <td>Census Tract 9501, Skamania County, Washington</td>\n",
       "      <td>158</td>\n",
       "      <td>15.8</td>\n",
       "      <td>98.1</td>\n",
       "      <td>97.2</td>\n",
       "      <td>33.0</td>\n",
       "      <td>47.2</td>\n",
       "      <td>0.0</td>\n",
       "      <td>3.8</td>\n",
       "      <td>...</td>\n",
       "      <td>96</td>\n",
       "      <td>#NUM!</td>\n",
       "      <td>60.3</td>\n",
       "      <td>37.3</td>\n",
       "      <td>65.8</td>\n",
       "      <td>46.9</td>\n",
       "      <td>#NUM!</td>\n",
       "      <td>-0.587019</td>\n",
       "      <td>0.278596</td>\n",
       "      <td>27.859561</td>\n",
       "    </tr>\n",
       "    <tr>\n",
       "      <th>486</th>\n",
       "      <td>53059950200</td>\n",
       "      <td>Census Tract 9502, Skamania County, Washington</td>\n",
       "      <td>4643</td>\n",
       "      <td>22.4</td>\n",
       "      <td>92.6</td>\n",
       "      <td>93.3</td>\n",
       "      <td>24.8</td>\n",
       "      <td>24.6</td>\n",
       "      <td>43.8</td>\n",
       "      <td>12.4</td>\n",
       "      <td>...</td>\n",
       "      <td>8.8</td>\n",
       "      <td>91.2</td>\n",
       "      <td>31.4</td>\n",
       "      <td>4.5</td>\n",
       "      <td>20.3</td>\n",
       "      <td>11.4</td>\n",
       "      <td>35</td>\n",
       "      <td>-0.128411</td>\n",
       "      <td>0.448912</td>\n",
       "      <td>44.891203</td>\n",
       "    </tr>\n",
       "    <tr>\n",
       "      <th>487</th>\n",
       "      <td>53059950300</td>\n",
       "      <td>Census Tract 9503, Skamania County, Washington</td>\n",
       "      <td>1864</td>\n",
       "      <td>27.3</td>\n",
       "      <td>91.5</td>\n",
       "      <td>88.5</td>\n",
       "      <td>22.7</td>\n",
       "      <td>25.6</td>\n",
       "      <td>46.6</td>\n",
       "      <td>17.6</td>\n",
       "      <td>...</td>\n",
       "      <td>11.1</td>\n",
       "      <td>#NUM!</td>\n",
       "      <td>22</td>\n",
       "      <td>14.8</td>\n",
       "      <td>26.5</td>\n",
       "      <td>8.8</td>\n",
       "      <td>19</td>\n",
       "      <td>0.335937</td>\n",
       "      <td>0.631541</td>\n",
       "      <td>63.154083</td>\n",
       "    </tr>\n",
       "    <tr>\n",
       "      <th>488</th>\n",
       "      <td>53059950400</td>\n",
       "      <td>Census Tract 9504, Skamania County, Washington</td>\n",
       "      <td>2134</td>\n",
       "      <td>25.8</td>\n",
       "      <td>84.9</td>\n",
       "      <td>88.9</td>\n",
       "      <td>29.5</td>\n",
       "      <td>18.3</td>\n",
       "      <td>35.9</td>\n",
       "      <td>15.7</td>\n",
       "      <td>...</td>\n",
       "      <td>14.7</td>\n",
       "      <td>182.4</td>\n",
       "      <td>39.5</td>\n",
       "      <td>7.9</td>\n",
       "      <td>27.8</td>\n",
       "      <td>13.2</td>\n",
       "      <td>39</td>\n",
       "      <td>-0.140791</td>\n",
       "      <td>0.444018</td>\n",
       "      <td>44.401752</td>\n",
       "    </tr>\n",
       "    <tr>\n",
       "      <th>489</th>\n",
       "      <td>53059950500</td>\n",
       "      <td>Census Tract 9505, Skamania County, Washington</td>\n",
       "      <td>2699</td>\n",
       "      <td>19.3</td>\n",
       "      <td>80.3</td>\n",
       "      <td>87.1</td>\n",
       "      <td>14.2</td>\n",
       "      <td>38.2</td>\n",
       "      <td>55.1</td>\n",
       "      <td>15.8</td>\n",
       "      <td>...</td>\n",
       "      <td>17.3</td>\n",
       "      <td>#NUM!</td>\n",
       "      <td>35.3</td>\n",
       "      <td>2.7</td>\n",
       "      <td>42.2</td>\n",
       "      <td>14.8</td>\n",
       "      <td>38</td>\n",
       "      <td>0.528976</td>\n",
       "      <td>0.701589</td>\n",
       "      <td>70.158909</td>\n",
       "    </tr>\n",
       "  </tbody>\n",
       "</table>\n",
       "<p>5 rows × 71 columns</p>\n",
       "</div>"
      ],
      "text/plain": [
       "           GEOID                                            NAME  \\\n",
       "485  53059950100  Census Tract 9501, Skamania County, Washington   \n",
       "486  53059950200  Census Tract 9502, Skamania County, Washington   \n",
       "487  53059950300  Census Tract 9503, Skamania County, Washington   \n",
       "488  53059950400  Census Tract 9504, Skamania County, Washington   \n",
       "489  53059950500  Census Tract 9505, Skamania County, Washington   \n",
       "\n",
       "     Total Population  Dependents  Non-White Population  P_HS  \\\n",
       "485               158        15.8                  98.1  97.2   \n",
       "486              4643        22.4                  92.6  93.3   \n",
       "487              1864        27.3                  91.5  88.5   \n",
       "488              2134        25.8                  84.9  88.9   \n",
       "489              2699        19.3                  80.3  87.1   \n",
       "\n",
       "     Bachelor's Degrees  Home-Owner Burden  Renter Burden  Disability  ...  \\\n",
       "485                33.0               47.2            0.0         3.8  ...   \n",
       "486                24.8               24.6           43.8        12.4  ...   \n",
       "487                22.7               25.6           46.6        17.6  ...   \n",
       "488                29.5               18.3           35.9        15.7  ...   \n",
       "489                14.2               38.2           55.1        15.8  ...   \n",
       "\n",
       "     P_dis_cv  P_nfuel_cv  P_SSI_cv  MHI_cv  unemp_cv  rent_cv  nocar_cv  \\\n",
       "485        96       #NUM!      60.3    37.3      65.8     46.9     #NUM!   \n",
       "486       8.8        91.2      31.4     4.5      20.3     11.4        35   \n",
       "487      11.1       #NUM!        22    14.8      26.5      8.8        19   \n",
       "488      14.7       182.4      39.5     7.9      27.8     13.2        39   \n",
       "489      17.3       #NUM!      35.3     2.7      42.2     14.8        38   \n",
       "\n",
       "          Vul     Vul_P  Social Vulnerability (%)  \n",
       "485 -0.587019  0.278596                 27.859561  \n",
       "486 -0.128411  0.448912                 44.891203  \n",
       "487  0.335937  0.631541                 63.154083  \n",
       "488 -0.140791  0.444018                 44.401752  \n",
       "489  0.528976  0.701589                 70.158909  \n",
       "\n",
       "[5 rows x 71 columns]"
      ]
     },
     "execution_count": 5,
     "metadata": {},
     "output_type": "execute_result"
    }
   ],
   "source": [
    "csv_df.tail()"
   ]
  },
  {
   "cell_type": "code",
   "execution_count": 6,
   "metadata": {},
   "outputs": [
    {
     "data": {
      "text/plain": [
       "Index(['GEOID', 'NAME', 'Total Population', 'Dependents',\n",
       "       'Non-White Population', 'P_HS', 'Bachelor's Degrees',\n",
       "       'Home-Owner Burden', 'Renter Burden', 'Disability', 'P_nfuel', 'P_SSI',\n",
       "       'MHI', 'Unemployment', 'rent', 'nocar', 'P_dep_rt', 'MHI_rt', 'P_BA_rt',\n",
       "       'unemp_rt', 'rent_rt', 'P_obdn_rt', 'P_SSI_rt', 'P_WNH_ex', 'nocar_rt',\n",
       "       'P_HS_ex', 'P_nfuel_rt', 'P_dis_rt', 'P_rbdn_norm', 'P_dep_z', 'P_HS_z',\n",
       "       'P_BA_z', 'MHI_z', 'P_WNH_z', 'unemp_z', 'rent_z', 'nocar_z',\n",
       "       'P_nfuel_z', 'P_dis_z', 'P_SSI_z', 'P_rbdn_z', 'P_obdn_z', 'P_dep_moe',\n",
       "       'P_WNH_moe', 'P_HS_moe', 'P_BA_moe', 'P_obdn_moe', 'P_rbdn_moe',\n",
       "       'P_dis_moe', 'P_nfuel_moe', 'P_SSI_moe', 'MHI_moe', 'unemp_moe',\n",
       "       'rent_moe', 'nocar_moe', 'P_dep_cv', 'P_WNH_cv', 'P_HS_cv', 'P_BA_cv',\n",
       "       'P_obdn_cv', 'P_rbdn_cv', 'P_dis_cv', 'P_nfuel_cv', 'P_SSI_cv',\n",
       "       'MHI_cv', 'unemp_cv', 'rent_cv', 'nocar_cv', 'Vul', 'Vul_P',\n",
       "       'Social Vulnerability (%)'],\n",
       "      dtype='object')"
      ]
     },
     "execution_count": 6,
     "metadata": {},
     "output_type": "execute_result"
    }
   ],
   "source": [
    "csv_df.columns"
   ]
  },
  {
   "cell_type": "code",
   "execution_count": 7,
   "metadata": {},
   "outputs": [
    {
     "data": {
      "text/plain": [
       "RangeIndex(start=0, stop=490, step=1)"
      ]
     },
     "execution_count": 7,
     "metadata": {},
     "output_type": "execute_result"
    }
   ],
   "source": [
    "csv_df.index"
   ]
  },
  {
   "cell_type": "code",
   "execution_count": 8,
   "metadata": {},
   "outputs": [
    {
     "data": {
      "text/plain": [
       "GEOID                         int64\n",
       "NAME                         object\n",
       "Total Population              int64\n",
       "Dependents                  float64\n",
       "Non-White Population        float64\n",
       "                             ...   \n",
       "rent_cv                     float64\n",
       "nocar_cv                     object\n",
       "Vul                         float64\n",
       "Vul_P                       float64\n",
       "Social Vulnerability (%)    float64\n",
       "Length: 71, dtype: object"
      ]
     },
     "execution_count": 8,
     "metadata": {},
     "output_type": "execute_result"
    }
   ],
   "source": [
    "csv_df.dtypes"
   ]
  },
  {
   "cell_type": "markdown",
   "metadata": {},
   "source": [
    "## Wrangling the data\n",
    "#### Preparing the data for a table join "
   ]
  },
  {
   "cell_type": "code",
   "execution_count": 9,
   "metadata": {},
   "outputs": [
    {
     "data": {
      "text/plain": [
       "dtype('O')"
      ]
     },
     "execution_count": 9,
     "metadata": {},
     "output_type": "execute_result"
    }
   ],
   "source": [
    "## cast the GEOID column to string type for table join later on \n",
    "csv_df['GEOID'] = csv_df['GEOID'].astype(dtype = 'str')\n",
    "csv_df['GEOID'].dtype"
   ]
  },
  {
   "cell_type": "code",
   "execution_count": 10,
   "metadata": {},
   "outputs": [
    {
     "data": {
      "text/plain": [
       "Index(['GEOID', 'NAME', 'Social Vulnerability (%)'], dtype='object')"
      ]
     },
     "execution_count": 10,
     "metadata": {},
     "output_type": "execute_result"
    }
   ],
   "source": [
    "## subset dataframe to include only necessary columns\n",
    "ltd_df  = csv_df.loc[:, ['GEOID','NAME','Social Vulnerability (%)']]\n",
    "ltd_df.columns\n"
   ]
  },
  {
   "cell_type": "code",
   "execution_count": 11,
   "metadata": {},
   "outputs": [],
   "source": [
    "## wrangle the name column into three standardized columns by \n",
    "## running a loop over NAME, splitting the values, and appending \n",
    "## the new empty lists\n",
    "\n",
    "tract_names = []\n",
    "counties = []\n",
    "states = []\n",
    "NAMES = list(ltd_df.NAME)\n",
    "\n",
    "for i in NAMES:\n",
    "    split_string = i.split(\",\", 2)\n",
    "    tract_names.append(split_string[0])\n",
    "    counties.append(split_string[1])\n",
    "    states.append(split_string[2])\n",
    "\n"
   ]
  },
  {
   "cell_type": "code",
   "execution_count": 12,
   "metadata": {},
   "outputs": [],
   "source": [
    "## create three new columns in the dataframe and assign them the \n",
    "## corresponding lists\n",
    "ltd_df[\"TRACT\"] = pd.Series(tract_names)\n",
    "ltd_df[\"COUNTY\"] = pd.Series(counties)\n",
    "ltd_df[\"STATE\"] = pd.Series(states)"
   ]
  },
  {
   "cell_type": "code",
   "execution_count": 13,
   "metadata": {},
   "outputs": [
    {
     "data": {
      "text/plain": [
       "0       Clackamas \n",
       "1       Clackamas \n",
       "2       Clackamas \n",
       "3       Clackamas \n",
       "4       Clackamas \n",
       "          ...     \n",
       "485      Skamania \n",
       "486      Skamania \n",
       "487      Skamania \n",
       "488      Skamania \n",
       "489      Skamania \n",
       "Name: COUNTY, Length: 490, dtype: object"
      ]
     },
     "execution_count": 13,
     "metadata": {},
     "output_type": "execute_result"
    }
   ],
   "source": [
    "## remove the word 'county' from the county column to simplify \n",
    "## the labels on plots\n",
    "\n",
    "def co_clean(county):\n",
    "    return county.replace(\"County\",\"\")\n",
    "    \n",
    "\n",
    "ltd_df[\"COUNTY\"] = ltd_df[\"COUNTY\"].apply(co_clean)\n",
    "ltd_df[\"COUNTY\"]"
   ]
  },
  {
   "cell_type": "markdown",
   "metadata": {},
   "source": [
    "# Plotting the social vulnerability data\n"
   ]
  },
  {
   "cell_type": "code",
   "execution_count": 14,
   "metadata": {},
   "outputs": [],
   "source": [
    "## subest data fram so that it only contains the County and \n",
    "## social vulnerability %\n",
    "socvul_co_df = ltd_df[['COUNTY', 'Social Vulnerability (%)']]\n"
   ]
  },
  {
   "cell_type": "code",
   "execution_count": 15,
   "metadata": {},
   "outputs": [
    {
     "data": {
      "text/html": [
       "<div>\n",
       "<style scoped>\n",
       "    .dataframe tbody tr th:only-of-type {\n",
       "        vertical-align: middle;\n",
       "    }\n",
       "\n",
       "    .dataframe tbody tr th {\n",
       "        vertical-align: top;\n",
       "    }\n",
       "\n",
       "    .dataframe thead th {\n",
       "        text-align: right;\n",
       "    }\n",
       "</style>\n",
       "<table border=\"1\" class=\"dataframe\">\n",
       "  <thead>\n",
       "    <tr style=\"text-align: right;\">\n",
       "      <th></th>\n",
       "      <th>Social Vulnerability (%)</th>\n",
       "    </tr>\n",
       "    <tr>\n",
       "      <th>COUNTY</th>\n",
       "      <th></th>\n",
       "    </tr>\n",
       "  </thead>\n",
       "  <tbody>\n",
       "    <tr>\n",
       "      <th>Clackamas</th>\n",
       "      <td>47.857693</td>\n",
       "    </tr>\n",
       "    <tr>\n",
       "      <th>Clark</th>\n",
       "      <td>49.738150</td>\n",
       "    </tr>\n",
       "    <tr>\n",
       "      <th>Columbia</th>\n",
       "      <td>56.893099</td>\n",
       "    </tr>\n",
       "    <tr>\n",
       "      <th>Multnomah</th>\n",
       "      <td>51.510793</td>\n",
       "    </tr>\n",
       "    <tr>\n",
       "      <th>Skamania</th>\n",
       "      <td>50.093102</td>\n",
       "    </tr>\n",
       "    <tr>\n",
       "      <th>Washington</th>\n",
       "      <td>46.863870</td>\n",
       "    </tr>\n",
       "    <tr>\n",
       "      <th>Yamhill</th>\n",
       "      <td>60.578806</td>\n",
       "    </tr>\n",
       "  </tbody>\n",
       "</table>\n",
       "</div>"
      ],
      "text/plain": [
       "              Social Vulnerability (%)\n",
       "COUNTY                                \n",
       " Clackamas                   47.857693\n",
       " Clark                       49.738150\n",
       " Columbia                    56.893099\n",
       " Multnomah                   51.510793\n",
       " Skamania                    50.093102\n",
       " Washington                  46.863870\n",
       " Yamhill                     60.578806"
      ]
     },
     "execution_count": 15,
     "metadata": {},
     "output_type": "execute_result"
    }
   ],
   "source": [
    "## create new dataframe that is grouped by county and calculates \n",
    "## the mean on social vulnerability for each county\n",
    "mean_df = socvul_co_df.groupby(\"COUNTY\").mean()\n",
    "mean_df"
   ]
  },
  {
   "cell_type": "code",
   "execution_count": 16,
   "metadata": {},
   "outputs": [
    {
     "data": {
      "image/png": "[encoded data removed]",
      "text/plain": [
       "<Figure size 432x288 with 1 Axes>"
      ]
     },
     "metadata": {
      "needs_background": "light"
     },
     "output_type": "display_data"
    }
   ],
   "source": [
    "## render a simple bar plot\n",
    "mean_df.plot.bar(rot = 30).legend(bbox_to_anchor = (1,1.15));"
   ]
  },
  {
   "cell_type": "markdown",
   "metadata": {},
   "source": [
    "# Working with the census tract data"
   ]
  },
  {
   "cell_type": "code",
   "execution_count": 18,
   "metadata": {},
   "outputs": [],
   "source": [
    "## read in tracts2010.shp from local save\n",
    "cwd = os.getcwd()\n",
    "data_folder = os.path.join(cwd, \"Data\")\n",
    "path = os.path.join(data_folder, \"tract2010.shp\")\n",
    "\n",
    "cTracts = gpd.read_file(path)"
   ]
  },
  {
   "cell_type": "code",
   "execution_count": 19,
   "metadata": {},
   "outputs": [
    {
     "data": {
      "text/html": [
       "<div>\n",
       "<style scoped>\n",
       "    .dataframe tbody tr th:only-of-type {\n",
       "        vertical-align: middle;\n",
       "    }\n",
       "\n",
       "    .dataframe tbody tr th {\n",
       "        vertical-align: top;\n",
       "    }\n",
       "\n",
       "    .dataframe thead th {\n",
       "        text-align: right;\n",
       "    }\n",
       "</style>\n",
       "<table border=\"1\" class=\"dataframe\">\n",
       "  <thead>\n",
       "    <tr style=\"text-align: right;\">\n",
       "      <th></th>\n",
       "      <th>STATE</th>\n",
       "      <th>COUNTY</th>\n",
       "      <th>TRACT</th>\n",
       "      <th>TRACT_NO</th>\n",
       "      <th>FIPS</th>\n",
       "      <th>POP10</th>\n",
       "      <th>DU10</th>\n",
       "      <th>VAC10</th>\n",
       "      <th>WHITE</th>\n",
       "      <th>BLACK</th>\n",
       "      <th>AIAN</th>\n",
       "      <th>ASIAN</th>\n",
       "      <th>NHPI</th>\n",
       "      <th>OTHER_RACE</th>\n",
       "      <th>POP_2_RACE</th>\n",
       "      <th>HISPANIC</th>\n",
       "      <th>geometry</th>\n",
       "    </tr>\n",
       "  </thead>\n",
       "  <tbody>\n",
       "    <tr>\n",
       "      <th>0</th>\n",
       "      <td>41</td>\n",
       "      <td>071</td>\n",
       "      <td>030102</td>\n",
       "      <td>301.02</td>\n",
       "      <td>41071030102</td>\n",
       "      <td>7594</td>\n",
       "      <td>2850</td>\n",
       "      <td>133</td>\n",
       "      <td>6906</td>\n",
       "      <td>50</td>\n",
       "      <td>45</td>\n",
       "      <td>125</td>\n",
       "      <td>6</td>\n",
       "      <td>266</td>\n",
       "      <td>196</td>\n",
       "      <td>526</td>\n",
       "      <td>POLYGON ((7567954.608 616785.792, 7568039.163 ...</td>\n",
       "    </tr>\n",
       "    <tr>\n",
       "      <th>1</th>\n",
       "      <td>41</td>\n",
       "      <td>051</td>\n",
       "      <td>001202</td>\n",
       "      <td>12.02</td>\n",
       "      <td>41051001202</td>\n",
       "      <td>3232</td>\n",
       "      <td>1546</td>\n",
       "      <td>54</td>\n",
       "      <td>2894</td>\n",
       "      <td>24</td>\n",
       "      <td>14</td>\n",
       "      <td>161</td>\n",
       "      <td>9</td>\n",
       "      <td>26</td>\n",
       "      <td>104</td>\n",
       "      <td>112</td>\n",
       "      <td>POLYGON ((7654873.144 677620.008, 7654870.962 ...</td>\n",
       "    </tr>\n",
       "    <tr>\n",
       "      <th>2</th>\n",
       "      <td>41</td>\n",
       "      <td>051</td>\n",
       "      <td>001301</td>\n",
       "      <td>13.01</td>\n",
       "      <td>41051001301</td>\n",
       "      <td>3802</td>\n",
       "      <td>1957</td>\n",
       "      <td>106</td>\n",
       "      <td>3413</td>\n",
       "      <td>40</td>\n",
       "      <td>24</td>\n",
       "      <td>121</td>\n",
       "      <td>2</td>\n",
       "      <td>54</td>\n",
       "      <td>148</td>\n",
       "      <td>187</td>\n",
       "      <td>POLYGON ((7654977.320 682280.378, 7654977.831 ...</td>\n",
       "    </tr>\n",
       "    <tr>\n",
       "      <th>3</th>\n",
       "      <td>41</td>\n",
       "      <td>051</td>\n",
       "      <td>001302</td>\n",
       "      <td>13.02</td>\n",
       "      <td>41051001302</td>\n",
       "      <td>2946</td>\n",
       "      <td>1289</td>\n",
       "      <td>49</td>\n",
       "      <td>2587</td>\n",
       "      <td>23</td>\n",
       "      <td>9</td>\n",
       "      <td>149</td>\n",
       "      <td>5</td>\n",
       "      <td>31</td>\n",
       "      <td>142</td>\n",
       "      <td>124</td>\n",
       "      <td>POLYGON ((7654870.962 677498.609, 7654873.144 ...</td>\n",
       "    </tr>\n",
       "    <tr>\n",
       "      <th>4</th>\n",
       "      <td>41</td>\n",
       "      <td>051</td>\n",
       "      <td>001400</td>\n",
       "      <td>14.00</td>\n",
       "      <td>41051001400</td>\n",
       "      <td>4679</td>\n",
       "      <td>2287</td>\n",
       "      <td>126</td>\n",
       "      <td>4102</td>\n",
       "      <td>68</td>\n",
       "      <td>27</td>\n",
       "      <td>218</td>\n",
       "      <td>2</td>\n",
       "      <td>75</td>\n",
       "      <td>187</td>\n",
       "      <td>228</td>\n",
       "      <td>POLYGON ((7659976.840 681520.073, 7660128.790 ...</td>\n",
       "    </tr>\n",
       "  </tbody>\n",
       "</table>\n",
       "</div>"
      ],
      "text/plain": [
       "  STATE COUNTY   TRACT  TRACT_NO         FIPS  POP10  DU10  VAC10  WHITE  \\\n",
       "0    41    071  030102    301.02  41071030102   7594  2850    133   6906   \n",
       "1    41    051  001202     12.02  41051001202   3232  1546     54   2894   \n",
       "2    41    051  001301     13.01  41051001301   3802  1957    106   3413   \n",
       "3    41    051  001302     13.02  41051001302   2946  1289     49   2587   \n",
       "4    41    051  001400     14.00  41051001400   4679  2287    126   4102   \n",
       "\n",
       "   BLACK  AIAN  ASIAN  NHPI  OTHER_RACE  POP_2_RACE  HISPANIC  \\\n",
       "0     50    45    125     6         266         196       526   \n",
       "1     24    14    161     9          26         104       112   \n",
       "2     40    24    121     2          54         148       187   \n",
       "3     23     9    149     5          31         142       124   \n",
       "4     68    27    218     2          75         187       228   \n",
       "\n",
       "                                            geometry  \n",
       "0  POLYGON ((7567954.608 616785.792, 7568039.163 ...  \n",
       "1  POLYGON ((7654873.144 677620.008, 7654870.962 ...  \n",
       "2  POLYGON ((7654977.320 682280.378, 7654977.831 ...  \n",
       "3  POLYGON ((7654870.962 677498.609, 7654873.144 ...  \n",
       "4  POLYGON ((7659976.840 681520.073, 7660128.790 ...  "
      ]
     },
     "execution_count": 19,
     "metadata": {},
     "output_type": "execute_result"
    }
   ],
   "source": [
    "## display data\n",
    "cTracts.head()"
   ]
  },
  {
   "cell_type": "code",
   "execution_count": 20,
   "metadata": {},
   "outputs": [
    {
     "data": {
      "text/html": [
       "<div>\n",
       "<style scoped>\n",
       "    .dataframe tbody tr th:only-of-type {\n",
       "        vertical-align: middle;\n",
       "    }\n",
       "\n",
       "    .dataframe tbody tr th {\n",
       "        vertical-align: top;\n",
       "    }\n",
       "\n",
       "    .dataframe thead th {\n",
       "        text-align: right;\n",
       "    }\n",
       "</style>\n",
       "<table border=\"1\" class=\"dataframe\">\n",
       "  <thead>\n",
       "    <tr style=\"text-align: right;\">\n",
       "      <th></th>\n",
       "      <th>STATE</th>\n",
       "      <th>COUNTY</th>\n",
       "      <th>TRACT</th>\n",
       "      <th>TRACT_NO</th>\n",
       "      <th>FIPS</th>\n",
       "      <th>POP10</th>\n",
       "      <th>DU10</th>\n",
       "      <th>VAC10</th>\n",
       "      <th>WHITE</th>\n",
       "      <th>BLACK</th>\n",
       "      <th>AIAN</th>\n",
       "      <th>ASIAN</th>\n",
       "      <th>NHPI</th>\n",
       "      <th>OTHER_RACE</th>\n",
       "      <th>POP_2_RACE</th>\n",
       "      <th>HISPANIC</th>\n",
       "      <th>geometry</th>\n",
       "    </tr>\n",
       "  </thead>\n",
       "  <tbody>\n",
       "    <tr>\n",
       "      <th>486</th>\n",
       "      <td>53</td>\n",
       "      <td>011</td>\n",
       "      <td>040509</td>\n",
       "      <td>405.09</td>\n",
       "      <td>53011040509</td>\n",
       "      <td>2990</td>\n",
       "      <td>1312</td>\n",
       "      <td>120</td>\n",
       "      <td>2716</td>\n",
       "      <td>18</td>\n",
       "      <td>39</td>\n",
       "      <td>20</td>\n",
       "      <td>2</td>\n",
       "      <td>56</td>\n",
       "      <td>139</td>\n",
       "      <td>177</td>\n",
       "      <td>POLYGON ((7723612.996 703799.359, 7723618.180 ...</td>\n",
       "    </tr>\n",
       "    <tr>\n",
       "      <th>487</th>\n",
       "      <td>53</td>\n",
       "      <td>011</td>\n",
       "      <td>040504</td>\n",
       "      <td>405.04</td>\n",
       "      <td>53011040504</td>\n",
       "      <td>4883</td>\n",
       "      <td>1600</td>\n",
       "      <td>110</td>\n",
       "      <td>4622</td>\n",
       "      <td>53</td>\n",
       "      <td>50</td>\n",
       "      <td>27</td>\n",
       "      <td>5</td>\n",
       "      <td>14</td>\n",
       "      <td>112</td>\n",
       "      <td>116</td>\n",
       "      <td>POLYGON ((7708653.265 798442.658, 7708726.540 ...</td>\n",
       "    </tr>\n",
       "    <tr>\n",
       "      <th>488</th>\n",
       "      <td>53</td>\n",
       "      <td>011</td>\n",
       "      <td>041500</td>\n",
       "      <td>415.00</td>\n",
       "      <td>53011041500</td>\n",
       "      <td>2732</td>\n",
       "      <td>1158</td>\n",
       "      <td>107</td>\n",
       "      <td>2506</td>\n",
       "      <td>24</td>\n",
       "      <td>30</td>\n",
       "      <td>33</td>\n",
       "      <td>3</td>\n",
       "      <td>40</td>\n",
       "      <td>96</td>\n",
       "      <td>142</td>\n",
       "      <td>POLYGON ((7723612.996 703799.359, 7723610.813 ...</td>\n",
       "    </tr>\n",
       "    <tr>\n",
       "      <th>489</th>\n",
       "      <td>53</td>\n",
       "      <td>011</td>\n",
       "      <td>040202</td>\n",
       "      <td>402.02</td>\n",
       "      <td>53011040202</td>\n",
       "      <td>3658</td>\n",
       "      <td>1361</td>\n",
       "      <td>99</td>\n",
       "      <td>3479</td>\n",
       "      <td>11</td>\n",
       "      <td>25</td>\n",
       "      <td>14</td>\n",
       "      <td>4</td>\n",
       "      <td>26</td>\n",
       "      <td>99</td>\n",
       "      <td>95</td>\n",
       "      <td>POLYGON ((7662469.303 829451.562, 7662539.709 ...</td>\n",
       "    </tr>\n",
       "    <tr>\n",
       "      <th>490</th>\n",
       "      <td>53</td>\n",
       "      <td>011</td>\n",
       "      <td>040203</td>\n",
       "      <td>402.03</td>\n",
       "      <td>53011040203</td>\n",
       "      <td>5442</td>\n",
       "      <td>1854</td>\n",
       "      <td>76</td>\n",
       "      <td>5128</td>\n",
       "      <td>33</td>\n",
       "      <td>37</td>\n",
       "      <td>47</td>\n",
       "      <td>2</td>\n",
       "      <td>65</td>\n",
       "      <td>130</td>\n",
       "      <td>154</td>\n",
       "      <td>POLYGON ((7688535.284 810573.209, 7688533.527 ...</td>\n",
       "    </tr>\n",
       "  </tbody>\n",
       "</table>\n",
       "</div>"
      ],
      "text/plain": [
       "    STATE COUNTY   TRACT  TRACT_NO         FIPS  POP10  DU10  VAC10  WHITE  \\\n",
       "486    53    011  040509    405.09  53011040509   2990  1312    120   2716   \n",
       "487    53    011  040504    405.04  53011040504   4883  1600    110   4622   \n",
       "488    53    011  041500    415.00  53011041500   2732  1158    107   2506   \n",
       "489    53    011  040202    402.02  53011040202   3658  1361     99   3479   \n",
       "490    53    011  040203    402.03  53011040203   5442  1854     76   5128   \n",
       "\n",
       "     BLACK  AIAN  ASIAN  NHPI  OTHER_RACE  POP_2_RACE  HISPANIC  \\\n",
       "486     18    39     20     2          56         139       177   \n",
       "487     53    50     27     5          14         112       116   \n",
       "488     24    30     33     3          40          96       142   \n",
       "489     11    25     14     4          26          99        95   \n",
       "490     33    37     47     2          65         130       154   \n",
       "\n",
       "                                              geometry  \n",
       "486  POLYGON ((7723612.996 703799.359, 7723618.180 ...  \n",
       "487  POLYGON ((7708653.265 798442.658, 7708726.540 ...  \n",
       "488  POLYGON ((7723612.996 703799.359, 7723610.813 ...  \n",
       "489  POLYGON ((7662469.303 829451.562, 7662539.709 ...  \n",
       "490  POLYGON ((7688535.284 810573.209, 7688533.527 ...  "
      ]
     },
     "execution_count": 20,
     "metadata": {},
     "output_type": "execute_result"
    }
   ],
   "source": [
    "cTracts.tail()"
   ]
  },
  {
   "cell_type": "code",
   "execution_count": 21,
   "metadata": {},
   "outputs": [
    {
     "data": {
      "text/plain": [
       "Index(['STATE', 'COUNTY', 'TRACT', 'TRACT_NO', 'FIPS', 'POP10', 'DU10',\n",
       "       'VAC10', 'WHITE', 'BLACK', 'AIAN', 'ASIAN', 'NHPI', 'OTHER_RACE',\n",
       "       'POP_2_RACE', 'HISPANIC', 'geometry'],\n",
       "      dtype='object')"
      ]
     },
     "execution_count": 21,
     "metadata": {},
     "output_type": "execute_result"
    }
   ],
   "source": [
    "cTracts.columns"
   ]
  },
  {
   "cell_type": "code",
   "execution_count": 22,
   "metadata": {},
   "outputs": [
    {
     "data": {
      "text/plain": [
       "RangeIndex(start=0, stop=491, step=1)"
      ]
     },
     "execution_count": 22,
     "metadata": {},
     "output_type": "execute_result"
    }
   ],
   "source": [
    "cTracts.index"
   ]
  },
  {
   "cell_type": "code",
   "execution_count": 23,
   "metadata": {},
   "outputs": [
    {
     "data": {
      "text/plain": [
       "STATE           object\n",
       "COUNTY          object\n",
       "TRACT           object\n",
       "TRACT_NO       float64\n",
       "FIPS            object\n",
       "POP10            int64\n",
       "DU10             int64\n",
       "VAC10            int64\n",
       "WHITE            int64\n",
       "BLACK            int64\n",
       "AIAN             int64\n",
       "ASIAN            int64\n",
       "NHPI             int64\n",
       "OTHER_RACE       int64\n",
       "POP_2_RACE       int64\n",
       "HISPANIC         int64\n",
       "geometry      geometry\n",
       "dtype: object"
      ]
     },
     "execution_count": 23,
     "metadata": {},
     "output_type": "execute_result"
    }
   ],
   "source": [
    "cTracts.dtypes"
   ]
  },
  {
   "cell_type": "code",
   "execution_count": 25,
   "metadata": {},
   "outputs": [],
   "source": [
    "## subset census tract dataframe to only include FIPS and \n",
    "## geometry columns\n",
    "cTracts = cTracts[['FIPS', 'geometry']]"
   ]
  },
  {
   "cell_type": "markdown",
   "metadata": {},
   "source": [
    "# Joining the social vulnerability and census tract dataframes"
   ]
  },
  {
   "cell_type": "code",
   "execution_count": 26,
   "metadata": {},
   "outputs": [
    {
     "data": {
      "text/html": [
       "<div>\n",
       "<style scoped>\n",
       "    .dataframe tbody tr th:only-of-type {\n",
       "        vertical-align: middle;\n",
       "    }\n",
       "\n",
       "    .dataframe tbody tr th {\n",
       "        vertical-align: top;\n",
       "    }\n",
       "\n",
       "    .dataframe thead th {\n",
       "        text-align: right;\n",
       "    }\n",
       "</style>\n",
       "<table border=\"1\" class=\"dataframe\">\n",
       "  <thead>\n",
       "    <tr style=\"text-align: right;\">\n",
       "      <th></th>\n",
       "      <th>FIPS</th>\n",
       "      <th>geometry</th>\n",
       "      <th>GEOID</th>\n",
       "      <th>NAME</th>\n",
       "      <th>Social Vulnerability (%)</th>\n",
       "      <th>TRACT</th>\n",
       "      <th>COUNTY</th>\n",
       "      <th>STATE</th>\n",
       "    </tr>\n",
       "  </thead>\n",
       "  <tbody>\n",
       "    <tr>\n",
       "      <th>0</th>\n",
       "      <td>41071030102</td>\n",
       "      <td>POLYGON ((7567954.608 616785.792, 7568039.163 ...</td>\n",
       "      <td>41071030102</td>\n",
       "      <td>Census Tract 301.02, Yamhill County, Oregon</td>\n",
       "      <td>50.982977</td>\n",
       "      <td>Census Tract 301.02</td>\n",
       "      <td>Yamhill</td>\n",
       "      <td>Oregon</td>\n",
       "    </tr>\n",
       "    <tr>\n",
       "      <th>1</th>\n",
       "      <td>41051001202</td>\n",
       "      <td>POLYGON ((7654873.144 677620.008, 7654870.962 ...</td>\n",
       "      <td>41051001202</td>\n",
       "      <td>Census Tract 12.02, Multnomah County, Oregon</td>\n",
       "      <td>14.903810</td>\n",
       "      <td>Census Tract 12.02</td>\n",
       "      <td>Multnomah</td>\n",
       "      <td>Oregon</td>\n",
       "    </tr>\n",
       "    <tr>\n",
       "      <th>2</th>\n",
       "      <td>41051001301</td>\n",
       "      <td>POLYGON ((7654977.320 682280.378, 7654977.831 ...</td>\n",
       "      <td>41051001301</td>\n",
       "      <td>Census Tract 13.01, Multnomah County, Oregon</td>\n",
       "      <td>16.204308</td>\n",
       "      <td>Census Tract 13.01</td>\n",
       "      <td>Multnomah</td>\n",
       "      <td>Oregon</td>\n",
       "    </tr>\n",
       "    <tr>\n",
       "      <th>3</th>\n",
       "      <td>41051001302</td>\n",
       "      <td>POLYGON ((7654870.962 677498.609, 7654873.144 ...</td>\n",
       "      <td>41051001302</td>\n",
       "      <td>Census Tract 13.02, Multnomah County, Oregon</td>\n",
       "      <td>20.981713</td>\n",
       "      <td>Census Tract 13.02</td>\n",
       "      <td>Multnomah</td>\n",
       "      <td>Oregon</td>\n",
       "    </tr>\n",
       "    <tr>\n",
       "      <th>4</th>\n",
       "      <td>41051001400</td>\n",
       "      <td>POLYGON ((7659976.840 681520.073, 7660128.790 ...</td>\n",
       "      <td>41051001400</td>\n",
       "      <td>Census Tract 14, Multnomah County, Oregon</td>\n",
       "      <td>22.758497</td>\n",
       "      <td>Census Tract 14</td>\n",
       "      <td>Multnomah</td>\n",
       "      <td>Oregon</td>\n",
       "    </tr>\n",
       "  </tbody>\n",
       "</table>\n",
       "</div>"
      ],
      "text/plain": [
       "          FIPS                                           geometry  \\\n",
       "0  41071030102  POLYGON ((7567954.608 616785.792, 7568039.163 ...   \n",
       "1  41051001202  POLYGON ((7654873.144 677620.008, 7654870.962 ...   \n",
       "2  41051001301  POLYGON ((7654977.320 682280.378, 7654977.831 ...   \n",
       "3  41051001302  POLYGON ((7654870.962 677498.609, 7654873.144 ...   \n",
       "4  41051001400  POLYGON ((7659976.840 681520.073, 7660128.790 ...   \n",
       "\n",
       "         GEOID                                          NAME  \\\n",
       "0  41071030102   Census Tract 301.02, Yamhill County, Oregon   \n",
       "1  41051001202  Census Tract 12.02, Multnomah County, Oregon   \n",
       "2  41051001301  Census Tract 13.01, Multnomah County, Oregon   \n",
       "3  41051001302  Census Tract 13.02, Multnomah County, Oregon   \n",
       "4  41051001400     Census Tract 14, Multnomah County, Oregon   \n",
       "\n",
       "   Social Vulnerability (%)                TRACT       COUNTY    STATE  \n",
       "0                 50.982977  Census Tract 301.02     Yamhill    Oregon  \n",
       "1                 14.903810   Census Tract 12.02   Multnomah    Oregon  \n",
       "2                 16.204308   Census Tract 13.01   Multnomah    Oregon  \n",
       "3                 20.981713   Census Tract 13.02   Multnomah    Oregon  \n",
       "4                 22.758497      Census Tract 14   Multnomah    Oregon  "
      ]
     },
     "execution_count": 26,
     "metadata": {},
     "output_type": "execute_result"
    }
   ],
   "source": [
    "##join tables and display head\n",
    "\n",
    "cTracts = cTracts.merge(ltd_df, left_on = \"FIPS\", right_on = \"GEOID\")\n",
    "cTracts.head()"
   ]
  },
  {
   "cell_type": "markdown",
   "metadata": {},
   "source": [
    "# Visualizing Social Vulnerability Per County"
   ]
  },
  {
   "cell_type": "code",
   "execution_count": 27,
   "metadata": {},
   "outputs": [],
   "source": [
    "## create unique list of counties \n",
    "coList = cTracts['COUNTY'].unique().tolist()"
   ]
  },
  {
   "cell_type": "code",
   "execution_count": 29,
   "metadata": {},
   "outputs": [
    {
     "data": {
      "image/png": "[encoded data removed]",
      "text/plain": [
       "<Figure size 432x288 with 2 Axes>"
      ]
     },
     "metadata": {
      "needs_background": "light"
     },
     "output_type": "display_data"
    },
    {
     "data": {
      "image/png": "[encoded data removed]",
      "text/plain": [
       "<Figure size 432x288 with 2 Axes>"
      ]
     },
     "metadata": {
      "needs_background": "light"
     },
     "output_type": "display_data"
    },
    {
     "data": {
      "image/png": "[encoded data removed]",
      "text/plain": [
       "<Figure size 432x288 with 2 Axes>"
      ]
     },
     "metadata": {
      "needs_background": "light"
     },
     "output_type": "display_data"
    },
    {
     "data": {
      "image/png": "[encoded data removed]",
      "text/plain": [
       "<Figure size 432x288 with 2 Axes>"
      ]
     },
     "metadata": {
      "needs_background": "light"
     },
     "output_type": "display_data"
    },
    {
     "data": {
      "image/png": "[encoded data removed]",
      "text/plain": [
       "<Figure size 432x288 with 2 Axes>"
      ]
     },
     "metadata": {
      "needs_background": "light"
     },
     "output_type": "display_data"
    },
    {
     "data": {
      "image/png": "[encoded data removed]",
      "text/plain": [
       "<Figure size 432x288 with 2 Axes>"
      ]
     },
     "metadata": {
      "needs_background": "light"
     },
     "output_type": "display_data"
    },
    {
     "data": {
      "image/png": "[encoded data removed]",
      "text/plain": [
       "<Figure size 432x288 with 2 Axes>"
      ]
     },
     "metadata": {
      "needs_background": "light"
     },
     "output_type": "display_data"
    }
   ],
   "source": [
    "## create loop for displaying maps\n",
    "for co in coList:   \n",
    "    county = cTracts[(cTracts.COUNTY == co)]\n",
    "    county.plot(column = 'Social Vulnerability (%)', legend = True)\n",
    "    plt.title(f'{co} - Social Vulnerability by %')\n",
    "    plt.show()\n",
    "    "
   ]
  }
 ],
 "metadata": {
  "kernelspec": {
   "display_name": "Python 3",
   "language": "python",
   "name": "python3"
  },
  "language_info": {
   "codemirror_mode": {
    "name": "ipython",
    "version": 3
   },
   "file_extension": ".py",
   "mimetype": "text/x-python",
   "name": "python",
   "nbconvert_exporter": "python",
   "pygments_lexer": "ipython3",
   "version": "3.6.10"
  }
 },
 "nbformat": 4,
 "nbformat_minor": 4
}
