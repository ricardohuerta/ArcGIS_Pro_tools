{
 "cells": [
  {
   "cell_type": "code",
   "execution_count": 1,
   "metadata": {},
   "outputs": [],
   "source": [
    "import arcpy\n",
    "import os\n",
    "import sys\n",
    "ws = r'C:\\Users\\Ricardo\\Desktop\\PCC\\Internship\\UpdatedCountyTaxLots\\TaxLots\\TaxLots.gdb'\n",
    "arcpy.env.workspace = ws"
   ]
  },
  {
   "cell_type": "code",
   "execution_count": 2,
   "metadata": {},
   "outputs": [],
   "source": [
    "fcs = ['publicLandsFloodplain', 'clarkParcels', 'clatsopParcels',\n",
    "      'colParcels', 'cowlitzParcels', 'multnomahParcels', 'pacificParcels',\n",
    "      'privatizedLands', 'skaParcels',\n",
    "      'wahkiakumParcels']"
   ]
  },
  {
   "cell_type": "code",
   "execution_count": 3,
   "metadata": {},
   "outputs": [],
   "source": [
    "orLamFD = r'C:\\Users\\Ricardo\\Desktop\\PCC\\Internship\\UpdatedCountyTaxLots\\TaxLotDatabaseCreate\\TaxLotDatabaseCreate.gdb\\OregonLambert'\n",
    "orSperMer = r'C:\\Users\\Ricardo\\Desktop\\PCC\\Internship\\UpdatedCountyTaxLots\\TaxLotDatabaseCreate\\TaxLotDatabaseCreate.gdb\\SphericalMercator'\n"
   ]
  },
  {
   "cell_type": "code",
   "execution_count": 4,
   "metadata": {},
   "outputs": [],
   "source": [
    "orLam_coor_sys = arcpy.SpatialReference(2992)\n",
    "sperMer_coor_sys = arcpy.SpatialReference(3857)   "
   ]
  },
  {
   "cell_type": "code",
   "execution_count": null,
   "metadata": {},
   "outputs": [],
   "source": [
    "for fc in fcs:\n",
    "    arcpy.Project_management(fc, os.path.join(orLamFD, fc), orLam_coor_sys)"
   ]
  },
  {
   "cell_type": "code",
   "execution_count": 5,
   "metadata": {},
   "outputs": [
    {
     "data": {
      "text/html": [
       "<h2>Output</h2>C:\\Users\\Ricardo\\Desktop\\PCC\\Internship\\UpdatedCountyTaxLots\\TaxLotDatabaseCreate\\TaxLotDatabaseCreate.gdb\\OregonLambert\\privatizedLands<h2>Messages</h2>Start Time: Wednesday, December 2, 2020 11:46:12 AM<br/>Succeeded at Wednesday, December 2, 2020 11:46:15 AM (Elapsed Time: 3.13 seconds)<br/><style>.rendered_html td, .rendered_html th {text-align: left;}.rendered_html tbody {border: 1px solid black;}</style>"
      ],
      "text/plain": [
       "<Result 'C:\\\\Users\\\\Ricardo\\\\Desktop\\\\PCC\\\\Internship\\\\UpdatedCountyTaxLots\\\\TaxLotDatabaseCreate\\\\TaxLotDatabaseCreate.gdb\\\\OregonLambert\\\\privatizedLands'>"
      ]
     },
     "execution_count": 5,
     "metadata": {},
     "output_type": "execute_result"
    }
   ],
   "source": [
    "arcpy.Project_management('privatizedLands', os.path.join(orLamFD, 'privatizedLands'), orLam_coor_sys)"
   ]
  },
  {
   "cell_type": "code",
   "execution_count": null,
   "metadata": {},
   "outputs": [],
   "source": [
    "for fc in fcs:\n",
    "    outFc = fc + '_WGS'\n",
    "    arcpy.Project_management(fc, os.path.join(orSperMer, outFc), sperMer_coor_sys)"
   ]
  },
  {
   "cell_type": "code",
   "execution_count": 6,
   "metadata": {},
   "outputs": [
    {
     "data": {
      "text/html": [
       "<h2>Output</h2>C:\\Users\\Ricardo\\Desktop\\PCC\\Internship\\UpdatedCountyTaxLots\\TaxLotDatabaseCreate\\TaxLotDatabaseCreate.gdb\\SphericalMercator\\privatizedLands_WGS<h2>Messages</h2>Start Time: Wednesday, December 2, 2020 11:46:18 AM<br/>Succeeded at Wednesday, December 2, 2020 11:46:21 AM (Elapsed Time: 2.13 seconds)<br/><style>.rendered_html td, .rendered_html th {text-align: left;}.rendered_html tbody {border: 1px solid black;}</style>"
      ],
      "text/plain": [
       "<Result 'C:\\\\Users\\\\Ricardo\\\\Desktop\\\\PCC\\\\Internship\\\\UpdatedCountyTaxLots\\\\TaxLotDatabaseCreate\\\\TaxLotDatabaseCreate.gdb\\\\SphericalMercator\\\\privatizedLands_WGS'>"
      ]
     },
     "execution_count": 6,
     "metadata": {},
     "output_type": "execute_result"
    }
   ],
   "source": [
    "arcpy.Project_management('privatizedLands', os.path.join(orSperMer, 'privatizedLands_WGS'), sperMer_coor_sys)"
   ]
  }
 ],
 "metadata": {
  "kernelspec": {
   "display_name": "Python 3",
   "language": "python",
   "name": "python3"
  },
  "language_info": {
   "codemirror_mode": {
    "name": "ipython",
    "version": 3
   },
   "file_extension": ".py",
   "mimetype": "text/x-python",
   "name": "python",
   "nbconvert_exporter": "python",
   "pygments_lexer": "ipython3",
   "version": "3.6.10"
  }
 },
 "nbformat": 4,
 "nbformat_minor": 4
}
