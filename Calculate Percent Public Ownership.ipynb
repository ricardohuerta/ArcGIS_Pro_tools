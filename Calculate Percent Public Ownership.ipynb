{
 "cells": [
  {
   "cell_type": "code",
   "execution_count": 1,
   "metadata": {},
   "outputs": [],
   "source": [
    "import arcpy\n",
    "import os\n",
    "import sys\n",
    "ws = r'C:\\Users\\Ricardo\\Desktop\\PCC\\Internship\\UpdatedCountyTaxLots\\TaxLots\\TaxLots.gdb'\n",
    "arcpy.env.workspace = ws \n",
    "arcpy.env.overwriteOutput = True"
   ]
  },
  {
   "cell_type": "code",
   "execution_count": 2,
   "metadata": {},
   "outputs": [],
   "source": [
    "floodplain = r'C:\\Users\\Ricardo\\Desktop\\PCC\\Internship\\UpdatedCountyTaxLots\\FloodPlain\\Hydrogeo_III_merged.shp'\n",
    "clarkLands = r'C:\\Users\\Ricardo\\Desktop\\PCC\\Internship\\UpdatedCountyTaxLots\\Shapefiles\\ClarkCo\\TaxLots\\ClarkCoTaxLots.shp'\n",
    "clarkPubLands = r'C:\\Users\\Ricardo\\Desktop\\PCC\\Internship\\UpdatedCountyTaxLots\\Shapefiles\\ClarkCo\\Ownership\\PublicLandOwnership.shp'\n"
   ]
  },
  {
   "cell_type": "markdown",
   "metadata": {},
   "source": [
    "## Create all county (except Clark) floodplain intersection layer with update parcel information\n",
    "\n",
    "    This layer will be use to calculate public land are percent\n",
    "\n"
   ]
  },
  {
   "cell_type": "code",
   "execution_count": 51,
   "metadata": {},
   "outputs": [
    {
     "data": {
      "text/html": [
       "<h2>Output</h2>C:\\Users\\Ricardo\\Desktop\\PCC\\Internship\\UpdatedCountyTaxLots\\TaxLots\\TaxLots.gdb<h2>Messages</h2>Start Time: Wednesday, January 20, 2021 12:02:42 PM<br/>C:\\Users\\Ricardo\\Desktop\\PCC\\Internship\\UpdatedCountyTaxLots\\Shapefiles\\ClarkCo\\TaxLots\\ClarkCoTaxLots.shp Successfully converted:  C:\\Users\\Ricardo\\Desktop\\PCC\\Internship\\UpdatedCountyTaxLots\\TaxLots\\TaxLots.gdb\\ClarkCoTaxLots<br/>Succeeded at Wednesday, January 20, 2021 12:03:12 PM (Elapsed Time: 29.40 seconds)<br/><style>.rendered_html td, .rendered_html th {text-align: left;}.rendered_html tbody {border: 1px solid black;}</style>"
      ],
      "text/plain": [
       "<Result 'C:\\\\Users\\\\Ricardo\\\\Desktop\\\\PCC\\\\Internship\\\\UpdatedCountyTaxLots\\\\TaxLots\\\\TaxLots.gdb'>"
      ]
     },
     "execution_count": 51,
     "metadata": {},
     "output_type": "execute_result"
    }
   ],
   "source": [
    "##Correct clark county field name typo\n",
    "arcpy.FeatureClassToGeodatabase_conversion (r'C:\\Users\\Ricardo\\Desktop\\PCC\\Internship\\UpdatedCountyTaxLots\\Shapefiles\\ClarkCo\\TaxLots\\ClarkCoTaxLots.shp', ws)"
   ]
  },
  {
   "cell_type": "code",
   "execution_count": 80,
   "metadata": {},
   "outputs": [],
   "source": [
    "### Clark public lands percentage will need to be calculate separately so first must create layer that is of all county parcels except clark\n",
    "outfc = r'C:\\Users\\Ricardo\\Desktop\\PCC\\Internship\\UpdatedCountyTaxLots\\TaxLots\\TaxLots.gdb\\allCountiesExceptClark2'\n",
    "\n",
    "clat = 'clatsopParcels'\n",
    "col = 'colParcels'\n",
    "cow = 'cowlitzParcels'\n",
    "mult = 'multnomahParcels'\n",
    "pac = 'pacificParcels'\n",
    "ska = 'skaParcels'\n",
    "wah = 'wahkiakumParcels'\n",
    "clark = 'ClarkCoTaxLots'\n",
    "\n",
    "coList = [clat, col, cow, mult, pac, ska, wah, clark]\n",
    "coListNoClark = [clat, col, cow, mult, pac, ska, wah]\n",
    "\n",
    "clatOwn = 'OWNER_LINE'\n",
    "colOwn = 'OWNER'\n",
    "cowOwn = 'DEED_HOLDE'\n",
    "multOwn = 'OWNER1'\n",
    "pacOwn = 'CURRENT_O'\n",
    "skaOwn = 'OwnerLast'\n",
    "wahOwn = 'Property_O'\n",
    "clarkOwn = 'LegalShort'\n",
    "\n",
    "ownList = [clatOwn, colOwn, cowOwn, multOwn, pacOwn, skaOwn, wahOwn, clarkOwn]\n",
    "ownListNoClark = [clatOwn, colOwn, cowOwn, multOwn, pacOwn, skaOwn, wahOwn]\n",
    "\n",
    "publicLand = 'PublicLand'\n",
    "AREA = 'Shape_Area'\n",
    "LENGTH = 'Shape_Length'\n",
    "\n",
    "\n"
   ]
  },
  {
   "cell_type": "code",
   "execution_count": 5,
   "metadata": {},
   "outputs": [
    {
     "name": "stdout",
     "output_type": "stream",
     "text": [
      "clatsopParcels:NAD_1983_HARN_StatePlane_Oregon_North_FIPS_3601_Feet_Intl\n",
      "colParcels:NAD_1983_HARN_StatePlane_Oregon_North_FIPS_3601_Feet_Intl\n",
      "cowlitzParcels:NAD_1983_HARN_StatePlane_Washington_South_FIPS_4602_Feet\n",
      "multnomahParcels:WGS_1984_Web_Mercator_Auxiliary_Sphere\n",
      "pacificParcels:NAD_1983_StatePlane_Washington_South_FIPS_4602_Feet\n",
      "skaParcels:NAD_1983_HARN_StatePlane_Washington_South_FIPS_4602_Feet\n",
      "wahkiakumParcels:NAD_1983_HARN_StatePlane_Washington_South_FIPS_4602_Feet\n",
      "clarkParcels:NAD_1983_StatePlane_Washington_South_FIPS_4602_Feet\n"
     ]
    }
   ],
   "source": [
    "for co in coList:\n",
    "    spatial_ref = arcpy.Describe(co).spatialReference\n",
    "    print(f'{co}:{spatial_ref.name}')\n",
    "   "
   ]
  },
  {
   "cell_type": "code",
   "execution_count": 6,
   "metadata": {},
   "outputs": [
    {
     "data": {
      "text/html": [
       "<h2>Output</h2>C:\\Users\\Ricardo\\Desktop\\PCC\\Internship\\UpdatedCountyTaxLots\\TaxLots\\TaxLots.gdb\\multnomahParcel<h2>Messages</h2>Start Time: Wednesday, January 20, 2021 10:47:05 AM<br/>Succeeded at Wednesday, January 20, 2021 10:47:40 AM (Elapsed Time: 35.18 seconds)<br/><style>.rendered_html td, .rendered_html th {text-align: left;}.rendered_html tbody {border: 1px solid black;}</style>"
      ],
      "text/plain": [
       "<Result 'C:\\\\Users\\\\Ricardo\\\\Desktop\\\\PCC\\\\Internship\\\\UpdatedCountyTaxLots\\\\TaxLots\\\\TaxLots.gdb\\\\multnomahParcel'>"
      ]
     },
     "execution_count": 6,
     "metadata": {},
     "output_type": "execute_result"
    }
   ],
   "source": [
    "# Reproject multnomah county to appropriate projection\n",
    "arcpy.Project_management(mult, 'multnomahParcel', arcpy.Describe(clat).spatialReference)"
   ]
  },
  {
   "cell_type": "code",
   "execution_count": 7,
   "metadata": {},
   "outputs": [],
   "source": [
    "publicLandFldMap = arcpy.FieldMap()\n",
    "shapeAreaFldMap = arcpy.FieldMap()\n",
    "shapeLengthFldMap = arcpy.FieldMap()\n",
    "landOwnerFldMap = arcpy.FieldMap()\n",
    "\n",
    "fms = arcpy.FieldMappings()"
   ]
  },
  {
   "cell_type": "code",
   "execution_count": 76,
   "metadata": {},
   "outputs": [],
   "source": [
    "for co, own in zip(coListNoClark, ownListNoClark):\n",
    "    publicLandFldMap.addInputField(co, publicLand)\n",
    "    shapeAreaFldMap.addInputField(co, AREA)\n",
    "    shapeLengthFldMap.addInputField(co, LENGTH)\n",
    "    landOwnerFldMap.addInputField(co, own)\n",
    "    "
   ]
  },
  {
   "cell_type": "code",
   "execution_count": 9,
   "metadata": {},
   "outputs": [],
   "source": [
    "landOwner_name = landOwnerFldMap.outputField\n",
    "landOwner_name.name = 'Land Owner'\n",
    "landOwner_name.length = 100\n",
    "landOwnerFldMap.outputField = landOwner_name"
   ]
  },
  {
   "cell_type": "code",
   "execution_count": 10,
   "metadata": {},
   "outputs": [],
   "source": [
    "area_name = shapeAreaFldMap.outputField\n",
    "area_name.name = 'AREA'\n",
    "shapeAreaFldMap.outputField = area_name\n",
    "\n",
    "length_name = shapeLengthFldMap.outputField\n",
    "length_name.name = 'LENGTH'\n",
    "shapeLengthFldMap.outputField = length_name"
   ]
  },
  {
   "cell_type": "code",
   "execution_count": 11,
   "metadata": {},
   "outputs": [],
   "source": [
    "fms.addFieldMap(publicLandFldMap)\n",
    "fms.addFieldMap(shapeAreaFldMap)\n",
    "fms.addFieldMap(shapeLengthFldMap)\n",
    "fms.addFieldMap(landOwnerFldMap)"
   ]
  },
  {
   "cell_type": "code",
   "execution_count": 20,
   "metadata": {},
   "outputs": [
    {
     "data": {
      "text/html": [
       "<h2>Output</h2>C:\\Users\\Ricardo\\Desktop\\PCC\\Internship\\UpdatedCountyTaxLots\\TaxLots\\TaxLots.gdb\\allCountiesExceptClark2<h2>Messages</h2>Start Time: Wednesday, January 20, 2021 11:10:20 AM<br/>Succeeded at Wednesday, January 20, 2021 11:11:50 AM (Elapsed Time: 1 minutes 30 seconds)<br/><style>.rendered_html td, .rendered_html th {text-align: left;}.rendered_html tbody {border: 1px solid black;}</style>"
      ],
      "text/plain": [
       "<Result 'C:\\\\Users\\\\Ricardo\\\\Desktop\\\\PCC\\\\Internship\\\\UpdatedCountyTaxLots\\\\TaxLots\\\\TaxLots.gdb\\\\allCountiesExceptClark2'>"
      ]
     },
     "execution_count": 20,
     "metadata": {},
     "output_type": "execute_result"
    }
   ],
   "source": [
    "arcpy.Merge_management(coListNoClark, outfc, fms)"
   ]
  },
  {
   "cell_type": "code",
   "execution_count": 21,
   "metadata": {},
   "outputs": [
    {
     "data": {
      "text/html": [
       "<h2>Output</h2>C:\\Users\\Ricardo\\Desktop\\PCC\\Internship\\UpdatedCountyTaxLots\\TaxLots\\TaxLots.gdb\\newParcelsExceptClark_FP<h2>Messages</h2>Start Time: Wednesday, January 20, 2021 11:12:24 AM<br/>Succeeded at Wednesday, January 20, 2021 11:12:36 AM (Elapsed Time: 12.38 seconds)<br/><style>.rendered_html td, .rendered_html th {text-align: left;}.rendered_html tbody {border: 1px solid black;}</style>"
      ],
      "text/plain": [
       "<Result 'C:\\\\Users\\\\Ricardo\\\\Desktop\\\\PCC\\\\Internship\\\\UpdatedCountyTaxLots\\\\TaxLots\\\\TaxLots.gdb\\\\newParcelsExceptClark_FP'>"
      ]
     },
     "execution_count": 21,
     "metadata": {},
     "output_type": "execute_result"
    }
   ],
   "source": [
    "## Create floodplain intersection\n",
    "newParcelsExceptClark_FP = arcpy.SelectLayerByLocation_management(outfc, 'INTERSECT', floodplain)\n",
    "arcpy.CopyFeatures_management(newParcelsExceptClark_FP, 'newParcelsExceptClark_FP')"
   ]
  },
  {
   "cell_type": "markdown",
   "metadata": {},
   "source": [
    "## Create all county (including Clark) floodplain intersection with updated parcel layers\n",
    "    \n",
    "    This layer will be used to compare total area of new floodplain intersection with old floodplain intersection\n",
    "    \n"
   ]
  },
  {
   "cell_type": "code",
   "execution_count": null,
   "metadata": {},
   "outputs": [],
   "source": []
  },
  {
   "cell_type": "code",
   "execution_count": 105,
   "metadata": {},
   "outputs": [],
   "source": [
    "## MAke new all county layer that includes all parcels including calrk county\n",
    "\n",
    "shapeAreaFldMap = arcpy.FieldMap()\n",
    "shapeLengthFldMap = arcpy.FieldMap()\n",
    "landOwnerFldMap = arcpy.FieldMap()\n",
    "\n",
    "fms = arcpy.FieldMappings()"
   ]
  },
  {
   "cell_type": "code",
   "execution_count": 106,
   "metadata": {},
   "outputs": [],
   "source": [
    "for co, own in zip(coList, ownList):\n",
    "    shapeAreaFldMap.addInputField(co, AREA)\n",
    "    shapeLengthFldMap.addInputField(co, LENGTH)\n",
    "    #print(co, own)\n",
    "    landOwnerFldMap.addInputField(co, own)"
   ]
  },
  {
   "cell_type": "code",
   "execution_count": 107,
   "metadata": {},
   "outputs": [],
   "source": [
    "landOwner_name = landOwnerFldMap.outputField\n",
    "landOwner_name.name = 'Land Owner'\n",
    "landOwner_name.length = 500\n",
    "landOwnerFldMap.outputField = landOwner_name"
   ]
  },
  {
   "cell_type": "code",
   "execution_count": 94,
   "metadata": {},
   "outputs": [],
   "source": []
  },
  {
   "cell_type": "code",
   "execution_count": 108,
   "metadata": {},
   "outputs": [],
   "source": [
    "fms.addFieldMap(shapeAreaFldMap)\n",
    "fms.addFieldMap(shapeLengthFldMap)\n",
    "fms.addFieldMap(landOwnerFldMap)"
   ]
  },
  {
   "cell_type": "code",
   "execution_count": 109,
   "metadata": {},
   "outputs": [
    {
     "data": {
      "text/html": [
       "<h2>Output</h2>C:\\Users\\Ricardo\\Desktop\\PCC\\Internship\\UpdatedCountyTaxLots\\TaxLots\\TaxLots.gdb\\county_merge_allParcels<h2>Messages</h2>Start Time: Wednesday, January 20, 2021 12:53:21 PM<br/>Succeeded at Wednesday, January 20, 2021 12:55:18 PM (Elapsed Time: 1 minutes 57 seconds)<br/><style>.rendered_html td, .rendered_html th {text-align: left;}.rendered_html tbody {border: 1px solid black;}</style>"
      ],
      "text/plain": [
       "<Result 'C:\\\\Users\\\\Ricardo\\\\Desktop\\\\PCC\\\\Internship\\\\UpdatedCountyTaxLots\\\\TaxLots\\\\TaxLots.gdb\\\\county_merge_allParcels'>"
      ]
     },
     "execution_count": 109,
     "metadata": {},
     "output_type": "execute_result"
    }
   ],
   "source": [
    "arcpy.Merge_management(coList, 'county_merge_allParcels', fms)"
   ]
  },
  {
   "cell_type": "code",
   "execution_count": 110,
   "metadata": {},
   "outputs": [
    {
     "data": {
      "text/html": [
       "<h2>Output</h2>C:\\Users\\Ricardo\\Desktop\\PCC\\Internship\\UpdatedCountyTaxLots\\TaxLots\\TaxLots.gdb\\newFP_allParcels<h2>Messages</h2>Start Time: Wednesday, January 20, 2021 12:56:04 PM<br/>Succeeded at Wednesday, January 20, 2021 12:56:17 PM (Elapsed Time: 13.23 seconds)<br/><style>.rendered_html td, .rendered_html th {text-align: left;}.rendered_html tbody {border: 1px solid black;}</style>"
      ],
      "text/plain": [
       "<Result 'C:\\\\Users\\\\Ricardo\\\\Desktop\\\\PCC\\\\Internship\\\\UpdatedCountyTaxLots\\\\TaxLots\\\\TaxLots.gdb\\\\newFP_allParcels'>"
      ]
     },
     "execution_count": 110,
     "metadata": {},
     "output_type": "execute_result"
    }
   ],
   "source": [
    "# Create later of new parcels that intersect with floodplain\n",
    "newFP_allParcels = arcpy.SelectLayerByLocation_management('county_merge_allParcels', \"INTERSECT\", floodplain)\n",
    "arcpy.CopyFeatures_management(newFP_allParcels, 'newFP_allParcels')"
   ]
  },
  {
   "cell_type": "code",
   "execution_count": 111,
   "metadata": {},
   "outputs": [
    {
     "name": "stdout",
     "output_type": "stream",
     "text": [
      "OBJECTID\n",
      "Shape\n",
      "Land_Owner\n",
      "Shape_Length\n",
      "Shape_Area\n"
     ]
    }
   ],
   "source": [
    "fields = arcpy.ListFields('newFP_allParcels')\n",
    "\n",
    "for field in fields:\n",
    "    print(field.name)"
   ]
  },
  {
   "cell_type": "markdown",
   "metadata": {},
   "source": [
    "## Creat all county floodplain intersection with outdated parcel layers"
   ]
  },
  {
   "cell_type": "code",
   "execution_count": 112,
   "metadata": {},
   "outputs": [
    {
     "data": {
      "text/html": [
       "<h2>Output</h2>C:\\Users\\Ricardo\\Desktop\\PCC\\Internship\\UpdatedCountyTaxLots\\TaxLots\\TaxLots.gdb\\oldFP_allParcels<h2>Messages</h2>Start Time: Wednesday, January 20, 2021 12:56:33 PM<br/>Succeeded at Wednesday, January 20, 2021 12:56:50 PM (Elapsed Time: 17.57 seconds)<br/><style>.rendered_html td, .rendered_html th {text-align: left;}.rendered_html tbody {border: 1px solid black;}</style>"
      ],
      "text/plain": [
       "<Result 'C:\\\\Users\\\\Ricardo\\\\Desktop\\\\PCC\\\\Internship\\\\UpdatedCountyTaxLots\\\\TaxLots\\\\TaxLots.gdb\\\\oldFP_allParcels'>"
      ]
     },
     "execution_count": 112,
     "metadata": {},
     "output_type": "execute_result"
    }
   ],
   "source": [
    "# Repeat process for old parcels\n",
    "oldFP_allParcels = arcpy.SelectLayerByLocation_management('old_parcels_merge', 'INTERSECT', floodplain)\n",
    "arcpy.CopyFeatures_management(oldFP_allParcels, 'oldFP_allParcels')"
   ]
  },
  {
   "cell_type": "markdown",
   "metadata": {},
   "source": [
    "## After inspecting oldFP_allParcels and newFP_allParcels, it looks like the same features have multiple entries in the attribute table so need write function to identify and eliminate double entries."
   ]
  },
  {
   "cell_type": "code",
   "execution_count": 113,
   "metadata": {},
   "outputs": [
    {
     "data": {
      "text/html": [
       "<h2>Output</h2>C:\\Users\\Ricardo\\Desktop\\PCC\\Internship\\UpdatedCountyTaxLots\\TaxLots\\TaxLots.gdb\\newFP_allParcels<h2>Messages</h2>Start Time: Wednesday, January 20, 2021 12:56:51 PM<br/>2300 duplicate(s) from 1698 group(s) deleted.<br/>Succeeded at Wednesday, January 20, 2021 12:57:04 PM (Elapsed Time: 13.05 seconds)<br/><style>.rendered_html td, .rendered_html th {text-align: left;}.rendered_html tbody {border: 1px solid black;}</style>"
      ],
      "text/plain": [
       "<Result 'C:\\\\Users\\\\Ricardo\\\\Desktop\\\\PCC\\\\Internship\\\\UpdatedCountyTaxLots\\\\TaxLots\\\\TaxLots.gdb\\\\newFP_allParcels'>"
      ]
     },
     "execution_count": 113,
     "metadata": {},
     "output_type": "execute_result"
    }
   ],
   "source": [
    "arcpy.DeleteIdentical_management('newFP_allParcels', ['Shape_Area', 'Shape_Length', 'Land_Owner'])"
   ]
  },
  {
   "cell_type": "code",
   "execution_count": 114,
   "metadata": {},
   "outputs": [
    {
     "data": {
      "text/html": [
       "<h2>Output</h2>C:\\Users\\Ricardo\\Desktop\\PCC\\Internship\\UpdatedCountyTaxLots\\TaxLots\\TaxLots.gdb\\oldFp_allParcels<h2>Messages</h2>Start Time: Wednesday, January 20, 2021 12:57:05 PM<br/>297 duplicate(s) from 234 group(s) deleted.<br/>Succeeded at Wednesday, January 20, 2021 12:57:16 PM (Elapsed Time: 11.16 seconds)<br/><style>.rendered_html td, .rendered_html th {text-align: left;}.rendered_html tbody {border: 1px solid black;}</style>"
      ],
      "text/plain": [
       "<Result 'C:\\\\Users\\\\Ricardo\\\\Desktop\\\\PCC\\\\Internship\\\\UpdatedCountyTaxLots\\\\TaxLots\\\\TaxLots.gdb\\\\oldFp_allParcels'>"
      ]
     },
     "execution_count": 114,
     "metadata": {},
     "output_type": "execute_result"
    }
   ],
   "source": [
    "arcpy.DeleteIdentical_management('oldFp_allParcels', ['Shape_Area', 'Shape_Length', 'Land_Owner'])"
   ]
  },
  {
   "cell_type": "code",
   "execution_count": 68,
   "metadata": {},
   "outputs": [
    {
     "data": {
      "text/html": [
       "<h2>Output</h2>C:\\Users\\Ricardo\\Desktop\\PCC\\Internship\\UpdatedCountyTaxLots\\TaxLots\\TaxLots.gdb\\newParcelsExceptClark_FP<h2>Messages</h2>Start Time: Wednesday, January 20, 2021 12:21:17 PM<br/>No record(s) deleted.<br/>Succeeded at Wednesday, January 20, 2021 12:21:26 PM (Elapsed Time: 9.53 seconds)<br/><style>.rendered_html td, .rendered_html th {text-align: left;}.rendered_html tbody {border: 1px solid black;}</style>"
      ],
      "text/plain": [
       "<Result 'C:\\\\Users\\\\Ricardo\\\\Desktop\\\\PCC\\\\Internship\\\\UpdatedCountyTaxLots\\\\TaxLots\\\\TaxLots.gdb\\\\newParcelsExceptClark_FP'>"
      ]
     },
     "execution_count": 68,
     "metadata": {},
     "output_type": "execute_result"
    }
   ],
   "source": [
    "arcpy.DeleteIdentical_management('newParcelsExceptClark_FP', ['AREA', 'LENGTH', 'Land_Owner'])"
   ]
  },
  {
   "cell_type": "code",
   "execution_count": null,
   "metadata": {},
   "outputs": [],
   "source": []
  },
  {
   "cell_type": "markdown",
   "metadata": {},
   "source": [
    "## Calculate areas of both new and outdated all county floodplain intersections"
   ]
  },
  {
   "cell_type": "code",
   "execution_count": 27,
   "metadata": {},
   "outputs": [],
   "source": [
    "def calcArea(fc, areaField):\n",
    "    with arcpy.da.SearchCursor(fc, areaField) as cursor:\n",
    "        area = 0\n",
    "        for row in cursor:\n",
    "            area = area + row[0]\n",
    "    return area"
   ]
  },
  {
   "cell_type": "code",
   "execution_count": 131,
   "metadata": {},
   "outputs": [
    {
     "name": "stdout",
     "output_type": "stream",
     "text": [
      "New Area: 20175681785.65799 sq ft \n",
      "Old Area: 19186135269.893784 sq ft\n",
      "The updated tax parcel has a 5.16 % larger area than the old tax parcel layer\n"
     ]
    }
   ],
   "source": [
    "newArea = calcArea('newFP_allParcels', 'Shape_Area')\n",
    "oldArea = calcArea('oldFP_allParcels', 'Shape_Area')\n",
    "\n",
    "print(f'New Area: {newArea} sq ft \\nOld Area: {oldArea} sq ft')\n",
    "\n",
    "percentChange = (newArea/oldArea * 100) - 100\n",
    "print(f'The updated tax parcel has a {round(percentChange, 2)} % larger area than the old tax parcel layer')"
   ]
  },
  {
   "cell_type": "markdown",
   "metadata": {},
   "source": [
    "## Calculate Percentage of Public Lands"
   ]
  },
  {
   "cell_type": "code",
   "execution_count": 135,
   "metadata": {},
   "outputs": [
    {
     "name": "stdout",
     "output_type": "stream",
     "text": [
      "Updated public lands have an area of 4003732811.8900023 sq ft \n",
      "Outdated public lands have an area of 3565880272.7875705 sq ft\n",
      "The updated layer has 19.84434952149216 % public lands\n",
      "The outdated layer has 18.58571422866504 % public lands\n"
     ]
    }
   ],
   "source": [
    "newPubLands = r'C:\\Users\\Ricardo\\Desktop\\PCC\\Internship\\UpdatedCountyTaxLots\\TaxLotDatabaseCreate\\TaxLotDatabaseCreate.gdb\\PublicLandsFloodplain'\n",
    "oldPubLands = 'pub_pvt_exportpub_wm_Project'\n",
    "\n",
    "newPubArea = calcArea(newPubLands, 'Shape_Area')\n",
    "oldPubArea = calcArea(oldPubLands, 'Shape_Area')\n",
    "\n",
    "print(f'Updated public lands have an area of {newPubArea} sq ft \\nOutdated public lands have an area of {oldPubArea} sq ft')\n",
    "\n",
    "percentNewPubLands = newPubArea/newArea  * 100\n",
    "percentOldPubLands = oldPubArea/oldArea * 100\n",
    "\n",
    "print(f'The updated layer has {percentNewPubLands} % public lands\\nThe outdated layer has {percentOldPubLands} % public lands')\n"
   ]
  },
  {
   "cell_type": "code",
   "execution_count": null,
   "metadata": {},
   "outputs": [],
   "source": [
    "## Prepare clark county layer\n",
    "\n",
    "arcpy.AddField_management(clarkPubLands,'PublicLand', 'TEXT', field_length = 1)\n",
    "\n",
    "with arcpy.da.UpdateCursor(clarkPubLands, 'PublicLand') as cursor:\n",
    "    for row in cursor:\n",
    "        row[0] = 'T'\n",
    "        cursor.updateRow(row)"
   ]
  },
  {
   "cell_type": "code",
   "execution_count": null,
   "metadata": {},
   "outputs": [],
   "source": [
    "#Prepare for Merge\n",
    "publicLandFldMap = arcpy.FieldMap()\n",
    "fms = arcpy.FieldMappings()\n"
   ]
  },
  {
   "cell_type": "code",
   "execution_count": null,
   "metadata": {},
   "outputs": [],
   "source": [
    "publicLandFldMap.addInputField(clarkPubLands, 'PublicLand')\n",
    "pubLand_name = publicLandFldMap.outputField\n",
    "pubLand_name.name = 'PublicLand'\n",
    "pubLand_name.length = 1\n",
    "publicLandFldMap.outputField = pubLand_name\n",
    "\n",
    "fms.addFieldMap(publicLandFldMap)\n"
   ]
  },
  {
   "cell_type": "code",
   "execution_count": null,
   "metadata": {},
   "outputs": [],
   "source": [
    "arcpy.SpatialJoin_analysis(clarkLands, clarkPubLands, 'clarkParcelsPubLands', field_mapping = fms,\n",
    "                          match_option = 'HAVE_THEIR_CENTER_IN')"
   ]
  },
  {
   "cell_type": "code",
   "execution_count": null,
   "metadata": {},
   "outputs": [],
   "source": [
    "join_matches = arcpy.SelectLayerByAttribute_management('clarkParcelsPubLands', where_clause = \"PublicLand = 'T'\")\n",
    "arcpy.CopyFeatures_management(join_matches, 'join_matches')\n"
   ]
  },
  {
   "cell_type": "code",
   "execution_count": null,
   "metadata": {},
   "outputs": [],
   "source": [
    "omittedParcels = arcpy.SelectLayerByLocation_management(clarkPubLands, 'INTERSECT', 'join_matches', invert_spatial_relationship = 'INVERT')\n",
    "arcpy.CopyFeatures_management(omittedParcels, 'omittedParcels')"
   ]
  },
  {
   "cell_type": "code",
   "execution_count": null,
   "metadata": {},
   "outputs": [],
   "source": [
    "# Create later of new parcels that intersect with floodplain\n",
    "newFP_allParcels = arcpy.SelectLayerByLocation_management('county_merge', \"INTERSECT\", floodplain)\n",
    "arcpy.CopyFeatures_management(newFP_allParcels, 'newFP_allParcels')"
   ]
  },
  {
   "cell_type": "code",
   "execution_count": null,
   "metadata": {},
   "outputs": [],
   "source": []
  },
  {
   "cell_type": "code",
   "execution_count": null,
   "metadata": {},
   "outputs": [],
   "source": [
    "def percPubLandArea(layer, ):\n",
    "    "
   ]
  }
 ],
 "metadata": {
  "kernelspec": {
   "display_name": "Python 3",
   "language": "python",
   "name": "python3"
  },
  "language_info": {
   "codemirror_mode": {
    "name": "ipython",
    "version": 3
   },
   "file_extension": ".py",
   "mimetype": "text/x-python",
   "name": "python",
   "nbconvert_exporter": "python",
   "pygments_lexer": "ipython3",
   "version": "3.7.9"
  }
 },
 "nbformat": 4,
 "nbformat_minor": 4
}
