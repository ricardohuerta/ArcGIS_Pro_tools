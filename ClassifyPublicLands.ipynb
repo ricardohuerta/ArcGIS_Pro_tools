{
 "cells": [
  {
   "cell_type": "code",
   "execution_count": 115,
   "metadata": {},
   "outputs": [],
   "source": [
    "import arcpy\n",
    "import os\n",
    "import sys\n",
    "ws = r'C:\\Users\\Ricardo\\Desktop\\PCC\\Internship\\UpdatedCountyTaxLots\\TaxLots\\TaxLots.gdb'\n",
    "arcpy.env.workspace = ws"
   ]
  },
  {
   "cell_type": "code",
   "execution_count": 116,
   "metadata": {},
   "outputs": [],
   "source": [
    "def unique_values(table, field):\n",
    "    with arcpy.da.SearchCursor(table, [field]) as cursor:\n",
    "    \n",
    "        return sorted({row[0] for row in cursor if row[0] != None})"
   ]
  },
  {
   "cell_type": "code",
   "execution_count": 117,
   "metadata": {},
   "outputs": [],
   "source": [
    "def pubFind(searchTerms, myValues):\n",
    "    pubLand = []\n",
    "    myValues = [value.upper() for value in myValues]\n",
    "    \n",
    "    for owner in myValues:\n",
    "        for term in searchTerms:\n",
    "            if term in owner:\n",
    "                pubLand.append(owner)\n",
    "    return pubLand"
   ]
  },
  {
   "cell_type": "code",
   "execution_count": 118,
   "metadata": {},
   "outputs": [],
   "source": [
    "def removeTerms(OgList, removeList):\n",
    "    for item in removeList:\n",
    "        if item in OgList:\n",
    "            OgList.remove(item)\n",
    "    return OgList"
   ]
  },
  {
   "cell_type": "code",
   "execution_count": 119,
   "metadata": {},
   "outputs": [],
   "source": [
    "def parseLandOwners(pubOwnList, parseTermsList, returnList):\n",
    "    returnList = []\n",
    "    for owner in pubOwnList:\n",
    "        for term in parseTermsList:\n",
    "            if term in owner:\n",
    "                returnList.append(owner)\n",
    "    return returnList"
   ]
  },
  {
   "cell_type": "code",
   "execution_count": 120,
   "metadata": {},
   "outputs": [],
   "source": [
    "pubLands = 'publicLandsFloodplain'\n",
    "keithLyr = 'pub_pvt_exportpub_wm_Project'"
   ]
  },
  {
   "cell_type": "code",
   "execution_count": 121,
   "metadata": {},
   "outputs": [],
   "source": [
    "#keithUnique = unique_values(keithLyr, 'pub_pvt')"
   ]
  },
  {
   "cell_type": "code",
   "execution_count": 122,
   "metadata": {},
   "outputs": [],
   "source": [
    "#print(keithUnique)"
   ]
  },
  {
   "cell_type": "code",
   "execution_count": 123,
   "metadata": {},
   "outputs": [],
   "source": [
    "cityTerms = ['CITY', 'PORT']\n",
    "cityParkTerms = ['PARK', 'CITY']\n",
    "countyTerms = ['CO', 'MULTNOMAH', 'CLATSOP', 'CLARK', 'WAHKIAKUM', 'COLUMBIA', 'PACIFIC', 'COWLITZ', 'SKAMANIA', 'SCHOOL']\n",
    "fedTerms = ['US', 'USA', 'U S', 'UNITED', 'FED']\n",
    "fedFwTerms = ['US', 'USA', 'U S', 'UNITED', 'FED', 'FISH', 'WILDLIFE', 'FW', 'F & W', 'F AND W']\n",
    "fedForestTerms = ['US', 'USA', 'U S', 'UNITED', 'FED', 'FOREST']\n",
    "metroTerms = ['MET']\n",
    "stTerms = ['STATE', 'OR', 'WA']\n",
    "stDnrTerms = ['STATE', 'OR', 'WA', 'NATURAL', 'RESOURCES']\n",
    "stDslTerms = ['STATE', 'OR', 'WA', 'LANDS']\n",
    "stFwTerms = ['STATE', 'OR', 'WA', 'FISH', 'WILDLIFE']\n",
    "stForestTerms = ['STATE', 'OR', 'WA', 'FOREST']\n",
    "stParkTerms = ['STATE', 'OR', 'WA', 'PARK']\n",
    "\n",
    "termsList = [cityTerms, cityParkTerms, countyTerms, fedTerms, fedFwTerms, fedForestTerms, metroTerms, stTerms, stDnrTerms, stDslTerms, \n",
    "            stFwTerms, stForestTerms, stParkTerms]"
   ]
  },
  {
   "cell_type": "code",
   "execution_count": 124,
   "metadata": {},
   "outputs": [],
   "source": [
    "cityList = 'cityList'\n",
    "cityParkList = 'cityParkList'\n",
    "countyList = 'countyList'\n",
    "fedList = 'fedList'\n",
    "fedFwList ='fedFwList'\n",
    "fedForestList = 'fedForestList'\n",
    "metroList = 'metroList'\n",
    "stList = 'stList'\n",
    "stDnrList = 'stDnrList'\n",
    "stDslList = 'stDslList'\n",
    "stFwList = 'stFwList'\n",
    "stForestList = 'stForestList'\n",
    "stParkList = 'stParkList'\n",
    "\n",
    "parsedOwnersList = [cityList, cityParkList, countyList, fedList, fedFwList, fedForestList, metroList, stList, stDnrList, \n",
    "                    stDslList, stFwList, stForestList, stParkList]"
   ]
  },
  {
   "cell_type": "code",
   "execution_count": 125,
   "metadata": {},
   "outputs": [],
   "source": [
    "pubOwners = unique_values(pubLands, 'Land_Owner')"
   ]
  },
  {
   "cell_type": "code",
   "execution_count": 126,
   "metadata": {},
   "outputs": [],
   "source": [
    "landClassDict = {}\n",
    "for parseList, returnedList in zip(termsList, parsedOwnersList):\n",
    "     \n",
    "    landClassDict[returnedList] = parseLandOwners(pubOwners, parseList, returnedList)\n",
    "   "
   ]
  },
  {
   "cell_type": "code",
   "execution_count": 127,
   "metadata": {},
   "outputs": [],
   "source": [
    "landClassDict['cityList'] = [i for i in landClassDict['cityList'] if not ('PARK' in i or 'TRANSPORT' in i or 'STATE' in i or \n",
    "                                                                         'TRASPORT' in i)]"
   ]
  },
  {
   "cell_type": "code",
   "execution_count": 128,
   "metadata": {},
   "outputs": [],
   "source": [
    "landClassDict['cityList'] = landClassDict['cityList'] + ['HOUSING AUTHORITY OF VANCOUVER', 'HOUSING AUTHORITY VANCOUVER', 'PORTLAND CITY OF & OREGON STATE OF',\n",
    "                                                        'PORTLAND CITY OF & TRI-COUNTY METROPOLITAN TRANSPORTATION DISTRICT OF OREGON', \n",
    "                                                         'PORTLAND CITY OF & OREGON STATE OF'] "
   ]
  },
  {
   "cell_type": "code",
   "execution_count": 129,
   "metadata": {},
   "outputs": [],
   "source": [
    "landClassDict['cityParkList'] =  [i for i in landClassDict['cityParkList'] if ('PARK' in i)]\n",
    "landClassDict['cityParkList'] = [i for i in landClassDict['cityParkList'] if not ('STATE' in i or 'COUNTY' in i or \n",
    "                                                                                  'OREGON' in i)]\n"
   ]
  },
  {
   "cell_type": "code",
   "execution_count": 130,
   "metadata": {},
   "outputs": [],
   "source": [
    "landClassDict['countyList'] = [i for i in landClassDict['countyList'] if not ('CITY' in i or 'STATE' in i)]"
   ]
  },
  {
   "cell_type": "code",
   "execution_count": 131,
   "metadata": {},
   "outputs": [],
   "source": [
    "removeList = ['HOUSING AUTHORITY VANCOUVER', 'METRO (COLUMBIA PIONEER CEMETERY', 'METRO (COLUMBIA PIONEER CEMETERY' ]"
   ]
  },
  {
   "cell_type": "code",
   "execution_count": 132,
   "metadata": {},
   "outputs": [],
   "source": [
    "landClassDict['countyList'] = removeTerms(landClassDict['countyList'], removeList)"
   ]
  },
  {
   "cell_type": "code",
   "execution_count": 133,
   "metadata": {},
   "outputs": [],
   "source": [
    "landClassDict['fedList'] = [i for i in landClassDict['fedList'] if not ('COUNTY' in i or 'VANCOUVER' in i or 'FISH' in i)]"
   ]
  },
  {
   "cell_type": "code",
   "execution_count": 134,
   "metadata": {},
   "outputs": [],
   "source": [
    "landClassDict['fedFwList'] = [i for i in landClassDict['fedFwList'] if not ('STATE' in i or 'CITY' in i or 'OR' in i)]"
   ]
  },
  {
   "cell_type": "code",
   "execution_count": 135,
   "metadata": {},
   "outputs": [],
   "source": [
    "landClassDict['fedFwList'] = [i for i in landClassDict['fedFwList'] if ('FISH' in i)]"
   ]
  },
  {
   "cell_type": "code",
   "execution_count": 136,
   "metadata": {},
   "outputs": [],
   "source": [
    "landClassDict['fedForestList'] = []"
   ]
  },
  {
   "cell_type": "code",
   "execution_count": 137,
   "metadata": {},
   "outputs": [],
   "source": [
    "landClassDict['metroList'] = [i for i in landClassDict['metroList'] if not ('CEMETERY' in i or 'COUNTY' in i )]"
   ]
  },
  {
   "cell_type": "code",
   "execution_count": 138,
   "metadata": {},
   "outputs": [],
   "source": [
    "landClassDict['stList'] = [i for i in landClassDict['stList'] if not ('CITY' in i or 'COUNTY' in i or 'ASTORIA' in i or 'WARRENTON' in i or\n",
    "                                                                      'FISH' in i or 'RESOURCES' in i or 'STATE LANDS'\n",
    "                                                                     in i or 'FOREST' in i or 'PARK' in i or 'UNITED' in i or\n",
    "                                                                     'DNR' in i or 'WASTEWATER' in i or 'COLUMBIA SOIL AND WATER CONSERVATION DIS' in i \n",
    "                                                                      or 'HOUSING AUTHORITY VANCOUVER' in i or 'WILDLIFE' in i or 'WASHOUGAL' in i\n",
    "                                                                     or 'PORT OF' in i)]"
   ]
  },
  {
   "cell_type": "code",
   "execution_count": null,
   "metadata": {},
   "outputs": [],
   "source": []
  },
  {
   "cell_type": "code",
   "execution_count": null,
   "metadata": {},
   "outputs": [],
   "source": []
  },
  {
   "cell_type": "code",
   "execution_count": 139,
   "metadata": {},
   "outputs": [],
   "source": [
    "dnrUpdateList = [i for i in landClassDict['stDnrList'] if ('RESOURCES' in i or 'DNR' in i)]"
   ]
  },
  {
   "cell_type": "code",
   "execution_count": 140,
   "metadata": {},
   "outputs": [],
   "source": [
    "dnrUpdateList = [i for i in dnrUpdateList if not ( i == 'US NATURAL RESOURCES')]"
   ]
  },
  {
   "cell_type": "code",
   "execution_count": 141,
   "metadata": {},
   "outputs": [],
   "source": [
    "landClassDict['stDnrList'] = dnrUpdateList"
   ]
  },
  {
   "cell_type": "code",
   "execution_count": 142,
   "metadata": {},
   "outputs": [],
   "source": [
    "dslUpdateList = [i for i in landClassDict['stDslList'] if ('LAND' in i or 'DSL' in i)]"
   ]
  },
  {
   "cell_type": "code",
   "execution_count": 143,
   "metadata": {},
   "outputs": [],
   "source": [
    "dslUpdateList = [i for i in dslUpdateList if not ('PORTLAND' in i or 'WOODLAND' in i or 'LEGACY' in i)]"
   ]
  },
  {
   "cell_type": "code",
   "execution_count": 144,
   "metadata": {},
   "outputs": [],
   "source": [
    "landClassDict['stDslList'] = dslUpdateList"
   ]
  },
  {
   "cell_type": "code",
   "execution_count": null,
   "metadata": {},
   "outputs": [],
   "source": []
  },
  {
   "cell_type": "code",
   "execution_count": 145,
   "metadata": {},
   "outputs": [],
   "source": [
    "stFwUpdateList = [i for i in landClassDict['stFwList'] if ('FISH' in i or 'WILDLIFE' in i or 'FW' in i)]"
   ]
  },
  {
   "cell_type": "code",
   "execution_count": 146,
   "metadata": {},
   "outputs": [],
   "source": [
    "stFwUpdateList = [i for i in stFwUpdateList if not (i == 'DEPART OF INTERIOR US FISH & WILDLIFE SE' or \n",
    "                                                    i == 'RIDGEFIELD WILDLIFE REFUGE & CITY OF RIDGEFIELD' or 'USA' in i)]"
   ]
  },
  {
   "cell_type": "code",
   "execution_count": 147,
   "metadata": {},
   "outputs": [],
   "source": [
    "landClassDict['stFwList'] = stFwUpdateList"
   ]
  },
  {
   "cell_type": "code",
   "execution_count": 148,
   "metadata": {},
   "outputs": [],
   "source": [
    "stForestUpdateList = [i for i in landClassDict['stForestList'] if ('FOREST' in i)]"
   ]
  },
  {
   "cell_type": "code",
   "execution_count": 149,
   "metadata": {},
   "outputs": [],
   "source": [
    "landClassDict['stForestList'] = stForestUpdateList"
   ]
  },
  {
   "cell_type": "code",
   "execution_count": 150,
   "metadata": {},
   "outputs": [],
   "source": [
    "stParkUpdateList = [i for i in landClassDict['stParkList'] if ('PARK' in i or 'RECREATION' in i or 'P&R' in i or 'PR' in i)]"
   ]
  },
  {
   "cell_type": "code",
   "execution_count": 151,
   "metadata": {},
   "outputs": [],
   "source": [
    "stParkUpdateList = [i for i in stParkUpdateList if not ('CITY' in i or 'COUNTY' in i or 'PORTLAND' in i or 'PROGRAM' in i or\n",
    "                                                    i == 'PUBLIC PARK')]"
   ]
  },
  {
   "cell_type": "code",
   "execution_count": 152,
   "metadata": {},
   "outputs": [],
   "source": [
    "landClassDict['stParkList'] = stParkUpdateList"
   ]
  },
  {
   "cell_type": "code",
   "execution_count": null,
   "metadata": {},
   "outputs": [],
   "source": []
  },
  {
   "cell_type": "code",
   "execution_count": 153,
   "metadata": {},
   "outputs": [
    {
     "data": {
      "text/plain": [
       "dict_keys(['cityList', 'cityParkList', 'countyList', 'fedList', 'fedFwList', 'fedForestList', 'metroList', 'stList', 'stDnrList', 'stDslList', 'stFwList', 'stForestList', 'stParkList'])"
      ]
     },
     "execution_count": 153,
     "metadata": {},
     "output_type": "execute_result"
    }
   ],
   "source": [
    "landClassDict.keys()"
   ]
  },
  {
   "cell_type": "code",
   "execution_count": 154,
   "metadata": {},
   "outputs": [],
   "source": [
    "for key, value in landClassDict.items():\n",
    "    key = key.replace(\"List\", '').replace('st', 'STATE ').replace('city', 'CITY ').replace('county', 'COUNTY ').replace('fed', 'FED ')"
   ]
  },
  {
   "cell_type": "code",
   "execution_count": 155,
   "metadata": {},
   "outputs": [
    {
     "data": {
      "text/plain": [
       "dict_keys(['cityList', 'cityParkList', 'countyList', 'fedList', 'fedFwList', 'fedForestList', 'metroList', 'stList', 'stDnrList', 'stDslList', 'stFwList', 'stForestList', 'stParkList'])"
      ]
     },
     "execution_count": 155,
     "metadata": {},
     "output_type": "execute_result"
    }
   ],
   "source": [
    "landClassDict.keys()"
   ]
  },
  {
   "cell_type": "code",
   "execution_count": null,
   "metadata": {},
   "outputs": [],
   "source": [
    "\n"
   ]
  },
  {
   "cell_type": "code",
   "execution_count": 156,
   "metadata": {},
   "outputs": [
    {
     "data": {
      "text/html": [
       "<h2>Output</h2>C:\\Users\\Ricardo\\Desktop\\PCC\\Internship\\UpdatedCountyTaxLots\\TaxLots\\TaxLots.gdb\\publicLandsFloodplain<h2>Messages</h2>Start Time: Sunday, November 29, 2020 11:47:42 AM<br/>Adding OwnerClass to publicLandsFloodplain...<br/>Succeeded at Sunday, November 29, 2020 11:47:42 AM (Elapsed Time: 0.48 seconds)<br/><style>.rendered_html td, .rendered_html th {text-align: left;}.rendered_html tbody {border: 1px solid black;}</style>"
      ],
      "text/plain": [
       "<Result 'C:\\\\Users\\\\Ricardo\\\\Desktop\\\\PCC\\\\Internship\\\\UpdatedCountyTaxLots\\\\TaxLots\\\\TaxLots.gdb\\\\publicLandsFloodplain'>"
      ]
     },
     "execution_count": 156,
     "metadata": {},
     "output_type": "execute_result"
    }
   ],
   "source": [
    "arcpy.AddField_management(pubLands, 'OwnerClass', 'TEXT', field_length = 100)"
   ]
  },
  {
   "cell_type": "code",
   "execution_count": 157,
   "metadata": {},
   "outputs": [],
   "source": [
    "with arcpy.da.UpdateCursor(pubLands, ['Land_Owner', 'OwnerClass']) as cursor:\n",
    "    for row in cursor:\n",
    "        for key, value in landClassDict.items():\n",
    "            #for item in value:\n",
    "            if row[0] in value:\n",
    "                key = (key.replace('List','').replace('st', 'STATE ').replace('county', 'COUNTY').replace('city', 'CITY ').replace('fed', 'FEDERAL '))\n",
    "                key = key.upper().strip().replace('FORESTATE', 'FOREST')\n",
    "                row[1] = key\n",
    "               \n",
    "        cursor.updateRow(row)"
   ]
  },
  {
   "cell_type": "code",
   "execution_count": 158,
   "metadata": {},
   "outputs": [],
   "source": [
    "#with arcpy.da.UpdateCursor('publicSinceLastUpdate', ['LandOwner', 'OwnerClass']) as cursor:\n",
    "    #for row in cursor:\n",
    "       # for key, value in landClassDict.items():\n",
    "            #for item in value:\n",
    "            #if row[0] in value:\n",
    "                #key = (key.replace('List','').replace('st', 'STATE ').replace('county', 'COUNTY').replace('city', 'CITY ').replace('fed', 'FEDERAL '))\n",
    "                #key = key.upper().strip().replace('FORESTATE', 'FOREST')\n",
    "                #row[1] = key\n",
    "               \n",
    "        #cursor.updateRow(row)"
   ]
  },
  {
   "cell_type": "code",
   "execution_count": 159,
   "metadata": {},
   "outputs": [],
   "source": [
    "classes = unique_values(pubLands, 'OwnerClass')"
   ]
  },
  {
   "cell_type": "code",
   "execution_count": 160,
   "metadata": {},
   "outputs": [
    {
     "name": "stdout",
     "output_type": "stream",
     "text": [
      "['CITY', 'CITY PARK', 'COUNTY', 'FEDERAL', 'FEDERAL FW', 'METRO', 'STATE', 'STATE DNR', 'STATE DSL', 'STATE FOREST', 'STATE FW', 'STATE PARK']\n"
     ]
    }
   ],
   "source": [
    "print(classes)"
   ]
  },
  {
   "cell_type": "code",
   "execution_count": 161,
   "metadata": {},
   "outputs": [],
   "source": [
    "classDict = {'CITY': ['CITY', 'CITY PARK'], 'COUNTY': ['COUNTY'], 'FEDERAL': ['FEDERAL', 'FEDERAL FW'], 'METRO': ['METRO'],\n",
    "            'STATE':['STATE', 'STATE FOREST', 'STATE FW', 'STATE PARK', 'STATE DSL', 'STATE DNR']}"
   ]
  },
  {
   "cell_type": "code",
   "execution_count": 162,
   "metadata": {},
   "outputs": [],
   "source": [
    "fcUpdate = [r'OregonLambert\\PublicSinceLastUpdate',  \n",
    "            r'SphericalMercator\\PublicSinceLastUpdate_WGS']"
   ]
  },
  {
   "cell_type": "code",
   "execution_count": 163,
   "metadata": {},
   "outputs": [],
   "source": [
    "fcUpdate2 = []\n",
    "for fc in fcUpdate:\n",
    "    fcUpdate2.append(os.path.join(ws, fc))\n",
    "    "
   ]
  },
  {
   "cell_type": "code",
   "execution_count": 164,
   "metadata": {},
   "outputs": [],
   "source": [
    "fcUpdate = fcUpdate2"
   ]
  },
  {
   "cell_type": "code",
   "execution_count": 165,
   "metadata": {},
   "outputs": [
    {
     "data": {
      "text/plain": [
       "['C:\\\\Users\\\\Ricardo\\\\Desktop\\\\PCC\\\\Internship\\\\UpdatedCountyTaxLots\\\\TaxLots\\\\TaxLots.gdb\\\\OregonLambert\\\\PublicSinceLastUpdate',\n",
       " 'C:\\\\Users\\\\Ricardo\\\\Desktop\\\\PCC\\\\Internship\\\\UpdatedCountyTaxLots\\\\TaxLots\\\\TaxLots.gdb\\\\SphericalMercator\\\\PublicSinceLastUpdate_WGS']"
      ]
     },
     "execution_count": 165,
     "metadata": {},
     "output_type": "execute_result"
    }
   ],
   "source": [
    "fcUpdate"
   ]
  },
  {
   "cell_type": "code",
   "execution_count": 166,
   "metadata": {},
   "outputs": [
    {
     "data": {
      "text/html": [
       "<h2>Output</h2>C:\\Users\\Ricardo\\Desktop\\PCC\\Internship\\UpdatedCountyTaxLots\\TaxLots\\TaxLots.gdb\\publicLandsFloodplain<h2>Messages</h2>Start Time: Sunday, November 29, 2020 11:47:43 AM<br/>Adding OwnerSuperClass to publicLandsFloodplain...<br/>Succeeded at Sunday, November 29, 2020 11:47:43 AM (Elapsed Time: 0.31 seconds)<br/><style>.rendered_html td, .rendered_html th {text-align: left;}.rendered_html tbody {border: 1px solid black;}</style>"
      ],
      "text/plain": [
       "<Result 'C:\\\\Users\\\\Ricardo\\\\Desktop\\\\PCC\\\\Internship\\\\UpdatedCountyTaxLots\\\\TaxLots\\\\TaxLots.gdb\\\\publicLandsFloodplain'>"
      ]
     },
     "execution_count": 166,
     "metadata": {},
     "output_type": "execute_result"
    }
   ],
   "source": [
    "arcpy.AddField_management(pubLands, 'OwnerSuperClass', 'TEXT', field_length = 100)"
   ]
  },
  {
   "cell_type": "code",
   "execution_count": 167,
   "metadata": {},
   "outputs": [],
   "source": [
    " with arcpy.da.UpdateCursor(pubLands, ['OwnerClass', 'OwnerSuperClass']) as cursor:\n",
    "        for row in cursor:\n",
    "            for key, value in classDict.items():\n",
    "            \n",
    "                if row[0] in value:\n",
    "            \n",
    "                    row[1] = key\n",
    "               \n",
    "            cursor.updateRow(row)"
   ]
  },
  {
   "cell_type": "markdown",
   "metadata": {},
   "source": [
    "# Next Script is Priv/Public Layers"
   ]
  }
 ],
 "metadata": {
  "kernelspec": {
   "display_name": "Python 3",
   "language": "python",
   "name": "python3"
  },
  "language_info": {
   "codemirror_mode": {
    "name": "ipython",
    "version": 3
   },
   "file_extension": ".py",
   "mimetype": "text/x-python",
   "name": "python",
   "nbconvert_exporter": "python",
   "pygments_lexer": "ipython3",
   "version": "3.7.9"
  }
 },
 "nbformat": 4,
 "nbformat_minor": 4
}
